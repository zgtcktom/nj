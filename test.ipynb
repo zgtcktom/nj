{
 "cells": [
  {
   "cell_type": "code",
   "execution_count": 2,
   "id": "359ae06e",
   "metadata": {},
   "outputs": [],
   "source": [
    "import numpy as np"
   ]
  },
  {
   "cell_type": "code",
   "execution_count": 3,
   "id": "5317eff3",
   "metadata": {},
   "outputs": [
    {
     "data": {
      "text/plain": [
       "array([[ 0,  1,  2,  3,  4,  5,  6],\n",
       "       [ 7,  8,  9, 10, 11, 12, 13],\n",
       "       [14, 15, 16, 17, 18, 19, 20],\n",
       "       [21, 22, 23, 24, 25, 26, 27],\n",
       "       [28, 29, 30, 31, 32, 33, 34]])"
      ]
     },
     "execution_count": 3,
     "metadata": {},
     "output_type": "execute_result"
    }
   ],
   "source": [
    "y = np.arange(35).reshape(5, 7)\n",
    "y"
   ]
  },
  {
   "cell_type": "code",
   "execution_count": 4,
   "id": "f3071c81",
   "metadata": {},
   "outputs": [
    {
     "data": {
      "text/plain": [
       "array([ 0, 15, 30])"
      ]
     },
     "execution_count": 4,
     "metadata": {},
     "output_type": "execute_result"
    }
   ],
   "source": [
    "y[np.array([0, 2, 4]), np.array([0, 1, 2])]"
   ]
  },
  {
   "cell_type": "code",
   "execution_count": 13,
   "id": "d629ce01",
   "metadata": {},
   "outputs": [
    {
     "data": {
      "text/plain": [
       "array([[[[ 0,  1,  2,  3,  4,  5,  6],\n",
       "         [ 7,  8,  9, 10, 11, 12, 13]],\n",
       "\n",
       "        [[14, 15, 16, 17, 18, 19, 20],\n",
       "         [ 7,  8,  9, 10, 11, 12, 13]],\n",
       "\n",
       "        [[28, 29, 30, 31, 32, 33, 34],\n",
       "         [ 7,  8,  9, 10, 11, 12, 13]]]])"
      ]
     },
     "execution_count": 13,
     "metadata": {},
     "output_type": "execute_result"
    }
   ],
   "source": [
    "y[np.array([[[0, 1], [2, 1], [4, 1]]])]"
   ]
  },
  {
   "cell_type": "code",
   "execution_count": 12,
   "id": "7e7cd6b9",
   "metadata": {},
   "outputs": [
    {
     "data": {
      "text/plain": [
       "array([[[ 0,  8],\n",
       "        [14,  8],\n",
       "        [28,  8]]])"
      ]
     },
     "execution_count": 12,
     "metadata": {},
     "output_type": "execute_result"
    }
   ],
   "source": [
    "y[np.array([[[0, 1], [2, 1], [4, 1]]]), np.array([0, 1])]"
   ]
  },
  {
   "cell_type": "code",
   "execution_count": 18,
   "id": "9b28c7a3",
   "metadata": {},
   "outputs": [
    {
     "data": {
      "text/plain": [
       "(array([[0],\n",
       "        [2],\n",
       "        [4]]),\n",
       " array([[0, 1, 2]]))"
      ]
     },
     "execution_count": 18,
     "metadata": {},
     "output_type": "execute_result"
    }
   ],
   "source": [
    "np.ix_(np.array([0, 2, 4]), np.array([0, 1, 2]))"
   ]
  },
  {
   "cell_type": "code",
   "execution_count": 80,
   "id": "ba311334",
   "metadata": {},
   "outputs": [
    {
     "data": {
      "text/plain": [
       "((5, 7), (1, 3, 2, 7), (1, 3, 2))"
      ]
     },
     "execution_count": 80,
     "metadata": {},
     "output_type": "execute_result"
    }
   ],
   "source": [
    "x = np.array([[[0, 1], [2, 1], [4, 1]]])\n",
    "y.shape, y[x].shape, x.shape"
   ]
  },
  {
   "cell_type": "code",
   "execution_count": 81,
   "id": "4ba1538d",
   "metadata": {},
   "outputs": [
    {
     "data": {
      "text/plain": [
       "(3,)"
      ]
     },
     "execution_count": 81,
     "metadata": {},
     "output_type": "execute_result"
    }
   ],
   "source": [
    "y[np.array([0, 2, 4]), np.array([0, 1, 2])].shape"
   ]
  },
  {
   "cell_type": "code",
   "execution_count": 82,
   "id": "84c1d970",
   "metadata": {},
   "outputs": [
    {
     "data": {
      "text/plain": [
       "array([[ 0,  1,  2],\n",
       "       [14, 15, 16],\n",
       "       [28, 29, 30]])"
      ]
     },
     "execution_count": 82,
     "metadata": {},
     "output_type": "execute_result"
    }
   ],
   "source": [
    "y[np.array([[0], [2], [4]]), np.array([0, 1, 2])]"
   ]
  },
  {
   "cell_type": "code",
   "execution_count": 83,
   "id": "32d5c8c8",
   "metadata": {},
   "outputs": [
    {
     "data": {
      "text/plain": [
       "((3, 1), (3,))"
      ]
     },
     "execution_count": 83,
     "metadata": {},
     "output_type": "execute_result"
    }
   ],
   "source": [
    "np.array([[0], [2], [4]]).shape, np.array([0, 1, 2]).shape"
   ]
  },
  {
   "cell_type": "code",
   "execution_count": 135,
   "id": "8e7aa1d2",
   "metadata": {},
   "outputs": [
    {
     "data": {
      "text/plain": [
       "((3, 6, 1),\n",
       " array([[[ 0],\n",
       "         [ 5],\n",
       "         [10],\n",
       "         [15],\n",
       "         [20],\n",
       "         [25]],\n",
       " \n",
       "        [[62],\n",
       "         [67],\n",
       "         [72],\n",
       "         [77],\n",
       "         [82],\n",
       "         [87]],\n",
       " \n",
       "        [[34],\n",
       "         [39],\n",
       "         [44],\n",
       "         [49],\n",
       "         [54],\n",
       "         [59]]]),\n",
       " (3, 6, 1))"
      ]
     },
     "execution_count": 135,
     "metadata": {},
     "output_type": "execute_result"
    }
   ],
   "source": [
    "x = np.arange(120).reshape(4, 6, 5, 1)\n",
    "a = x[np.array([0, 2, 1]), :, np.array([0, 2, 4]), :]\n",
    "a.shape, a, np.array([x[0, :, 0, :],x[2, :,2, :],x[1, :, 4, :]]).shape"
   ]
  },
  {
   "cell_type": "code",
   "execution_count": 136,
   "id": "fc813e2b",
   "metadata": {},
   "outputs": [
    {
     "data": {
      "text/plain": [
       "((3, 5, 1),\n",
       " array([[[ 0],\n",
       "         [ 1],\n",
       "         [ 2],\n",
       "         [ 3],\n",
       "         [ 4]],\n",
       " \n",
       "        [[70],\n",
       "         [71],\n",
       "         [72],\n",
       "         [73],\n",
       "         [74]],\n",
       " \n",
       "        [[35],\n",
       "         [36],\n",
       "         [37],\n",
       "         [38],\n",
       "         [39]]]))"
      ]
     },
     "execution_count": 136,
     "metadata": {},
     "output_type": "execute_result"
    }
   ],
   "source": [
    "a = x[np.array([0, 2, 1]), np.array([0, 2, 1]), :, :]\n",
    "a.shape, a"
   ]
  },
  {
   "cell_type": "code",
   "execution_count": 137,
   "id": "8b59f5ec",
   "metadata": {},
   "outputs": [
    {
     "data": {
      "text/plain": [
       "((4, 3, 1),\n",
       " array([[[  0],\n",
       "         [ 12],\n",
       "         [  9]],\n",
       " \n",
       "        [[ 30],\n",
       "         [ 42],\n",
       "         [ 39]],\n",
       " \n",
       "        [[ 60],\n",
       "         [ 72],\n",
       "         [ 69]],\n",
       " \n",
       "        [[ 90],\n",
       "         [102],\n",
       "         [ 99]]]))"
      ]
     },
     "execution_count": 137,
     "metadata": {},
     "output_type": "execute_result"
    }
   ],
   "source": [
    "a = x[:, np.array([0, 2, 1]), np.array([0, 2, 4]), :]\n",
    "a.shape, a"
   ]
  },
  {
   "cell_type": "code",
   "execution_count": 155,
   "id": "7f0c061e",
   "metadata": {},
   "outputs": [
    {
     "data": {
      "text/plain": [
       "array([[[  0],\n",
       "        [ 30],\n",
       "        [ 60],\n",
       "        [ 90]],\n",
       "\n",
       "       [[ 12],\n",
       "        [ 42],\n",
       "        [ 72],\n",
       "        [102]],\n",
       "\n",
       "       [[  9],\n",
       "        [ 39],\n",
       "        [ 69],\n",
       "        [ 99]]])"
      ]
     },
     "execution_count": 155,
     "metadata": {},
     "output_type": "execute_result"
    }
   ],
   "source": [
    "np.array([x[:, 0, 0, :], x[:, 2, 2, :], x[:, 1, 4, :]])"
   ]
  },
  {
   "cell_type": "code",
   "execution_count": 149,
   "id": "c2d9d2d4",
   "metadata": {},
   "outputs": [
    {
     "data": {
      "text/plain": [
       "array([[  0,  12,   9],\n",
       "       [ 30,  42,  39],\n",
       "       [ 60,  72,  69],\n",
       "       [ 90, 102,  99]])"
      ]
     },
     "execution_count": 149,
     "metadata": {},
     "output_type": "execute_result"
    }
   ],
   "source": [
    "np.concatenate([x[:, 0, 0, :], x[:, 2, 2, :], x[:, 1, 4, :]], axis=1)"
   ]
  },
  {
   "cell_type": "code",
   "execution_count": 156,
   "id": "621a4ee3",
   "metadata": {},
   "outputs": [
    {
     "data": {
      "text/plain": [
       "((3, 4, 5),\n",
       " array([[[  0,   1,   2,   3,   4],\n",
       "         [ 30,  31,  32,  33,  34],\n",
       "         [ 60,  61,  62,  63,  64],\n",
       "         [ 90,  91,  92,  93,  94]],\n",
       " \n",
       "        [[ 10,  11,  12,  13,  14],\n",
       "         [ 40,  41,  42,  43,  44],\n",
       "         [ 70,  71,  72,  73,  74],\n",
       "         [100, 101, 102, 103, 104]],\n",
       " \n",
       "        [[  5,   6,   7,   8,   9],\n",
       "         [ 35,  36,  37,  38,  39],\n",
       "         [ 65,  66,  67,  68,  69],\n",
       "         [ 95,  96,  97,  98,  99]]]))"
      ]
     },
     "execution_count": 156,
     "metadata": {},
     "output_type": "execute_result"
    }
   ],
   "source": [
    "a = x[:, np.array([0, 2, 1]), :, np.array([0, 0, 0])]\n",
    "a.shape, a"
   ]
  },
  {
   "cell_type": "code",
   "execution_count": 157,
   "id": "06a7e887",
   "metadata": {},
   "outputs": [
    {
     "data": {
      "text/plain": [
       "((4, 6, 3),\n",
       " array([[[  0,   2,   1],\n",
       "         [  5,   7,   6],\n",
       "         [ 10,  12,  11],\n",
       "         [ 15,  17,  16],\n",
       "         [ 20,  22,  21],\n",
       "         [ 25,  27,  26]],\n",
       " \n",
       "        [[ 30,  32,  31],\n",
       "         [ 35,  37,  36],\n",
       "         [ 40,  42,  41],\n",
       "         [ 45,  47,  46],\n",
       "         [ 50,  52,  51],\n",
       "         [ 55,  57,  56]],\n",
       " \n",
       "        [[ 60,  62,  61],\n",
       "         [ 65,  67,  66],\n",
       "         [ 70,  72,  71],\n",
       "         [ 75,  77,  76],\n",
       "         [ 80,  82,  81],\n",
       "         [ 85,  87,  86]],\n",
       " \n",
       "        [[ 90,  92,  91],\n",
       "         [ 95,  97,  96],\n",
       "         [100, 102, 101],\n",
       "         [105, 107, 106],\n",
       "         [110, 112, 111],\n",
       "         [115, 117, 116]]]))"
      ]
     },
     "execution_count": 157,
     "metadata": {},
     "output_type": "execute_result"
    }
   ],
   "source": [
    "a = x[:, :, np.array([0, 2, 1]), np.array([0, 0, 0])]\n",
    "a.shape, a"
   ]
  },
  {
   "cell_type": "code",
   "execution_count": 140,
   "id": "a8d80b0b",
   "metadata": {},
   "outputs": [
    {
     "data": {
      "text/plain": [
       "((3, 6, 5),\n",
       " array([[[ 0,  1,  2,  3,  4],\n",
       "         [ 5,  6,  7,  8,  9],\n",
       "         [10, 11, 12, 13, 14],\n",
       "         [15, 16, 17, 18, 19],\n",
       "         [20, 21, 22, 23, 24],\n",
       "         [25, 26, 27, 28, 29]],\n",
       " \n",
       "        [[60, 61, 62, 63, 64],\n",
       "         [65, 66, 67, 68, 69],\n",
       "         [70, 71, 72, 73, 74],\n",
       "         [75, 76, 77, 78, 79],\n",
       "         [80, 81, 82, 83, 84],\n",
       "         [85, 86, 87, 88, 89]],\n",
       " \n",
       "        [[30, 31, 32, 33, 34],\n",
       "         [35, 36, 37, 38, 39],\n",
       "         [40, 41, 42, 43, 44],\n",
       "         [45, 46, 47, 48, 49],\n",
       "         [50, 51, 52, 53, 54],\n",
       "         [55, 56, 57, 58, 59]]]))"
      ]
     },
     "execution_count": 140,
     "metadata": {},
     "output_type": "execute_result"
    }
   ],
   "source": [
    "a = x[np.array([0, 2, 1]), :, :, np.array([0, 0, 0])]\n",
    "a.shape, a"
   ]
  },
  {
   "cell_type": "code",
   "execution_count": 174,
   "id": "8d7d199d",
   "metadata": {},
   "outputs": [
    {
     "data": {
      "text/plain": [
       "((3, 5),\n",
       " array([[ 0,  1,  2,  3,  4],\n",
       "        [70, 71, 72, 73, 74],\n",
       "        [35, 36, 37, 38, 39]]))"
      ]
     },
     "execution_count": 174,
     "metadata": {},
     "output_type": "execute_result"
    }
   ],
   "source": [
    "a = x[np.array([0, 2, 1]), np.array([0, 2, 1]), :, 0]\n",
    "a.shape, a"
   ]
  },
  {
   "cell_type": "code",
   "execution_count": 132,
   "id": "7f4a8ac8",
   "metadata": {},
   "outputs": [
    {
     "data": {
      "text/plain": [
       "((3, 6, 5),\n",
       " array([[[ 0,  1,  2,  3,  4],\n",
       "         [ 5,  6,  7,  8,  9],\n",
       "         [10, 11, 12, 13, 14],\n",
       "         [15, 16, 17, 18, 19],\n",
       "         [20, 21, 22, 23, 24],\n",
       "         [25, 26, 27, 28, 29]],\n",
       " \n",
       "        [[60, 61, 62, 63, 64],\n",
       "         [65, 66, 67, 68, 69],\n",
       "         [70, 71, 72, 73, 74],\n",
       "         [75, 76, 77, 78, 79],\n",
       "         [80, 81, 82, 83, 84],\n",
       "         [85, 86, 87, 88, 89]],\n",
       " \n",
       "        [[30, 31, 32, 33, 34],\n",
       "         [35, 36, 37, 38, 39],\n",
       "         [40, 41, 42, 43, 44],\n",
       "         [45, 46, 47, 48, 49],\n",
       "         [50, 51, 52, 53, 54],\n",
       "         [55, 56, 57, 58, 59]]]))"
      ]
     },
     "execution_count": 132,
     "metadata": {},
     "output_type": "execute_result"
    }
   ],
   "source": [
    "a = x[np.array([0, 2, 1]), :, :, 0]\n",
    "a.shape, a"
   ]
  },
  {
   "cell_type": "code",
   "execution_count": 133,
   "id": "e3f77618",
   "metadata": {},
   "outputs": [
    {
     "data": {
      "text/plain": [
       "(6, 5)"
      ]
     },
     "execution_count": 133,
     "metadata": {},
     "output_type": "execute_result"
    }
   ],
   "source": [
    "x[0, :, :, 0].shape"
   ]
  },
  {
   "cell_type": "code",
   "execution_count": 134,
   "id": "c3543603",
   "metadata": {},
   "outputs": [
    {
     "data": {
      "text/plain": [
       "array([[[ 0,  1,  2,  3,  4],\n",
       "        [ 5,  6,  7,  8,  9],\n",
       "        [10, 11, 12, 13, 14],\n",
       "        [15, 16, 17, 18, 19],\n",
       "        [20, 21, 22, 23, 24],\n",
       "        [25, 26, 27, 28, 29]],\n",
       "\n",
       "       [[60, 61, 62, 63, 64],\n",
       "        [65, 66, 67, 68, 69],\n",
       "        [70, 71, 72, 73, 74],\n",
       "        [75, 76, 77, 78, 79],\n",
       "        [80, 81, 82, 83, 84],\n",
       "        [85, 86, 87, 88, 89]],\n",
       "\n",
       "       [[30, 31, 32, 33, 34],\n",
       "        [35, 36, 37, 38, 39],\n",
       "        [40, 41, 42, 43, 44],\n",
       "        [45, 46, 47, 48, 49],\n",
       "        [50, 51, 52, 53, 54],\n",
       "        [55, 56, 57, 58, 59]]])"
      ]
     },
     "execution_count": 134,
     "metadata": {},
     "output_type": "execute_result"
    }
   ],
   "source": [
    "np.concatenate([x[None, 0, :, :, 0], x[None, 2, :, :, 0], x[None, 1, :, :, 0]])"
   ]
  },
  {
   "cell_type": "code",
   "execution_count": 178,
   "id": "13141114",
   "metadata": {},
   "outputs": [
    {
     "data": {
      "text/plain": [
       "array([21, 22, 23, 24, 25, 26, 27, 28, 29, 30, 31, 32, 33, 34])"
      ]
     },
     "execution_count": 178,
     "metadata": {},
     "output_type": "execute_result"
    }
   ],
   "source": [
    "a = np.arange(35).reshape(5, 7, 1)\n",
    "b = a > 20\n",
    "a[np.where(b)]"
   ]
  },
  {
   "cell_type": "code",
   "execution_count": 180,
   "id": "14483d7b",
   "metadata": {},
   "outputs": [
    {
     "data": {
      "text/plain": [
       "array([[[ 0,  1,  2,  3,  4,  5,  6],\n",
       "        [28, 29, 30, 31, 32, 33, 34]]])"
      ]
     },
     "execution_count": 180,
     "metadata": {},
     "output_type": "execute_result"
    }
   ],
   "source": [
    "a[np.where([True, False, False, False, True]), :, 0]"
   ]
  },
  {
   "cell_type": "code",
   "execution_count": 181,
   "id": "d0c4e49c",
   "metadata": {},
   "outputs": [
    {
     "data": {
      "text/plain": [
       "array([[ 0,  1,  2,  3,  4,  5,  6],\n",
       "       [28, 29, 30, 31, 32, 33, 34]])"
      ]
     },
     "execution_count": 181,
     "metadata": {},
     "output_type": "execute_result"
    }
   ],
   "source": [
    "a[[0, 4], :, 0]"
   ]
  },
  {
   "cell_type": "code",
   "execution_count": 182,
   "id": "512a1e03",
   "metadata": {},
   "outputs": [
    {
     "data": {
      "text/plain": [
       "(array([0, 4], dtype=int64),)"
      ]
     },
     "execution_count": 182,
     "metadata": {},
     "output_type": "execute_result"
    }
   ],
   "source": [
    "np.where([True, False, False, False, True])"
   ]
  },
  {
   "cell_type": "code",
   "execution_count": 196,
   "id": "f2d77c63",
   "metadata": {},
   "outputs": [
    {
     "data": {
      "text/plain": [
       "3.0"
      ]
     },
     "execution_count": 196,
     "metadata": {},
     "output_type": "execute_result"
    }
   ],
   "source": [
    "xp = [6, 4, 5]\n",
    "fp = [3, 2, 0]\n",
    "np.interp(4.5, xp, fp)"
   ]
  },
  {
   "cell_type": "code",
   "execution_count": 198,
   "id": "80d42ec5",
   "metadata": {},
   "outputs": [
    {
     "data": {
      "text/plain": [
       "array([3. , 3. , 2.5, 1. , 0. ])"
      ]
     },
     "execution_count": 198,
     "metadata": {},
     "output_type": "execute_result"
    }
   ],
   "source": [
    "xp = [1, 2, 3]\n",
    "fp = [3, 2, 0]\n",
    "np.interp([0, 1, 1.5, 2.5, 3.14], xp, fp)"
   ]
  },
  {
   "cell_type": "code",
   "execution_count": 202,
   "id": "c76487a6",
   "metadata": {},
   "outputs": [
    {
     "data": {
      "text/plain": [
       "array([[0.87522063, 0.67210925],\n",
       "       [0.47083469, 0.58052226],\n",
       "       [0.68566372, 0.16496162]])"
      ]
     },
     "execution_count": 202,
     "metadata": {},
     "output_type": "execute_result"
    }
   ],
   "source": [
    "np.random.rand(3, 2)"
   ]
  },
  {
   "cell_type": "code",
   "execution_count": 206,
   "id": "efba17c5",
   "metadata": {},
   "outputs": [
    {
     "data": {
      "text/plain": [
       "array(0.86415155)"
      ]
     },
     "execution_count": 206,
     "metadata": {},
     "output_type": "execute_result"
    }
   ],
   "source": [
    "np.random.random_sample(tuple())"
   ]
  },
  {
   "cell_type": "code",
   "execution_count": 209,
   "id": "ea5bf4be",
   "metadata": {},
   "outputs": [
    {
     "data": {
      "text/plain": [
       "array([0.6389156, 0.2539714])"
      ]
     },
     "execution_count": 209,
     "metadata": {},
     "output_type": "execute_result"
    }
   ],
   "source": [
    "np.random.random_sample(2)"
   ]
  },
  {
   "cell_type": "code",
   "execution_count": 212,
   "id": "bd1dff13",
   "metadata": {},
   "outputs": [
    {
     "ename": "ValueError",
     "evalue": "Cannot take a larger sample than population when 'replace=False'",
     "output_type": "error",
     "traceback": [
      "\u001b[1;31m---------------------------------------------------------------------------\u001b[0m",
      "\u001b[1;31mValueError\u001b[0m                                Traceback (most recent call last)",
      "Cell \u001b[1;32mIn [212], line 1\u001b[0m\n\u001b[1;32m----> 1\u001b[0m \u001b[43mnp\u001b[49m\u001b[38;5;241;43m.\u001b[39;49m\u001b[43mrandom\u001b[49m\u001b[38;5;241;43m.\u001b[39;49m\u001b[43mchoice\u001b[49m\u001b[43m(\u001b[49m\u001b[38;5;241;43m2\u001b[39;49m\u001b[43m,\u001b[49m\u001b[43m \u001b[49m\u001b[38;5;241;43m3\u001b[39;49m\u001b[43m,\u001b[49m\u001b[43m \u001b[49m\u001b[43mreplace\u001b[49m\u001b[38;5;241;43m=\u001b[39;49m\u001b[38;5;28;43;01mFalse\u001b[39;49;00m\u001b[43m)\u001b[49m\n",
      "File \u001b[1;32mmtrand.pyx:965\u001b[0m, in \u001b[0;36mnumpy.random.mtrand.RandomState.choice\u001b[1;34m()\u001b[0m\n",
      "\u001b[1;31mValueError\u001b[0m: Cannot take a larger sample than population when 'replace=False'"
     ]
    }
   ],
   "source": [
    "np.random.choice(2, 3, replace=False)"
   ]
  },
  {
   "cell_type": "code",
   "execution_count": 214,
   "id": "5b571ec3",
   "metadata": {},
   "outputs": [
    {
     "ename": "ValueError",
     "evalue": "a must be 1-dimensional",
     "output_type": "error",
     "traceback": [
      "\u001b[1;31m---------------------------------------------------------------------------\u001b[0m",
      "\u001b[1;31mValueError\u001b[0m                                Traceback (most recent call last)",
      "Cell \u001b[1;32mIn [214], line 1\u001b[0m\n\u001b[1;32m----> 1\u001b[0m \u001b[43mnp\u001b[49m\u001b[38;5;241;43m.\u001b[39;49m\u001b[43mrandom\u001b[49m\u001b[38;5;241;43m.\u001b[39;49m\u001b[43mchoice\u001b[49m\u001b[43m(\u001b[49m\u001b[43m[\u001b[49m\u001b[43m[\u001b[49m\u001b[38;5;241;43m5\u001b[39;49m\u001b[43m]\u001b[49m\u001b[43m,\u001b[49m\u001b[43m \u001b[49m\u001b[43m[\u001b[49m\u001b[38;5;241;43m2\u001b[39;49m\u001b[43m]\u001b[49m\u001b[43m]\u001b[49m\u001b[43m,\u001b[49m\u001b[43m \u001b[49m\u001b[38;5;241;43m3\u001b[39;49m\u001b[43m)\u001b[49m\n",
      "File \u001b[1;32mmtrand.pyx:911\u001b[0m, in \u001b[0;36mnumpy.random.mtrand.RandomState.choice\u001b[1;34m()\u001b[0m\n",
      "\u001b[1;31mValueError\u001b[0m: a must be 1-dimensional"
     ]
    }
   ],
   "source": [
    "np.random.choice([[5], [2]], 3)"
   ]
  },
  {
   "cell_type": "code",
   "execution_count": 219,
   "id": "218b534f",
   "metadata": {},
   "outputs": [
    {
     "ename": "ValueError",
     "evalue": "'a' cannot be empty unless no samples are taken",
     "output_type": "error",
     "traceback": [
      "\u001b[1;31m---------------------------------------------------------------------------\u001b[0m",
      "\u001b[1;31mValueError\u001b[0m                                Traceback (most recent call last)",
      "Cell \u001b[1;32mIn [219], line 1\u001b[0m\n\u001b[1;32m----> 1\u001b[0m \u001b[43mnp\u001b[49m\u001b[38;5;241;43m.\u001b[39;49m\u001b[43mrandom\u001b[49m\u001b[38;5;241;43m.\u001b[39;49m\u001b[43mchoice\u001b[49m\u001b[43m(\u001b[49m\u001b[43m[\u001b[49m\u001b[43m]\u001b[49m\u001b[43m,\u001b[49m\u001b[43m \u001b[49m\u001b[38;5;241;43m3\u001b[39;49m\u001b[43m)\u001b[49m\n",
      "File \u001b[1;32mmtrand.pyx:915\u001b[0m, in \u001b[0;36mnumpy.random.mtrand.RandomState.choice\u001b[1;34m()\u001b[0m\n",
      "\u001b[1;31mValueError\u001b[0m: 'a' cannot be empty unless no samples are taken"
     ]
    }
   ],
   "source": [
    "np.random.choice([], 3)"
   ]
  },
  {
   "cell_type": "code",
   "execution_count": 220,
   "id": "409584c5",
   "metadata": {},
   "outputs": [
    {
     "ename": "ValueError",
     "evalue": "'a' and 'p' must have same size",
     "output_type": "error",
     "traceback": [
      "\u001b[1;31m---------------------------------------------------------------------------\u001b[0m",
      "\u001b[1;31mValueError\u001b[0m                                Traceback (most recent call last)",
      "Cell \u001b[1;32mIn [220], line 1\u001b[0m\n\u001b[1;32m----> 1\u001b[0m \u001b[43mnp\u001b[49m\u001b[38;5;241;43m.\u001b[39;49m\u001b[43mrandom\u001b[49m\u001b[38;5;241;43m.\u001b[39;49m\u001b[43mchoice\u001b[49m\u001b[43m(\u001b[49m\u001b[38;5;241;43m6\u001b[39;49m\u001b[43m,\u001b[49m\u001b[43m \u001b[49m\u001b[38;5;241;43m3\u001b[39;49m\u001b[43m,\u001b[49m\u001b[43m \u001b[49m\u001b[43mp\u001b[49m\u001b[38;5;241;43m=\u001b[39;49m\u001b[43m[\u001b[49m\u001b[38;5;241;43m0.1\u001b[39;49m\u001b[43m,\u001b[49m\u001b[43m \u001b[49m\u001b[38;5;241;43m0\u001b[39;49m\u001b[43m,\u001b[49m\u001b[43m \u001b[49m\u001b[38;5;241;43m0.3\u001b[39;49m\u001b[43m,\u001b[49m\u001b[43m \u001b[49m\u001b[38;5;241;43m0.6\u001b[39;49m\u001b[43m,\u001b[49m\u001b[43m \u001b[49m\u001b[38;5;241;43m0\u001b[39;49m\u001b[43m]\u001b[49m\u001b[43m)\u001b[49m\n",
      "File \u001b[1;32mmtrand.pyx:932\u001b[0m, in \u001b[0;36mnumpy.random.mtrand.RandomState.choice\u001b[1;34m()\u001b[0m\n",
      "\u001b[1;31mValueError\u001b[0m: 'a' and 'p' must have same size"
     ]
    }
   ],
   "source": [
    "np.random.choice(6, 3, p=[0.1, 0, 0.3, 0.6, 0])"
   ]
  },
  {
   "cell_type": "code",
   "execution_count": 223,
   "id": "957c1da2",
   "metadata": {},
   "outputs": [
    {
     "ename": "ValueError",
     "evalue": "'p' must be 1-dimensional",
     "output_type": "error",
     "traceback": [
      "\u001b[1;31m---------------------------------------------------------------------------\u001b[0m",
      "\u001b[1;31mValueError\u001b[0m                                Traceback (most recent call last)",
      "Cell \u001b[1;32mIn [223], line 1\u001b[0m\n\u001b[1;32m----> 1\u001b[0m \u001b[43mnp\u001b[49m\u001b[38;5;241;43m.\u001b[39;49m\u001b[43mrandom\u001b[49m\u001b[38;5;241;43m.\u001b[39;49m\u001b[43mchoice\u001b[49m\u001b[43m(\u001b[49m\u001b[38;5;241;43m6\u001b[39;49m\u001b[43m,\u001b[49m\u001b[43m \u001b[49m\u001b[38;5;241;43m3\u001b[39;49m\u001b[43m,\u001b[49m\u001b[43m \u001b[49m\u001b[43mp\u001b[49m\u001b[38;5;241;43m=\u001b[39;49m\u001b[43m[\u001b[49m\u001b[43m[\u001b[49m\u001b[38;5;241;43m0.1\u001b[39;49m\u001b[43m,\u001b[49m\u001b[43m \u001b[49m\u001b[38;5;241;43m0\u001b[39;49m\u001b[43m,\u001b[49m\u001b[43m \u001b[49m\u001b[38;5;241;43m0.3\u001b[39;49m\u001b[43m,\u001b[49m\u001b[43m \u001b[49m\u001b[38;5;241;43m0.6\u001b[39;49m\u001b[43m,\u001b[49m\u001b[43m \u001b[49m\u001b[38;5;241;43m0\u001b[39;49m\u001b[43m]\u001b[49m\u001b[43m]\u001b[49m\u001b[43m)\u001b[49m\n",
      "File \u001b[1;32mmtrand.pyx:930\u001b[0m, in \u001b[0;36mnumpy.random.mtrand.RandomState.choice\u001b[1;34m()\u001b[0m\n",
      "\u001b[1;31mValueError\u001b[0m: 'p' must be 1-dimensional"
     ]
    }
   ],
   "source": [
    "np.random.choice(6, 3, p=[[0.1, 0, 0.3, 0.6, 0]])"
   ]
  },
  {
   "cell_type": "code",
   "execution_count": 226,
   "id": "eafb5091",
   "metadata": {},
   "outputs": [
    {
     "ename": "ValueError",
     "evalue": "Fewer non-zero entries in p than size",
     "output_type": "error",
     "traceback": [
      "\u001b[1;31m---------------------------------------------------------------------------\u001b[0m",
      "\u001b[1;31mValueError\u001b[0m                                Traceback (most recent call last)",
      "Cell \u001b[1;32mIn [226], line 1\u001b[0m\n\u001b[1;32m----> 1\u001b[0m \u001b[43mnp\u001b[49m\u001b[38;5;241;43m.\u001b[39;49m\u001b[43mrandom\u001b[49m\u001b[38;5;241;43m.\u001b[39;49m\u001b[43mchoice\u001b[49m\u001b[43m(\u001b[49m\u001b[38;5;241;43m5\u001b[39;49m\u001b[43m,\u001b[49m\u001b[43m \u001b[49m\u001b[38;5;241;43m5\u001b[39;49m\u001b[43m,\u001b[49m\u001b[43m \u001b[49m\u001b[43mreplace\u001b[49m\u001b[38;5;241;43m=\u001b[39;49m\u001b[38;5;28;43;01mFalse\u001b[39;49;00m\u001b[43m,\u001b[49m\u001b[43m \u001b[49m\u001b[43mp\u001b[49m\u001b[38;5;241;43m=\u001b[39;49m\u001b[43m[\u001b[49m\u001b[38;5;241;43m0.2\u001b[39;49m\u001b[43m,\u001b[49m\u001b[43m \u001b[49m\u001b[38;5;241;43m0.1\u001b[39;49m\u001b[43m,\u001b[49m\u001b[43m \u001b[49m\u001b[38;5;241;43m0.2\u001b[39;49m\u001b[43m,\u001b[49m\u001b[43m \u001b[49m\u001b[38;5;241;43m0\u001b[39;49m\u001b[43m,\u001b[49m\u001b[43m \u001b[49m\u001b[38;5;241;43m0.5\u001b[39;49m\u001b[43m]\u001b[49m\u001b[43m)\u001b[49m\n",
      "File \u001b[1;32mmtrand.pyx:972\u001b[0m, in \u001b[0;36mnumpy.random.mtrand.RandomState.choice\u001b[1;34m()\u001b[0m\n",
      "\u001b[1;31mValueError\u001b[0m: Fewer non-zero entries in p than size"
     ]
    }
   ],
   "source": [
    "np.random.choice(5, 5, replace=False, p=[0.2, 0.1, 0.2, 0, 0.5])"
   ]
  },
  {
   "cell_type": "code",
   "execution_count": 230,
   "id": "3715371b",
   "metadata": {},
   "outputs": [
    {
     "ename": "ValueError",
     "evalue": "Fewer non-zero entries in p than size",
     "output_type": "error",
     "traceback": [
      "\u001b[1;31m---------------------------------------------------------------------------\u001b[0m",
      "\u001b[1;31mValueError\u001b[0m                                Traceback (most recent call last)",
      "Cell \u001b[1;32mIn [230], line 1\u001b[0m\n\u001b[1;32m----> 1\u001b[0m \u001b[43mnp\u001b[49m\u001b[38;5;241;43m.\u001b[39;49m\u001b[43mrandom\u001b[49m\u001b[38;5;241;43m.\u001b[39;49m\u001b[43mchoice\u001b[49m\u001b[43m(\u001b[49m\u001b[38;5;241;43m5\u001b[39;49m\u001b[43m,\u001b[49m\u001b[43m \u001b[49m\u001b[38;5;241;43m5\u001b[39;49m\u001b[43m,\u001b[49m\u001b[43m \u001b[49m\u001b[43mreplace\u001b[49m\u001b[38;5;241;43m=\u001b[39;49m\u001b[38;5;28;43;01mFalse\u001b[39;49;00m\u001b[43m,\u001b[49m\u001b[43m \u001b[49m\u001b[43mp\u001b[49m\u001b[38;5;241;43m=\u001b[39;49m\u001b[43m[\u001b[49m\u001b[38;5;241;43m1.0\u001b[39;49m\u001b[43m,\u001b[49m\u001b[43m \u001b[49m\u001b[38;5;241;43m0.0\u001b[39;49m\u001b[43m,\u001b[49m\u001b[43m \u001b[49m\u001b[38;5;241;43m0.0\u001b[39;49m\u001b[43m,\u001b[49m\u001b[43m \u001b[49m\u001b[38;5;241;43m0\u001b[39;49m\u001b[43m,\u001b[49m\u001b[43m \u001b[49m\u001b[38;5;241;43m0.0\u001b[39;49m\u001b[43m]\u001b[49m\u001b[43m)\u001b[49m\n",
      "File \u001b[1;32mmtrand.pyx:972\u001b[0m, in \u001b[0;36mnumpy.random.mtrand.RandomState.choice\u001b[1;34m()\u001b[0m\n",
      "\u001b[1;31mValueError\u001b[0m: Fewer non-zero entries in p than size"
     ]
    }
   ],
   "source": [
    "np.random.choice(5, 5, replace=False, p=[1.0, 0.0, 0.0, 0, 0.0])"
   ]
  },
  {
   "cell_type": "code",
   "execution_count": 235,
   "id": "73fd4d1f",
   "metadata": {},
   "outputs": [
    {
     "data": {
      "text/plain": [
       "array([ 0,  1,  2,  3,  4, 50, 60, 70, 80, 90])"
      ]
     },
     "execution_count": 235,
     "metadata": {},
     "output_type": "execute_result"
    }
   ],
   "source": [
    "a = np.arange(10)\n",
    "np.where(a < 5, a, 10*a)"
   ]
  },
  {
   "cell_type": "code",
   "execution_count": 275,
   "id": "144f512e",
   "metadata": {},
   "outputs": [
    {
     "data": {
      "text/plain": [
       "[array([[0],\n",
       "        [1],\n",
       "        [2],\n",
       "        [3],\n",
       "        [4]]),\n",
       " array([[0, 1, 2, 3, 4]])]"
      ]
     },
     "execution_count": 275,
     "metadata": {},
     "output_type": "execute_result"
    }
   ],
   "source": [
    "np.ogrid[0:5,0:5]"
   ]
  },
  {
   "cell_type": "code",
   "execution_count": 284,
   "id": "0ac6c18b",
   "metadata": {},
   "outputs": [
    {
     "data": {
      "text/plain": [
       "[array([[[3]],\n",
       " \n",
       "        [[4]]]),\n",
       " array([], shape=(1, 0, 1), dtype=int32),\n",
       " array([[[0]]])]"
      ]
     },
     "execution_count": 284,
     "metadata": {},
     "output_type": "execute_result"
    }
   ],
   "source": [
    "np.ogrid[3:5, 0:-5, 0:1]"
   ]
  },
  {
   "cell_type": "code",
   "execution_count": 285,
   "id": "a7a13060",
   "metadata": {},
   "outputs": [
    {
     "data": {
      "text/plain": [
       "[array([[[0]],\n",
       " \n",
       "        [[1]],\n",
       " \n",
       "        [[2]],\n",
       " \n",
       "        [[3]],\n",
       " \n",
       "        [[4]]]),\n",
       " array([[[0],\n",
       "         [1],\n",
       "         [2],\n",
       "         [3]]]),\n",
       " array([[[2, 3]]])]"
      ]
     },
     "execution_count": 285,
     "metadata": {},
     "output_type": "execute_result"
    }
   ],
   "source": [
    "np.ogrid[0:5, 0:4, 2:4]"
   ]
  },
  {
   "cell_type": "code",
   "execution_count": 286,
   "id": "3fd793e5",
   "metadata": {},
   "outputs": [
    {
     "data": {
      "text/plain": [
       "array([1, 2, 3, 0, 0, 4, 5, 6])"
      ]
     },
     "execution_count": 286,
     "metadata": {},
     "output_type": "execute_result"
    }
   ],
   "source": [
    "np.r_[np.array([1,2,3]), 0, 0, np.array([4,5,6])]"
   ]
  },
  {
   "cell_type": "code",
   "execution_count": 1,
   "id": "fc293b9f",
   "metadata": {},
   "outputs": [
    {
     "ename": "NameError",
     "evalue": "name 'np' is not defined",
     "output_type": "error",
     "traceback": [
      "\u001b[1;31m---------------------------------------------------------------------------\u001b[0m",
      "\u001b[1;31mNameError\u001b[0m                                 Traceback (most recent call last)",
      "Cell \u001b[1;32mIn [1], line 1\u001b[0m\n\u001b[1;32m----> 1\u001b[0m \u001b[43mnp\u001b[49m\u001b[38;5;241m.\u001b[39mconcatenate([np\u001b[38;5;241m.\u001b[39marray([\u001b[38;5;241m1\u001b[39m,\u001b[38;5;241m2\u001b[39m,\u001b[38;5;241m3\u001b[39m]), [\u001b[38;5;241m0\u001b[39m], [\u001b[38;5;241m0\u001b[39m], np\u001b[38;5;241m.\u001b[39marray([\u001b[38;5;241m4\u001b[39m,\u001b[38;5;241m5\u001b[39m,\u001b[38;5;241m6\u001b[39m])], axis\u001b[38;5;241m=\u001b[39m\u001b[38;5;241m0\u001b[39m)\n",
      "\u001b[1;31mNameError\u001b[0m: name 'np' is not defined"
     ]
    }
   ],
   "source": [
    "np.concatenate([np.array([1,2,3]), [0], [0], np.array([4,5,6])], axis=0)"
   ]
  },
  {
   "cell_type": "code",
   "execution_count": 3,
   "id": "30a7ac65",
   "metadata": {},
   "outputs": [
    {
     "data": {
      "text/plain": [
       "1"
      ]
     },
     "execution_count": 3,
     "metadata": {},
     "output_type": "execute_result"
    }
   ],
   "source": [
    "8**0"
   ]
  },
  {
   "cell_type": "code",
   "execution_count": 9,
   "id": "f57ca5c8",
   "metadata": {},
   "outputs": [
    {
     "data": {
      "text/plain": [
       "array([0, 0])"
      ]
     },
     "execution_count": 9,
     "metadata": {},
     "output_type": "execute_result"
    }
   ],
   "source": [
    "np.random.choice(1, 2, p=[1.0])\n"
   ]
  },
  {
   "cell_type": "code",
   "execution_count": 12,
   "id": "11520d83",
   "metadata": {},
   "outputs": [],
   "source": [
    "import seaborn as sns"
   ]
  },
  {
   "cell_type": "code",
   "execution_count": 207,
   "id": "8761005b",
   "metadata": {},
   "outputs": [
    {
     "data": {
      "text/plain": [
       "<AxesSubplot: ylabel='Count'>"
      ]
     },
     "execution_count": 207,
     "metadata": {},
     "output_type": "execute_result"
    },
    {
     "data": {
      "image/png": "[encoded data removed]",
      "text/plain": [
       "<Figure size 640x480 with 1 Axes>"
      ]
     },
     "metadata": {},
     "output_type": "display_data"
    }
   ],
   "source": [
    "sns.histplot(data=[\n",
    "4.5,0,0,0,5,1,5,1,3,0,5,3,0,1,0,5,3,4,0,5,0,3,0,5,3,0,5,0,0,4,0,0,1,5,1,3,0,3,1,0,3,1,5,4,5,0,0,3,4,0,0,0,0,3,0,3,1,3,1,3,0,5,5,3,0,5,3,5,5,0,4,3,5,3,5,0,5,5,3,5,4,5,1,0,0,3,5,5,5,4,5,3,0,5,5,0,0,1,3,0,1,4,3,0,3,3,0,5,3,1,0,4,5,4,5,5,5,3,4,0,4,1,4,3,0,0,0,0,5,4,3,0,5,0,4,0,0,3,0,0,4,0,5,5,0,5,1,5,5,5,4,0,0,0,5,4,5,4,5,0,0,5,3,5,5,5,3,5,3,5,3,0,3,5,3,0,0,1,0,1,3,3,3,4,1,5,5,0,0,3,0,0,4,3,5,3,5,0,0,5,3,5,0,0,0,0,5,5,3,5,4,0,0,1,3,0,3,3,0,5,5,5,0,0,5,5,5,0,5,3,4,3,5,0,1,1,1,0,3,0,0,3,3,5,5,5,5,4,0,1,4,5,0,1,0,5,3,0,4,5,0,5,0,0,3,0,5,5,0,1,4,1,5,1,0,4,0,1,5,3,3,0,1,0,0,3,0,0,4,4,3,4,0,3,3,4,5,0,0,3,4,5,3,4,5,0,3,5,5,5,4,4,4,0,0,1,0,0,3,5,3,5,0,1,5,0,5,0,5,4,5,0,5,4,3,5,0,3,0,3,5,3,5,0,5,4,0,0,4,3,3,0,3,4,0,3,3,1,5,5,3,4,4,5,5,5,5,4,3,4,0,5,3,3,5,5,5,3,3,3,0,1,5,0,3,5,0,0,0,5,5,0,4,0,4,5,3,4,3,0,5,3,3,5,5,4,0,5,0,4,4,5,4,3,4,5,0,0,1,0,0,3,0,5,0,5,0,4,0,1,4,3,1,1,4,5,0,0,0,4,5,0,3,5,0,0,5,5,4,3,4,0,3,3,4,0,3,5,1,0,3,3,3,1,1,4,4,5,0,5,1,4,5,4,0,3,5,0,3,5,3,0,3,3,3,4,0,0,0,3,0,4,5,0,5,4,3,0,0,1,1,4,0,0,4,4,1,4,3,1,4,0,3,4,4,0,5,4,0,5,5,5,4,3,5,4,0,3,0,3,0,4,5,0,3,4,5,5,0,0,5,5,0,5,3,0,5,5,3,4,0,5,0,4,0,0,5,3,5,4,0,0,5,3,4,5,3,1,0,0,5,1,5,0,0,5,3,3,5,0,1,5,4,4,0,5,0,5,3,5,4,0,4,1,0,5,4,5,4,1,0,0,4,5,0,0,5,5,5,3,5,5,5,3,5,5,5,3,4,4,0,3,0,3,3,3,0,0,5,3,3,5,5,3,0,5,3,5,5,4,3,1,4,5,3,3,4,4,3,0,3,0,5,0,3,0,0,5,5,0,5,3,0,4,0,5,4,4,5,0,5,0,0,0,5,0,0,0,5,5,3,4,0,5,3,0,4,4,3,3,3,0,5,0,0,3,3,3,0,0,0,4,0,3,3,0,3,3,0,5,3,3,3,1,4,3,4,1,5,4,5,3,0,5,0,4,3,0,4,3,0,1,4,4,0,4,3,5,5,4,5,1,0,5,3,5,5,0,5,0,3,0,0,4,5,0,3,0,5,3,1,5,0,0,1,5,0,4,0,4,0,0,3,5,0,3,0,4,0,3,3,0,5,5,0,0,5,5,3,3,0,5,0,4,0,3,3,4,5,3,3,0,4,0,1,3,3,1,3,3,0,3,0,0,4,0,0,0,0,5,5,3,5,5,0,5,5,5,3,3,5,3,5,3,5,0,5,5,5,1,0,3,1,5,4,3,5,5,5,3,4,1,0,4,0,4,0,5,0,5,5,0,0,5,1,0,0,5,5,5,4,5,0,3,0,3,0,5,4,0,0,5,0,5,0,5,0,0,4,5,3,0,0,3,0,5,3,5,5,3,4,5,5,0,0,5,5,5,5,5,5,0,5,3,0,0,5,3,5,0,5,4,4,0,0,0,3,0,5,0,5,5,3,0,4,5,0,5,4,0,4,4,3,5,0,5,5,5,3,5,4,5,1,3,3,0,0,0,3,1,0,1,0,4,4,5,0,4,5,0,5,4,5,5,3,4,3,1,0,0,0,0,0,5,5,4,4,0,0,0,5,5,5,0,0,0,3,5,0,5,5,0,5,0,5,5,3,4,0,0,4,3,0,0,3,1,3,3,1,5,5,3,4,3,5,5,0,0,3,5,3,0,3,0,5,4,3,5,1,5,4,0,3,0,4,3,3,4,5,5,0,5,0,4,0,4,5,1,3,0,5,3,5,5,0,0,5,5,0,4,4,5,5,5,5,0,5,3,5,4,3,5,3,0,3,0,0,3,0,3,0,1,0,3,5,0,5,5,1,3,0,4,3,0,0,4,5,4,4,4,5,3,0,4,5,0,5,1,5,5,0,4,0,4,0,4,5,1,0,5,3,4,3,5,4,0,3,3,4,4,0,3,3,1,5,1,4,5,0,0,5,0,3,1,1,4,5,0,1,4,3,3,0,4,3,0,4,5,5,0,4,0,0,3,5,5,3,3,5,0,0,3,5,0,0,4,4,0,5,0,0,5,5,0,3,0,3,4,5,4,0,1,5,0,0,5,5,4,0,4,3,4,4,0,0,0,3,4,5,0,0,0,4,0,0,3,3,5,0,0,5,5,5,0,0,5,3,4,5,5,3,1,3,5,0,1,5,0,5,3,4,4,0,0,3,5,4,5,5,3,0,0,0,5,5,5,4,5,3,5,1,1,0,3,0,0,3,3,5,4,0,3,4,3,0,0,1,0,5,0,1,4,0,3,0,4,5,4,4,0,5,1,5,0,5,5,5,5,0,4,5,0,0,3,1,5,0,0,5,1,3,5,3,5,5,0,5,5,0,0,1,0,4,4,1,3,5,3,5,0,0,5,5,5,4,5,0,3,3,1,1,0,5,3,5,3,5,5,0,3,5,3,5,5,1,5,5,5,5,5,0,0,0,5,4,0,0,5,3,0,5,0,3,3,5,5,3,5,0,0,0,5,3,0,4,5,4,4,0,0,0,0,0,5,4,0,5,5,5,4,5,0,5,0,0,5,3,5,3,3,3,3,0,5,3,0,4,0,5,0,0,0,1,0,5,0,0,5,5,3,0,0,3,5,0,0,0,0,0,5,0,3,3,3,3,3,0,4,0,5,4,0,0,3,3,4,4,0,0,5,3,3,0,4,3,4,5,4,5,3,0,5,5,5,5,0,5,4,4,0,5,0,0,5,4,0,0,3,0,4,5,0,5,5,0,3,0,0,0,3,0,5,0,1,5,4,0,5,3,0,3,0,4,0,3,5,3,4,4,0,4,0,0,4,0,3,4,0,5,1,3,4,3,3,0,0,5,3,3,5,0,3,5,3,3,0,5,0,0,3,3,3,0,3,4,0,3,0,3,3,5,4,4,5,0,5,0,0,5,3,0,3,3,5,3,5,0,0,0,3,3,3,1,5,3,3,0,0,1,0,3,0,3,4,1,4,0,1,3,5,5,4,4,0,3,0,0,0,5,5,5,0,0,0,1,5,3,3,3,5,5,3,3,3,0,0,5,0,5,0,0,5,0,0,0,0,5,4,5,5,0,5,0,1,3,0,1,0,3,0,4,0,0,5,0,0,0,5,3,0,0,4,5,1,0,3,0,0,3,3,0,5,0,1,5,0,3,4,3,0,5,5,5,0,0,3,0,5,0,1,0,5,4,0,5,4,0,5,0,4,0,4,0,4,0,0,0,5,4,0,5,0,0,4,4,5,3,4,5,5,1,5,5,3,4,1,4,0,5,5,3,4,4,0,3,5,3,0,0,4,0,5,0,5,0,3,4,5,4,5,3,0,3,4,1,0,0,3,1,1,4,5,5,5,0,0,5,3,0,5,4,0,0,3,0,0,3,0,3,0,0,0,1,4,4,3,1,0,0,4,1,4,3,0,0,1,0,3,3,0,4,3,0,3,0,3,0,4,3,5,3,4,5,3,4,3,5,0,3,5,0,5,5,3,0,5,3,1,0,0,0,1,0,3,4,0,5,5,0,5,5,3,0,1,4,0,5,3,3,5,5,1,0,3,0,1,0,1,3,4,3,5,5,0,4,0,4,4,5,3,4,0,3,0,0,3,5,0,3,3,3,0,3,3,0,4,3,4,5,3,0,0,5,5,0,0,0,0,0,3,3,3,5,5,0,3,0,0,3,0,0,0,5,1,0,5,0,0,3,4,1,4,1,5,3,0,4,1,5,0,3,4,3,5,0,5,0,0,3,4,0,0,3,0,4,0,3,0,3,5,4,3,5,0,3,5,3,0,4,5,3,0,0,5,0,4,0,0,5,5,0,3,5,5,0,5,3,5,0,0,5,0,5,5,0,5,3,3,5,3,4,0,0,3,5,4,4,5,0,4,0,5,3,0,0,3,3,5,0,0,0,0,0,3,5,5,5,4,0,1,0,1,4,0,3,5,0,0,3,0,5,0,5,5,0,4,5,4,0,5,3,5,0,0,0,3,3,3,4,4,1,4,5,3,5,4,3,5,3,3,4,3,5,4,4,3,1,3,3,1,3,0,4,0,5,1,4,5,0,5,4,0,0,0,0,1,4,5,0,0,3,3,5,5,0,5,0,5,0,0,4,5,1,1,0,4,0,5,5,5,5,0,0,4,0,1,3,0,0,3,3,5,0,5,5,3,1,3,0,0,3,3,0,0,5,0,0,5,3,0,0,4,5,0,5,5,5,5,0,1,3,5,0,4,4,3,3,0,0,0,5,5,0,4,3,0,5,0,1,0,4,3,0,5,3,5,4,5,5,3,0,5,3,3,1,0,0,3,3,3,5,3,5,3,3,0,5,5,1,3,5,4,4,0,5,4,0,0,0,4,0,0,5,3,3,1,5,0,3,5,1,5,0,5,5,0,1,3,5,0,0,3,3,5,0,5,3,5,0,0,0,5,3,0,5,5,0,5,4,0,5,0,5,4,5,3,3,3,3,5,1,5,4,3,0,1,3,0,4,3,5,5,5,5,4,0,5,0,3,5,3,0,3,5,5,0,0,3,3,0,3,0,0,3,5,3,0,3,0,3,4,0,3,3,5,5,3,0,3,0,3,3,5,0,3,0,5,3,3,5,0,3,0,5,0,5,5,3,1,5,5,0,1,5,5,0,0,3,0,0,5,5,5,3,0,4,5,5,0,3,5,0,0,5,5,0,5,0,4,5,5,0,1,4,5,3,0,4,4,0,5,0,1,0,5,4,0,5,0,3,0,0,0,0,5,5,5,4,3,5,0,5,5,5,4,0,3,5,5,0,0,0,3,0,5,0,3,5,3,3,3,5,3,3,4,4,3,5,3,0,1,0,3,4,5,3,5,5,0,3,5,5,5,0,5,5,5,5,1,0,3,3,3,5,4,3,1,4,3,5,4,5,0,0,5,5,5,0,3,0,0,4,5,0,0,4,3,0,3,5,5,0,4,5,5,0,0,5,0,0,0,5,5,1,4,4,4,4,0,0,0,0,3,5,5,1,1,0,0,5,3,3,0,1,5,0,0,1,0,0,0,0,0,4,0,5,5,3,5,4,0,0,5,0,0,0,1,1,5,0,0,0,3,5,5,3,0,3,0,3,5,0,4,1,5,0,0,3,4,1,4,0,5,4,4,0,0,5,3,3,5,5,4,0,1,5,0,0,0,5,0,0,0,3,3,1,0,0,0,4,4,5,5,5,3,3,0,0,1,4,3,0,5,0,0,5,3,5,0,5,0,3,5,5,0,0,5,5,0,5,5,3,5,0,5,0,5,4,5,0,0,5,3,0,1,0,1,5,0,5,4,0,3,3,5,4,5,0,5,5,4,3,4,5,3,0,5,0,3,3,4,3,3,1,1,0,0,5,5,0,5,5,0,0,5,0,0,5,5,3,5,5,0,3,5,0,5,1,0,1,4,1,5,0,0,3,0,5,1,3,3,4,0,5,5,5,4,4,1,0,5,0,5,5,5,3,3,5,3,5,0,3,0,4,1,0,5,3,4,0,5,0,5,5,3,5,5,0,0,0,1,0,1,5,4,3,0,4,0,0,5,0,0,0,0,0,3,5,5,0,0,0,3,5,1,4,3,0,0,3,5,3,5,3,1,0,3,5,3,0,0,0,3,5,3,3,3,5,3,3,0,5,3,0,4,5,0,5,5,0,5,0,3,0,0,1,0,5,0,5,5,5,0,0,3,0,0,5,5,5,3,5,3,3,3,0,5,5,4,0,0,5,5,0,0,5,3,3,0,3,4,5,3,0,0,3,3,3,0,5,0,4,0,0,4,3,5,4,3,0,3,5,0,5,4,4,3,3,0,5,0,5,3,5,5,4,5,0,5,1,0,5,5,0,5,3,4,5,5,0,1,1,5,0,3,1,1,4,3,3,3,5,4,3,5,0,0,0,0,0,0,4,0,0,0,0,5,3,1,1,5,3,5,0,1,3,3,5,0,4,0,5,0,1,5,0,5,3,5,3,3,5,5,5,0,3,5,4,0,0,0,0,3,3,5,4,1,3,5,0,0,0,5,0,3,3,5,5,3,5,0,0,0,0,5,4,5,5,1,0,3,5,5,5,0,0,5,1,5,3,4,0,1,0,3,0,5,1,5,3,5,0,0,1,0,5,0,0,1,0,0,5,0,0,3,0,0,1,0,0,4,3,0,3,5,1,1,4,4,3,0,0,0,5,0,3,0,5,4,0,4,3,0,4,3,3,0,4,5,5,1,4,4,4,3,3,3,3,0,5,1,5,3,0,0,0,4,5,5,3,0,0,0,0,1,4,0,3,5,3,3,4,5,4,5,4,0,3,3,0,5,1,0,5,5,5,4,4,0,3,5,3,0,5,0,5,0,3,0,5,0,0,3,0,3,0,3,0,0,3,4,5,5,0,0,3,0,3,0,1,0,0,0,5,1,3,5,5,5,3,0,1,5,4,4,4,5,5,0,5,3,1,4,5,3,5,3,5,0,1,5,5,0,3,3,0,0,3,5,3,5,1,1,3,0,5,5,0,5,0,0,0,3,5,3,0,0,0,5,0,0,3,0,5,0,4,4,0,5,3,0,4,0,0,0,5,3,0,5,4,5,0,0,5,0,5,0,5,0,0,5,1,5,4,5,5,4,0,0,0,0,3,5,4,4,3,3,5,5,0,5,0,0,0,3,4,3,0,0,0,1,5,0,0,0,4,1,0,0,5,0,0,0,1,4,5,5,4,3,5,5,5,5,1,0,5,5,1,0,0,0,5,5,5,0,0,0,3,5,5,5,5,3,5,4,3,4,3,5,0,4,5,5,3,3,1,3,5,0,0,4,0,0,4,3,0,3,4,1,0,0,3,0,0,0,3,5,0,0,5,0,0,5,0,0,0,0,4,0,4,1,4,0,0,1,5,0,4,3,0,1,3,5,3,5,5,4,4,4,3,5,4,0,5,4,1,4,3,0,4,0,5,0,0,3,0,0,0,0,4,0,3,0,0,0,0,0,0,0,0,1,5,5,0,5,5,3,5,5,3,0,0,5,3,0,5,5,4,4,4,0,0,4,3,5,0,0,4,5,0,0,5,5,0,5,5,0,0,0,5,0,4,0,0,0,1,0,0,1,3,0,5,3,1,0,3,5,1,4,0,1,5,1,0,3,5,3,3,5,3,4,0,5,0,0,3,3,3,4,5,5,3,0,5,5,4,3,4,5,0,5,0,4,3,4,4,0,5,3,5,0,5,0,0,5,5,5,0,4,3,0,1,5,3,5,5,5,5,0,5,0,5,0,5,5,5,5,0,4,5,5,3,3,5,4,0,3,3,4,4,0,0,1,4,5,0,3,5,4,5,3,0,0,0,5,3,0,0,0,0,5,5,0,0,3,4,0,4,1,4,0,5,3,0,0,4,0,3,1,3,0,4,0,0,5,4,0,5,5,3,0,3,1,0,0,5,4,0,4,1,3,5,1,4,0,5,5,4,4,5,3,5,0,0,0,0,5,0,0,1,4,5,0,5,4,0,3,5,1,0,0,0,3,4,5,3,5,3,0,0,0,5,0,0,0,0,0,0,3,5,3,4,0,0,5,3,3,5,3,3,0,4,5,5,0,5,3,0,0,5,5,5,5,5,0,3,0,5,3,5,4,5,0,4,0,3,3,5,4,4,4,1,0,0,0,0,3,0,5,5,3,4,5,4,0,0,5,3,0,0,0,0,0,1,0,5,5,0,4,5,0,5,4,0,3,0,4,5,3,0,0,0,5,0,0,5,0,5,0,0,0,4,0,3,5,5,3,4,1,0,3,0,5,5,4,3,5,5,5,1,1,5,3,1,5,0,4,3,0,0,3,5,3,5,4,1,5,5,0,1,3,0,5,3,5,4,5,3,0,0,0,1,5,5,3,3,5,3,0,3,3,4,0,5,3,0,0,4,0,3,0,5,5,0,3,3,3,3,3,1,3,5,3,0,4,5,3,5,1,5,3,5,4,0,0,4,0,4,4,5,0,0,0,0,0,3,0,3,4,3,3,0,4,4,4,0,0,5,4,5,5,5,5,5,5,5,5,5,4,0,0,3,0,0,5,5,0,4,5,3,5,5,0,5,3,0,5,4,5,3,0,4,5,5,5,3,1,3,0,0,0,5,4,3,0,0,5,0,1,3,0,3,0,0,5,1,3,4,1,5,0,1,1,4,3,4,5,1,4,5,5,3,5,4,5,3,0,4,5,1,0,3,1,3,3,5,3,5,1,0,3,0,4,3,1,5,5,5,5,4,5,0,0,0,0,1,3,0,4,5,0,0,5,0,0,5,5,5,4,5,0,3,5,3,5,5,5,5,3,0,5,4,5,4,0,5,3,0,5,0,4,5,5,0,3,3,0,5,5,3,1,0,5,3,0,0,5,0,0,0,4,5,1,0,5,5,0,5,3,3,0,3,5,0,3,0,4,5,5,3,0,5,3,5,0,0,0,3,3,4,3,3,4,0,3,4,0,0,0,0,3,5,3,5,0,5,5,5,0,0,5,0,1,0,3,5,0,4,0,0,3,5,0,0,4,4,5,3,0,0,5,0,0,0,4,1,0,0,5,1,4,4,0,3,3,3,3,4,5,1,0,1,5,5,5,0,3,5,5,3,3,3,0,4,1,5,0,3,0,0,3,3,5,0,3,0,1,3,1,3,5,4,3,0,0,0,3,3,5,5,5,5,3,3,5,0,0,4,5,0,5,0,5,0,3,5,0,4,5,5,0,0,4,3,5,0,5,0,5,3,5,3,5,3,0,1,0,0,4,5,5,3,0,0,4,3,0,3,3,3,5,5,5,0,3,5,4,0,5,4,5,1,4,0,0,3,5,0,4,5,4,3,1,5,4,0,4,3,0,4,4,0,4,4,4,0,0,4,3,3,3,0,5,0,0,5,4,0,0,1,3,0,5,5,0,3,0,4,4,5,5,0,3,5,0,5,3,5,0,3,3,5,5,4,0,4,0,3,0,5,3,0,3,5,0,5,5,3,0,5,5,0,0,1,3,5,3,0,1,3,5,3,3,1,0,0,3,0,0,5,0,0,5,0,5,5,0,5,0,5,4,0,4,1,0,0,4,5,3,0,5,0,4,5,0,0,3,3,4,4,1,5,0,4,3,5,4,5,0,0,0,5,5,3,5,5,0,5,0,0,3,5,5,4,1,3,0,5,0,5,5,3,0,3,4,0,5,1,5,5,5,0,0,3,5,0,5,0,4,0,4,3,4,4,0,4,0,0,5,5,5,5,4,4,5,0,5,0,0,3,5,0,0,0,5,3,5,4,5,0,0,0,4,0,5,5,4,5,0,4,1,3,0,5,0,0,0,0,0,5,4,4,3,0,0,5,0,3,3,5,0,3,3,5,0,5,3,0,0,0,0,3,0,5,0,4,5,0,5,3,0,0,3,5,5,0,0,4,3,5,5,5,5,4,3,0,3,0,0,0,3,5,4,0,0,4,5,0,0,4,3,0,3,3,0,3,4,4,4,5,5,1,0,3,0,4,4,1,4,5,0,0,0,0,4,3,0,3,0,0,5,0,0,5,0,0,3,4,0,1,4,0,0,0,3,0,0,3,3,0,4,3,0,3,5,3,5,5,5,3,5,0,4,0,4,3,5,0,0,0,3,4,1,5,4,0,4,0,1,0,0,3,0,0,5,5,0,4,5,0,5,0,0,1,0,4,5,3,0,0,5,0,1,3,0,0,5,4,5,5,3,1,4,3,5,0,5,0,0,5,0,0,0,4,4,5,0,1,5,0,5,4,4,3,5,3,3,3,3,0,4,5,1,0,4,3,0,4,0,0,3,0,5,3,4,4,4,4,3,0,1,3,3,0,4,5,5,3,0,0,4,4,0,4,0,0,3,4,0,3,3,5,4,5,3,5,0,4,5,5,0,0,4,3,4,3,3,0,0,0,3,3,5,5,5,3,0,1,4,0,0,5,4,3,5,3,5,0,4,5,0,3,0,4,5,5,3,0,4,5,0,5,1,0,3,0,3,4,5,5,3,0,0,0,0,3,1,4,3,5,0,3,5,3,4,5,1,0,3,0,0,4,3,5,0,3,0,5,5,5,5,0,0,0,0,0,5,4,4,0,5,0,0,0,5,0,4,0,4,5,5,0,3,0,0,1,0,5,3,4,5,0,5,5,5,4,5,5,1,0,3,0,0,3,5,0,5,5,4,0,5,4,3,0,3,1,0,0,4,5,1,5,0,4,3,5,5,4,0,0,5,0,1,3,0,0,4,0,3,5,3,5,0,5,4,0,0,0,5,0,1,5,5,0,5,3,4,3,0,0,0,5,3,5,0,0,5,0,0,4,3,3,5,0,0,5,3,0,0,0,5,3,3,5,5,4,0,5,3,0,3,0,4,3,3,4,0,0,5,0,1,1,0,1,1,0,4,3,4,0,0,3,5,4,3,5,1,3,1,0,0,0,5,0,0,0,3,5,5,0,3,0,0,0,0,0,3,3,0,4,5,1,5,4,5,0,0,5,1,3,3,5,1,0,3,0,0,0,5,3,5,0,3,3,0,0,5,5,0,3,3,4,4,5,0,5,0,0,5,5,5,1,4,0,0,3,1,5,0,0,0,3,0,0,5,5,0,1,4,3,5,3,0,3,5,3,5,4,3,5,1,5,3,3,5,3,0,5,3,3,0,5,5,0,5,4,0,4,3,0,5,0,4,5,4,0,4,5,3,0,3,5,0,0,0,1,4,5,5,0,4,3,3,3,3,0,3,0,3,3,3,5,3,0,5,4,3,1,1,3,0,5,0,3,4,5,0,0,3,1,5,0,0,5,5,0,0,1,0,1,4,3,5,3,3,4,0,3,0,0,0,5,5,0,5,5,0,0,3,3,3,5,3,5,0,5,5,5,3,1,4,5,4,5,3,4,3,0,5,0,4,1,0,3,3,3,5,5,4,0,4,3,1,0,5,0,0,0,5,0,0,0,0,0,4,0,3,5,0,3,0,3,5,3,0,0,3,0,0,5,3,5,4,5,4,0,5,0,4,3,3,0,0,0,0,1,4,0,1,0,4,1,5,5,0,3,5,3,5,0,0,0,3,0,0,5,0,0,4,0,1,0,5,0,3,0,0,0,0,3,5,4,4,5,3,5,0,3,5,0,0,0,4,4,0,4,5,5,0,5,5,0,3,3,0,3,0,0,5,5,5,0,4,1,3,1,1,3,4,0,3,3,5,5,3,1,1,5,1,0,3,3,0,5,3,5,0,0,5,5,5,4,5,3,1,5,5,0,3,3,5,3,5,4,4,0,5,0,1,3,0,4,4,0,3,5,3,3,5,5,5,4,3,4,1,0,5,4,3,0,4,0,0,5,0,0,4,1,5,0,0,0,3,1,4,5,5,3,5,5,1,4,5,5,1,3,3,5,5,0,3,1,4,0,4,0,5,5,0,0,0,5,0,4,5,3,0,5,0,3,5,0,3,4,3,0,5,0,5,3,0,5,0,4,4,0,0,1,4,3,3,5,0,0,5,4,1,5,0,0,5,0,4,0,1,4,4,0,1,0,1,4,5,5,4,3,4,0,0,0,3,5,3,3,5,0,0,4,5,3,0,0,3,3,0,5,0,5,1,0,5,0,1,0,4,3,5,0,5,4,0,5,5,1,5,3,5,0,0,0,3,0,3,0,3,0,5,5,4,0,3,0,3,0,0,0,0,4,4,5,3,4,3,0,3,3,5,5,0,0,4,4,4,1,5,0,0,1,3,4,0,0,5,3,4,5,1,3,0,4,3,3,5,0,4,4,0,3,4,5,3,0,4,0,4,3,0,0,5,5,3,4,4,0,3,5,5,5,5,0,5,4,0,3,5,4,5,4,0,0,5,3,0,4,0,3,4,0,5,1,3,4,5,0,5,5,5,5,3,3,4,0,0,0,0,0,5,4,0,5,0,5,5,0,5,0,0,5,0,3,0,0,0,0,0,4,3,5,4,5,1,3,3,4,3,5,3,3,5,5,0,3,4,0,4,0,5,1,3,5,5,5,5,5,3,1,5,0,0,0,3,5,3,0,0,3,5,5,3,5,3,0,5,4,0,0,4,0,0,4,1,0,5,0,0,0,3,0,5,3,5,0,1,0,5,5,4,5,4,5,4,5,5,1,0,3,4,5,5,4,1,4,5,1,4,5,0,3,3,3,3,0,0,3,4,4,0,3,5,5,3,5,0,0,3,1,5,0,4,5,5,3,4,3,0,3,3,0,4,3,4,0,0,0,1,3,0,4,0,5,5,5,5,0,0,0,4,0,3,5,0,0,0,0,3,5,5,5,4,4,4,0,4,0,3,3,5,5,5,0,4,0,0,5,4,0,3,5,5,4,3,5,5,4,3,0,5,3,3,0,0,5,3,0,3,1,5,1,0,0,5,3,0,4,3,3,3,0,0,0,5,3,5,5,4,4,0,3,3,5,5,0,0,0,3,0,3,4,0,5,5,5,4,3,5,5,0,1,5,3,5,5,5,3,0,5,0,5,3,0,0,3,5,4,0,5,5,0,4,5,0,3,1,5,5,0,5,5,0,3,1,5,5,3,5,0,0,5,0,4,5,0,4,5,3,4,5,0,5,3,0,5,1,3,3,3,3,5,5,3,5,0,0,0,3,3,3,0,4,3,5,1,4,3,5,5,5,3,5,0,5,0,0,0,4,0,0,3,1,4,5,5,0,5,3,3,5,0,0,3,0,1,5,5,3,0,5,1,3,0,3,4,0,5,5,0,0,4,3,5,3,0,0,0,5,0,3,0,3,1,5,0,5,0,0,0,5,3,5,4,5,4,4,5,0,3,5,3,0,0,0,0,5,0,5,1,5,0,3,0,1,0,0,0,0,0,3,0,0,5,5,0,0,0,0,0,0,3,4,5,0,3,3,3,0,0,0,3,4,5,4,1,3,5,5,5,0,1,0,5,0,3,3,3,5,5,0,4,0,1,4,5,4,4,5,0,0,0,0,0,0,0,0,1,1,3,3,5,3,3,1,5,1,0,0,5,5,0,0,0,0,5,4,5,5,3,0,0,0,0,0,0,0,0,0,5,0,3,3,0,4,4,5,1,4,0,3,0,0,0,0,5,0,5,3,5,5,3,5,0,5,3,5,1,0,1,0,0,0,3,0,0,0,1,0,5,3,3,1,5,0,0,4,4,0,3,5,3,5,0,3,3,5,0,0,3,0,3,3,5,1,5,5,0,3,5,4,3,4,0,5,0,3,0,3,0,3,4,5,5,0,0,3,0,0,5,0,1,0,3,5,5,5,5,0,0,0,0,5,3,0,0,5,5,0,0,5,0,5,3,5,0,4,5,3,5,1,4,5,3,3,3,0,3,1,0,4,1,3,3,0,3,0,1,3,3,0,4,5,1,3,5,3,0,3,0,0,4,4,4,5,3,1,0,5,1,0,4,0,3,3,4,5,0,3,0,5,0,3,0,5,4,3,5,3,5,0,4,0,3,5,0,5,0,0,4,5,3,0,0,0,3,0,3,0,4,3,5,5,0,0,0,3,5,3,0,3,0,1,0,5,0,0,5,1,0,3,4,3,3,3,5,5,5,3,5,0,5,3,0,3,5,3,0,0,5,3,0,0,0,3,5,0,3,0,5,4,0,5,5,3,0,5,5,3,3,5,1,5,0,3,0,5,5,5,0,5,0,3,3,1,5,0,3,3,0,5,0,0,0,4,0,5,3,0,5,0,3,4,5,4,0,0,5,4,0,0,1,3,0,4,1,3,5,5,3,0,0,5,0,3,0,3,5,0,0,3,5,3,4,0,3,3,4,3,1,0,4,3,4,0,5,3,3,0,1,3,4,0,3,3,5,1,5,5,0,3,3,3,5,5,5,5,4,0,0,4,0,0,4,0,0,0,3,5,4,4,4,5,4,0,3,5,5,1,3,4,4,4,0,3,4,5,4,5,0,5,3,0,4,5,3,0,1,0,3,0,3,3,3,0,0,3,3,1,5,3,3,0,5,5,5,0,3,4,0,0,0,3,0,3,0,5,5,5,3,0,3,5,5,0,5,3,0,5,4,0,0,0,1,0,1,0,1,0,1,0,4,5,3,0,0,4,3,0,4,3,3,5,5,4,5,0,5,5,5,0,4,5,0,0,5,5,5,0,0,5,0,4,3,5,0,4,3,5,0,3,5,3,5,0,0,3,5,0,3,3,0,0,0,0,5,4,5,5,4,0,1,5,5,0,0,1,0,3,0,0,5,3,5,3,0,3,0,0,3,3,0,0,1,3,4,5,0,5,4,5,0,5,3,1,3,0,1,0,0,0,5,3,5,0,5,4,4,5,3,0,5,5,0,0,5,0,3,0,3,0,3,4,0,0,5,3,3,0,3,0,3,3,5,3,3,0,5,4,5,0,0,5,0,5,5,4,4,0,5,0,5,0,0,4,5,3,0,4,0,0,5,1,0,3,5,0,3,3,1,1,5,0,5,5,0,0,3,5,0,5,5,0,5,4,0,0,3,1,5,0,0,0,0,0,0,3,5,0,0,4,0,5,3,4,4,4,5,0,3,0,1,0,5,4,3,0,5,0,5,0,0,5,5,5,3,4,4,5,5,3,4,0,0,5,3,5,3,1,5,0,0,5,5,5,1,0,3,4,5,3,4,3,0,5,3,4,4,5,0,5,0,3,0,3,0,5,3,0,4,5,3,4,5,5,5,0,3,3,0,5,0,1,1,0,0,0,3,5,5,0,5,0,1,0,5,4,5,5,0,0,5,4,0,3,5,4,4,0,3,3,0,3,0,5,4,5,5,0,1,3,0,0,4,0,0,0,3,0,5,0,4,5,4,3,0,0,3,5,5,5,4,5,1,4,4,3,0,3,3,0,1,0,5,4,0,5,4,0,0,5,5,3,4,5,0,5,5,0,3,3,5,0,0,0,5,4,3,5,3,1,0,4,4,4,3,5,1,4,0,4,3,5,4,0,4,1,5,3,0,0,4,1,5,3,4,0,3,0,0,0,0,5,0,0,0,3,0,0,3,5,0,0,4,4,3,0,3,5,0,0,0,5,1,0,1,0,0,5,5,5,0,5,3,3,3,5,0,5,5,4,0,0,5,1,0,3,4,0,5,3,0,0,0,3,0,0,1,0,0,0,5,0,4,0,5,0,0,1,0,3,0,3,5,3,0,4,0,4,0,5,0,5,0,0,4,5,5,5,0,0,5,5,0,0,5,0,5,5,0,4,0,3,3,4,5,3,3,0,3,5,0,3,5,0,0,3,3,3,5,5,5,0,0,5,5,0,4,5,4,0,4,4,3,0,3,0,0,4,3,5,4,5,4,0,5,0,0,5,0,5,5,1,1,3,5,0,0,0,0,4,0,0,5,3,0,0,0,0,0,3,0,1,5,3,5,5,5,0,0,3,5,1,0,5,3,5,5,5,0,0,5,5,4,0,5,0,1,0,4,0,3,0,0,0,0,1,5,0,5,3,3,5,4,0,4,4,0,0,5,0,0,4,1,0,4,5,3,3,5,0,4,0,1,5,0,3,0,0,0,5,3,3,3,5,4,4,0,5,0,5,5,3,0,3,4,4,0,5,1,5,3,0,5,1,1,0,5,0,3,3,1,0,0,5,4,4,4,5,0,5,5,3,0,1,4,4,4,5,3,3,5,3,0,3,5,5,0,0,0,0,5,5,4,0,5,0,0,3,5,0,5,0,5,0,0,5,1,5,0,3,3,4,5,3,4,0,0,0,5,0,5,5,3,0,0,3,5,3,5,5,0,5,4,1,4,5,0,0,3,3,4,3,3,4,0,4,3,5,0,0,5,5,5,0,3,4,0,0,1,5,0,5,3,5,0,4,5,5,5,0,0,5,5,3,4,4,5,0,1,3,1,5,3,5,0,0,3,0,1,5,0,1,5,3,1,3,0,0,5,3,3,5,5,0,5,5,1,0,0,4,0,0,0,3,5,5,5,3,1,0,5,0,0,0,0,0,5,0,5,4,0,5,4,3,4,0,0,1,0,4,3,0,4,4,1,3,4,3,5,5,5,0,0,0,3,4,0,0,3,0,0,0,4,3,0,5,0,0,3,0,0,1,4,3,3,0,5,5,0,0,4,3,5,0,0,5,0,0,5,3,3,5,0,5,1,5,5,3,5,3,3,0,0,5,3,3,3,0,0,4,0,3,4,1,5,5,4,0,5,4,0,5,0,3,5,4,5,0,0,4,3,0,4,3,0,0,0,0,5,0,4,0,0,5,3,1,5,5,0,3,5,0,1,5,0,4,4,5,5,1,0,4,3,5,3,4,4,4,5,3,0,3,1,0,1,3,0,0,5,4,1,3,4,3,5,3,4,5,4,4,0,3,0,3,5,4,5,1,5,1,4,4,5,5,0,0,0,4,0,1,3,0,0,0,1,0,3,5,0,0,0,4,3,4,0,3,1,5,0,5,0,3,3,3,0,5,0,5,4,3,0,5,5,5,0,0,5,5,4,0,0,0,0,3,0,1,5,3,5,0,0,4,0,0,1,5,0,5,4,3,5,5,3,5,0,3,5,3,4,4,0,0,3,5,4,3,0,5,5,0,3,0,5,3,4,3,3,5,0,5,5,3,5,5,5,0,0,5,4,5,1,5,3,0,1,0,5,0,5,5,0,3,4,5,0,0,5,0,3,0,1,0,3,0,3,3,5,1,5,5,5,0,0,3,0,0,3,3,5,0,3,5,4,5,0,0,0,4,0,0,5,5,4,0,3,5,5,3,0,0,5,3,1,3,5,5,3,0,1,5,1,5,1,0,0,0,0,0,0,1,4,0,0,5,3,3,5,5,5,0,3,3,0,5,3,5,5,3,1,3,5,5,4,3,0,5,4,3,3,5,4,0,5,3,0,1,4,0,4,4,5,3,3,5,5,0,5,5,5,0,0,1,0,0,1,3,4,4,0,0,0,1,5,5,0,5,4,5,4,4,0,5,5,5,3,1,3,5,3,4,3,5,3,5,0,0,0,0,5,3,0,4,1,0,5,0,5,0,5,5,0,0,3,4,0,4,0,3,0,1,0,5,0,4,0,4,5,5,5,0,5,5,3,5,0,1,0,1,0,3,5,5,5,1,5,5,0,3,3,0,5,0,3,3,5,0,4,4,0,0,0,0,5,5,3,5,4,5,4,0,4,3,5,5,0,3,5,5,5,5,0,0,0,0,0,0,3,3,5,3,5,5,5,5,5,4,4,5,3,3,0,5,3,5,0,3,0,3,4,0,0,5,3,5,5,4,0,0,3,0,4,0,4,1,0,4,3,0,4,5,3,0,5,5,5,0,4,5,5,3,5,0,3,0,5,5,0,4,3,5,0,3,5,0,4,0,3,5,3,0,0,4,5,5,4,5,5,0,5,3,5,5,0,0,0,5,4,0,3,1,5,5,5,0,1,4,0,5,0,0,0,0,5,3,0,5,3,3,1,0,5,4,0,0,4,5,1,5,0,0,3,0,0,5,1,0,5,5,0,0,3,5,3,1,1,5,0,0,4,0,5,0,5,3,3,4,5,1,5,5,0,0,0,0,3,3,5,3,3,5,5,5,0,0,0,5,5,3,0,4,3,0,3,1,4,5,1,3,0,4,5,0,0,0,3,0,5,5,3,4,0,3,3,3,5,0,3,0,5,4,1,5,0,3,5,4,5,5,0,1,3,0,4,0,0,4,5,3,3,0,0,4,0,1,5,3,5,1,0,3,4,0,0,5,0,4,5,5,4,5,0,3,3,5,4,0,1,5,0,4,0,5,3,0,0,0,1,0,3,0,4,3,4,0,3,5,0,0,5,0,5,4,0,5,5,0,1,5,5,1,0,1,5,0,1,4,5,3,3,5,0,5,3,0,5,5,5,4,3,3,4,0,5,0,0,0,4,3,1,0,0,4,3,0,0,3,0,0,3,0,5,0,0,0,5,4,5,4,4,5,5,1,0,0,0,5,0,3,0,4,5,1,1,5,4,5,3,3,1,0,0,0,0,1,0,1,0,0,0,4,4,3,3,5,4,3,0,3,5,0,1,0,0,3,0,1,3,0,5,0,5,0,3,5,4,0,5,0,0,3,5,4,4,0,0,5,0,3,0,0,0,3,5,0,3,5,0,1,1,0,5,3,3,1,5,0,0,5,0,5,0,1,5,5,0,4,3,5,5,0,5,3,4,0,0,5,3,5,3,1,0,1,1,3,0,3,3,0,4,3,0,0,3,4,3,0,4,0,0,5,3,5,3,0,3,4,0,5,5,0,3,0,3,0,5,5,1,3,3,5,4,0,0,3,0,1,3,5,5,0,0,5,0,0,0,3,3,0,4,3,4,4,0,3,5,3,3,4,1,0,3,3,5,0,5,4,3,3,5,1,4,5,0,4,0,5,0,0,0,4,3,0,0,5,3,4,5,0,5,3,0,4,5,4,0,0,5,0,5,0,3,0,5,3,4,5,5,4,0,4,0,0,5,5,0,3,0,1,5,3,0,0,3,0,0,0,3,0,3,5,0,4,0,5,3,0,1,3,4,0,0,0,0,5,0,3,3,3,0,1,0,5,0,3,3,0,1,4,0,4,0,3,3,5,0,4,3,3,5,5,3,0,3,4,1,0,4,0,5,5,0,0,0,4,5,4,4,4,3,4,3,0,0,5,4,4,5,0,0,3,3,0,5,4,0,0,0,0,0,1,3,0,5,5,0,5,0,3,0,5,4,1,5,0,1,0,0,5,0,4,0,5,3,3,5,0,5,0,1,3,3,3,5,4,3,4,4,0,0,3,5,3,3,3,3,3,3,0,5,0,4,0,3,5,5,0,4,0,0,0,5,0,3,0,4,3,3,3,1,5,4,4,1,5,4,5,0,5,0,3,0,1,0,0,4,0,3,5,4,5,5,4,0,4,0,3,5,5,0,1,0,3,0,3,5,5,0,0,0,0,5,0,3,0,4,0,0,0,4,5,3,0,0,0,5,5,5,3,0,1,0,4,0,3,5,0,4,0,5,4,4,5,0,5,5,5,5,5,0,0,3,3,0,5,5,0,5,5,0,0,1,0,0,4,0,3,5,0,0,3,3,0,3,0,3,0,1,5,4,1,0,0,5,1,4,1,0,5,1,3,0,5,5,0,0,5,5,5,0,4,3,0,3,0,5,5,0,0,1,1,0,3,0,0,0,4,3,5,5,4,0,0,0,0,0,0,4,5,5,3,0,3,5,5,5,5,0,5,0,1,3,3,4,1,5,0,1,4,4,0,5,1,4,4,0,1,5,3,0,4,5,0,5,3,1,0,0,0,5,0,3,5,1,3,1,3,0,5,3,5,5,5,0,5,3,0,0,0,3,5,0,5,4,5,3,5,1,5,0,3,0,4,1,3,0,0,5,5,3,3,3,1,0,1,0,5,3,5,5,1,5,4,0,1,3,0,3,5,0,0,1,0,4,3,0,5,1,0,3,5,0,5,3,0,0,0,5,0,0,5,5,0,0,0,0,0,3,4,4,3,0,0,0,0,1,3,1,5,3,3,5,0,5,5,0,0,0,0,4,5,0,5,0,5,5,0,0,0,5,5,0,0,0,0,3,5,0,5,0,0,4,4,0,5,0,5,3,5,3,5,3,3,5,0,5,3,5,0,4,4,0,0,1,0,0,4,1,0,5,5,3,3,4,5,0,5,3,0,0,1,0,5,5,3,0,4,3,0,0,0,5,1,0,0,1,5,3,4,0,0,4,0,5,0,0,3,3,5,5,3,1,0,4,4,4,0,0,5,3,5,3,5,4,5,3,5,3,5,3,0,5,5,0,3,1,0,0,0,1,0,5,3,1,5,4,0,4,5,4,3,5,4,3,0,0,3,1,5,1,5,3,3,0,4,5,5,0,5,4,0,0,3,0,3,0,0,1,5,4,0,1,3,3,5,0,3,3,4,3,4,3,0,4,0,5,0,4,3,5,0,4,0,0,0,3,3,5,4,5,5,5,0,3,5,0,5,3,1,0,0,1,3,0,3,0,0,3,5,1,0,4,5,0,0,4,3,0,0,5,0,4,0,3,5,0,5,0,5,5,0,3,5,0,4,0,5,3,3,4,3,4,3,5,3,0,1,3,3,0,3,4,5,4,3,0,5,3,0,3,1,5,4,3,5,3,3,0,1,5,0,3,0,3,5,0,0,4,5,3,3,3,5,0,5,5,0,5,3,4,3,3,5,3,0,4,1,0,3,0,3,5,0,1,5,5,5,4,3,0,1,5,5,0,0,5,0,3,3,3,4,0,0,3,4,4,3,3,3,0,4,1,5,5,0,3,5,4,1,0,5,3,3,5,0,5,5,0,0,0,3,5,5,5,3,0,0,3,1,3,4,0,1,1,0,5,0,3,4,5,4,3,0,1,0,0,0,0,1,0,3,3,1,4,0,3,4,5,5,0,3,3,1,4,4,1,5,5,5,5,4,3,5,3,5,4,5,0,0,4,5,0,1,5,4,4,0,0,3,1,3,5,4,5,5,0,0,0,0,4,4,0,0,5,0,5,3,5,0,0,3,5,0,4,5,4,3,5,0,5,5,0,1,3,0,0,0,3,0,5,3,3,5,4,5,4,0,0,5,0,0,0,5,5,5,3,5,4,0,4,0,5,3,1,5,4,3,5,5,4,4,5,4,0,3,1,4,0,0,0,0,3,0,0,4,0,0,0,3,5,0,0,5,5,3,0,0,3,0,0,5,5,1,5,4,5,0,4,0,5,5,0,5,0,0,0,3,4,5,5,0,3,5,1,4,4,4,4,5,3,5,1,0,3,0,4,5,1,5,4,0,5,0,0,1,5,5,4,4,0,0,5,0,0,1,0,4,4,4,4,0,3,0,3,0,5,0,3,0,3,0,5,3,5,5,0,5,3,4,0,0,3,5,0,0,0,0,3,5,0,5,3,4,0,3,4,0,0,3,0,3,0,5,3,0,5,5,5,3,5,5,5,3,3,3,5,5,0,3,3,0,0,4,0,0,5,3,0,4,3,4,4,5,0,1,0,0,0,5,4,1,0,5,3,4,5,0,3,0,0,3,0,3,3,4,1,3,5,3,0,0,0,3,5,0,5,0,5,0,0,5,5,0,3,5,3,5,5,5,3,0,4,5,0,4,5,0,3,4,0,4,5,5,0,5,3,0,0,3,4,3,5,4,5,0,0,0,5,0,5,1,1,0,0,0,0,5,0,0,3,1,5,1,0,5,4,5,5,5,1,5,0,0,4,1,0,3,3,5,5,5,0,0,4,3,3,0,5,3,3,5,5,1,5,0,5,3,5,0,0,5,0,5,4,5,0,5,1,5,0,0,0,3,0,3,4,5,5,5,0,3,0,0,5,0,0,0,0,0,5,4,0,5,5,0,5,4,5,0,0,0,0,5,3,5,3,0,3,1,4,0,0,0,0,5,0,4,5,0,5,5,0,3,0,0,0,0,1,0,5,0,5,5,3,3,0,3,3,5,5,1,4,0,5,0,0,5,0,5,0,5,1,3,0,5,5,0,0,0,4,0,5,1,3,4,5,0,5,4,3,5,0,3,3,0,0,0,0,0,5,0,1,5,5,4,0,1,0,3,1,4,4,3,3,3,4,5,3,4,5,5,4,4,4,5,5,3,5,5,5,3,3,4,0,5,0,3,0,4,3,0,0,5,3,0,5,0,5,0,0,1,3,5,5,0,4,0,4,5,5,0,0,5,0,0,0,3,5,3,5,5,3,0,3,3,3,3,3,5,4,1,4,4,5,5,4,5,3,5,1,1,5,3,3,5,3,5,3,5,5,3,4,0,4,0,3,5,3,5,3,4,4,5,0,4,0,5,4,1,1,3,3,0,3,5,0,0,4,0,1,5,1,4,4 \n",
    "])"
   ]
  },
  {
   "cell_type": "code",
   "execution_count": 30,
   "id": "6a32f9ac",
   "metadata": {},
   "outputs": [
    {
     "data": {
      "text/plain": [
       "(11000, 7045.910384561779)"
      ]
     },
     "execution_count": 30,
     "metadata": {},
     "output_type": "execute_result"
    }
   ],
   "source": [
    "n=1000\n",
    "size=10\n",
    "n+size*n, n*np.log(n) + size * 2*np.log(n)"
   ]
  },
  {
   "cell_type": "code",
   "execution_count": 38,
   "id": "91895a6c",
   "metadata": {},
   "outputs": [],
   "source": [
    "a=np.arange(10)"
   ]
  },
  {
   "cell_type": "code",
   "execution_count": 35,
   "id": "f81395d5",
   "metadata": {},
   "outputs": [],
   "source": [
    "b = a[0, ...]"
   ]
  },
  {
   "cell_type": "code",
   "execution_count": 36,
   "id": "ba14cb92",
   "metadata": {},
   "outputs": [
    {
     "data": {
      "text/plain": [
       "array(2)"
      ]
     },
     "execution_count": 36,
     "metadata": {},
     "output_type": "execute_result"
    }
   ],
   "source": [
    "b[...] = 2\n",
    "b"
   ]
  },
  {
   "cell_type": "code",
   "execution_count": 39,
   "id": "ff7184a7",
   "metadata": {},
   "outputs": [
    {
     "data": {
      "text/plain": [
       "(array(0), 0)"
      ]
     },
     "execution_count": 39,
     "metadata": {},
     "output_type": "execute_result"
    }
   ],
   "source": [
    "a[0, ...], a[0]"
   ]
  },
  {
   "cell_type": "code",
   "execution_count": 40,
   "id": "79f7a026",
   "metadata": {},
   "outputs": [
    {
     "name": "stdout",
     "output_type": "stream",
     "text": [
      "Help on function size in module numpy:\n",
      "\n",
      "size(a, axis=None)\n",
      "    Return the number of elements along a given axis.\n",
      "    \n",
      "    Parameters\n",
      "    ----------\n",
      "    a : array_like\n",
      "        Input data.\n",
      "    axis : int, optional\n",
      "        Axis along which the elements are counted.  By default, give\n",
      "        the total number of elements.\n",
      "    \n",
      "    Returns\n",
      "    -------\n",
      "    element_count : int\n",
      "        Number of elements along the specified axis.\n",
      "    \n",
      "    See Also\n",
      "    --------\n",
      "    shape : dimensions of array\n",
      "    ndarray.shape : dimensions of array\n",
      "    ndarray.size : number of elements in array\n",
      "    \n",
      "    Examples\n",
      "    --------\n",
      "    >>> a = np.array([[1,2,3],[4,5,6]])\n",
      "    >>> np.size(a)\n",
      "    6\n",
      "    >>> np.size(a,1)\n",
      "    3\n",
      "    >>> np.size(a,0)\n",
      "    2\n",
      "\n"
     ]
    }
   ],
   "source": [
    "help(np.size)"
   ]
  },
  {
   "cell_type": "code",
   "execution_count": 57,
   "id": "782e45d5",
   "metadata": {},
   "outputs": [
    {
     "data": {
      "text/plain": [
       "array([6, 7, 8])"
      ]
     },
     "execution_count": 57,
     "metadata": {},
     "output_type": "execute_result"
    }
   ],
   "source": [
    "rng = np.random.default_rng()\n",
    "rng.choice([[0, 1, 2], [3, 4, 5], [6, 7, 8]], None, replace=False)"
   ]
  },
  {
   "cell_type": "code",
   "execution_count": 73,
   "id": "617fc301",
   "metadata": {},
   "outputs": [
    {
     "data": {
      "text/plain": [
       "array([[2, 3],\n",
       "       [0, 4]], dtype=int64)"
      ]
     },
     "execution_count": 73,
     "metadata": {},
     "output_type": "execute_result"
    }
   ],
   "source": [
    "rng.choice(5, (2, 2), replace=False, p=[0.1, 0.2, 0.3, 0.3, 0.1])"
   ]
  },
  {
   "cell_type": "code",
   "execution_count": 83,
   "id": "88f8a780",
   "metadata": {},
   "outputs": [
    {
     "data": {
      "text/plain": [
       "(3, 8, 2)"
      ]
     },
     "execution_count": 83,
     "metadata": {},
     "output_type": "execute_result"
    }
   ],
   "source": [
    "x = np.arange(48).reshape(3, 8, 2)\n",
    "z = np.ones((3, 8, 4))\n",
    "y = rng.permuted(x, axis=1, out=z[:, :, ::2])\n",
    "y.shape"
   ]
  },
  {
   "cell_type": "code",
   "execution_count": 84,
   "id": "3652d96f",
   "metadata": {},
   "outputs": [
    {
     "data": {
      "text/plain": [
       "array([[[ 8.,  1.,  3.,  1.],\n",
       "        [10.,  1.,  9.,  1.],\n",
       "        [ 0.,  1., 13.,  1.],\n",
       "        [ 4.,  1.,  7.,  1.],\n",
       "        [12.,  1., 15.,  1.],\n",
       "        [14.,  1.,  1.,  1.],\n",
       "        [ 6.,  1., 11.,  1.],\n",
       "        [ 2.,  1.,  5.,  1.]],\n",
       "\n",
       "       [[18.,  1., 27.,  1.],\n",
       "        [16.,  1., 31.,  1.],\n",
       "        [26.,  1., 21.,  1.],\n",
       "        [28.,  1., 29.,  1.],\n",
       "        [20.,  1., 25.,  1.],\n",
       "        [22.,  1., 23.,  1.],\n",
       "        [30.,  1., 17.,  1.],\n",
       "        [24.,  1., 19.,  1.]],\n",
       "\n",
       "       [[46.,  1., 47.,  1.],\n",
       "        [38.,  1., 39.,  1.],\n",
       "        [36.,  1., 37.,  1.],\n",
       "        [32.,  1., 35.,  1.],\n",
       "        [40.,  1., 33.,  1.],\n",
       "        [44.,  1., 41.,  1.],\n",
       "        [42.,  1., 45.,  1.],\n",
       "        [34.,  1., 43.,  1.]]])"
      ]
     },
     "execution_count": 84,
     "metadata": {},
     "output_type": "execute_result"
    }
   ],
   "source": [
    "z"
   ]
  },
  {
   "cell_type": "code",
   "execution_count": 80,
   "id": "a7afddc7",
   "metadata": {},
   "outputs": [
    {
     "data": {
      "text/plain": [
       "array([[[ 0,  1],\n",
       "        [ 2,  3],\n",
       "        [ 4,  5],\n",
       "        [ 6,  7],\n",
       "        [ 8,  9],\n",
       "        [10, 11],\n",
       "        [12, 13],\n",
       "        [14, 15]],\n",
       "\n",
       "       [[16, 17],\n",
       "        [18, 19],\n",
       "        [20, 21],\n",
       "        [22, 23],\n",
       "        [24, 25],\n",
       "        [26, 27],\n",
       "        [28, 29],\n",
       "        [30, 31]],\n",
       "\n",
       "       [[32, 33],\n",
       "        [34, 35],\n",
       "        [36, 37],\n",
       "        [38, 39],\n",
       "        [40, 41],\n",
       "        [42, 43],\n",
       "        [44, 45],\n",
       "        [46, 47]]])"
      ]
     },
     "execution_count": 80,
     "metadata": {},
     "output_type": "execute_result"
    }
   ],
   "source": [
    "x"
   ]
  },
  {
   "cell_type": "code",
   "execution_count": 99,
   "id": "257e5a10",
   "metadata": {},
   "outputs": [
    {
     "data": {
      "text/plain": [
       "array([[16,  9,  2, 19,  4, 13, 22, 23],\n",
       "       [ 8, 17, 10,  3, 20,  5,  6, 15],\n",
       "       [ 0,  1, 18, 11, 12, 21, 14,  7]])"
      ]
     },
     "execution_count": 99,
     "metadata": {},
     "output_type": "execute_result"
    }
   ],
   "source": [
    "x = np.arange(24).reshape(3, 8)\n",
    "y = rng.permuted(x, axis=0)\n",
    "y"
   ]
  },
  {
   "cell_type": "code",
   "execution_count": 106,
   "id": "417090ff",
   "metadata": {},
   "outputs": [
    {
     "data": {
      "text/plain": [
       "array([[1, 2, 0],\n",
       "       [4, 5, 3],\n",
       "       [7, 8, 6]])"
      ]
     },
     "execution_count": 106,
     "metadata": {},
     "output_type": "execute_result"
    }
   ],
   "source": [
    "arr = np.arange(9).reshape((3, 3))\n",
    "rng.shuffle(arr, axis=1)\n",
    "arr"
   ]
  },
  {
   "cell_type": "code",
   "execution_count": 107,
   "id": "09945228",
   "metadata": {},
   "outputs": [
    {
     "data": {
      "text/plain": [
       "array([[2, 1, 0],\n",
       "       [5, 4, 3],\n",
       "       [6, 7, 8]])"
      ]
     },
     "execution_count": 107,
     "metadata": {},
     "output_type": "execute_result"
    }
   ],
   "source": [
    "arr = np.arange(9).reshape((3, 3))\n",
    "rng.permuted(arr, axis=1)"
   ]
  },
  {
   "cell_type": "code",
   "execution_count": 200,
   "id": "773a4620",
   "metadata": {},
   "outputs": [
    {
     "data": {
      "text/plain": [
       "array([[[ 0, 13,  2, 15],\n",
       "        [ 4,  5, 18, 19],\n",
       "        [ 8,  9, 10, 11]],\n",
       "\n",
       "       [[12,  1, 14,  3],\n",
       "        [16, 17,  6,  7],\n",
       "        [20, 21, 22, 23]]])"
      ]
     },
     "execution_count": 200,
     "metadata": {},
     "output_type": "execute_result"
    }
   ],
   "source": [
    "x = np.arange(12*2).reshape((2, 3, 4))\n",
    "rng.permuted(x, axis=0)"
   ]
  },
  {
   "cell_type": "code",
   "execution_count": 191,
   "id": "d9f7b705",
   "metadata": {},
   "outputs": [
    {
     "data": {
      "text/plain": [
       "array([ 4, 16])"
      ]
     },
     "execution_count": 191,
     "metadata": {},
     "output_type": "execute_result"
    }
   ],
   "source": [
    "x[:, 1, 0]"
   ]
  },
  {
   "cell_type": "code",
   "execution_count": 123,
   "id": "62634d1b",
   "metadata": {},
   "outputs": [
    {
     "data": {
      "text/plain": [
       "array([[ 8,  9, 10, 11],\n",
       "       [ 0,  1,  2,  3],\n",
       "       [ 4,  5,  6,  7]])"
      ]
     },
     "execution_count": 123,
     "metadata": {},
     "output_type": "execute_result"
    }
   ],
   "source": [
    "x = np.arange(12).reshape((3,4))\n",
    "rng.shuffle(x, axis=0)\n",
    "x"
   ]
  },
  {
   "cell_type": "code",
   "execution_count": 209,
   "id": "afcb8d44",
   "metadata": {},
   "outputs": [
    {
     "data": {
      "text/plain": [
       "array([ 6.80095129e-02, -3.92461208e-02,  2.14236641e-02,  4.90585330e-02,\n",
       "        8.79702345e-02, -2.15477697e-01,  2.19282057e-02, -1.62397888e-01,\n",
       "       -3.06747970e-02,  3.99927867e-02,  3.29533642e-02, -8.03520003e-02,\n",
       "       -2.23849945e-02, -1.71040693e-01, -5.64127302e-02, -9.57941844e-03,\n",
       "       -4.46387717e-02, -4.88645641e-04, -1.54741033e-02, -3.29070849e-02,\n",
       "       -7.80516526e-02,  3.94141825e-02, -1.41370377e-01, -2.41041755e-02,\n",
       "        5.52911926e-02, -1.32095990e-02, -8.29204713e-02,  1.38711736e-01,\n",
       "       -1.97367319e-01,  1.05698224e-01, -1.68702964e-01,  1.60006716e-01,\n",
       "       -2.47436281e-02,  8.58046236e-03,  7.46069886e-02, -1.61081420e-01,\n",
       "        1.85401347e-01,  1.23630025e-01,  1.37474333e-01,  1.85629688e-01,\n",
       "        4.84458669e-02,  5.50515961e-02, -7.09643142e-02, -2.00287884e-02,\n",
       "       -8.14425883e-03,  7.67446297e-02, -8.04162373e-02, -4.78915386e-02,\n",
       "       -8.70018032e-02,  8.28633985e-02, -1.19082523e-01,  2.20801957e-02,\n",
       "        6.73911923e-02, -1.32362194e-01,  2.92234598e-01, -1.51065165e-01,\n",
       "        1.84671751e-02,  7.61631412e-02, -2.95187758e-02,  4.26155141e-02,\n",
       "       -1.99091331e-01,  2.23072543e-02,  1.71533266e-01, -6.27450501e-02,\n",
       "        7.67109925e-02, -7.50644859e-02,  5.25817103e-02, -3.87404745e-02,\n",
       "       -2.50071732e-02, -3.50361437e-02,  6.33517574e-02, -5.27540425e-02,\n",
       "       -1.13977186e-01, -1.08061564e-01,  1.15646926e-01, -9.00266363e-02,\n",
       "       -5.16767918e-02,  1.04349088e-02, -7.48046256e-02, -6.46214865e-02,\n",
       "       -1.62042924e-01,  7.50197932e-03,  2.16049298e-02,  1.14140929e-01,\n",
       "        4.24837647e-02, -8.73869450e-02,  1.78031303e-01,  1.83854185e-02,\n",
       "        7.95131369e-02, -1.80405337e-01, -6.15206359e-02,  1.42402854e-02,\n",
       "        1.08660516e-02,  1.20210294e-01,  2.37310100e-01,  2.03663439e-01,\n",
       "        2.85190331e-01, -1.39677038e-01, -9.56480608e-02, -1.38683406e-01,\n",
       "       -6.12650265e-03, -3.18931500e-02,  2.53385783e-01,  7.53137252e-02,\n",
       "       -6.19936603e-02,  1.61463467e-01, -7.65011292e-02, -2.40285302e-02,\n",
       "       -1.18103916e-01, -9.37445758e-02,  8.21795639e-02,  9.53211323e-02,\n",
       "       -1.57025539e-02,  1.41876441e-02,  1.16296855e-02, -1.53406939e-01,\n",
       "       -4.52450638e-02,  1.47359045e-02, -9.36821366e-02, -1.46016645e-01,\n",
       "        4.90322094e-02, -5.05166606e-02, -3.52350316e-02, -1.24398299e-01,\n",
       "       -6.73200282e-03,  6.29094835e-02,  1.08773066e-01, -2.23655301e-03,\n",
       "       -3.35468566e-02,  3.10521820e-03, -1.22962999e-01,  4.96219225e-04,\n",
       "        7.52335071e-02,  1.53068183e-01,  2.59872724e-02, -8.79240482e-02,\n",
       "       -1.54144925e-01, -1.75888694e-01, -1.01215729e-01, -7.28909165e-02,\n",
       "        1.31034922e-01, -5.77205918e-02, -1.39639661e-01,  9.50793102e-02,\n",
       "       -1.47037511e-01, -1.06467986e-01, -8.15552545e-04, -1.12777592e-01,\n",
       "       -9.59361029e-02,  3.24989079e-02,  9.52649704e-02,  1.07401934e-01,\n",
       "        7.78292774e-02, -5.14726035e-02, -5.07973682e-02, -1.66647976e-01,\n",
       "       -3.08324297e-02, -4.38761639e-02,  4.10565155e-02,  3.22321264e-02,\n",
       "       -1.36934097e-02,  2.73226683e-02, -6.19172746e-02,  5.53756536e-02,\n",
       "        6.87791648e-02,  1.35148757e-02, -1.30610742e-02, -1.47472374e-01,\n",
       "        5.30248813e-03,  5.09801370e-02, -1.09685023e-03, -1.45885633e-01,\n",
       "       -1.06005882e-01, -4.16751549e-03, -1.23870938e-01,  1.49885805e-01,\n",
       "       -4.05968295e-02,  1.45061608e-01,  1.39951644e-01, -3.20066462e-03,\n",
       "        1.83485137e-01,  4.19388468e-02, -2.23113833e-01,  5.17724625e-02,\n",
       "       -1.13855091e-02,  1.17284716e-01,  2.42204020e-01, -1.46317831e-01,\n",
       "        1.75233601e-01, -1.40781896e-01,  7.57542951e-02,  1.14179708e-02,\n",
       "       -4.54401715e-03,  3.49105708e-02,  2.60214861e-02,  7.92274184e-02,\n",
       "        2.14128848e-03,  6.03875875e-02,  1.34198952e-01, -3.14345433e-03,\n",
       "       -1.34458499e-02, -1.57449360e-02, -1.51334488e-01, -1.29411454e-01,\n",
       "       -2.92410016e-02,  4.22752895e-02, -9.45615750e-02, -2.49338286e-01,\n",
       "        2.57614734e-02,  7.50228343e-03, -1.98837472e-01,  1.11833851e-01,\n",
       "       -8.21896577e-02,  4.09304041e-02, -3.24680487e-01,  7.38518068e-02,\n",
       "        8.27446887e-02, -1.85911361e-01,  3.26988047e-02,  7.48621412e-02,\n",
       "        2.24224084e-03,  7.81898191e-02,  6.98882432e-02,  1.66435745e-01,\n",
       "       -3.10963412e-02,  3.86791980e-02,  5.01396308e-02,  1.38523449e-01,\n",
       "        1.43710692e-02, -1.76909228e-03,  6.75413599e-02,  9.18545444e-02,\n",
       "        2.42824550e-02,  4.37524741e-02, -7.38314507e-02, -2.52979147e-02,\n",
       "       -3.77577156e-02,  1.09710734e-03, -1.71686313e-01, -2.46178773e-03,\n",
       "        1.36607228e-01,  8.03884276e-02,  4.48544639e-02, -4.86763433e-02,\n",
       "        1.04723275e-01, -1.09664927e-02, -4.85151004e-02, -4.21890461e-02,\n",
       "        1.90940240e-01,  8.97297025e-02, -1.98005059e-01, -1.37161282e-01,\n",
       "        7.47420868e-02,  1.09962405e-01, -6.54129157e-02,  1.07752589e-02,\n",
       "        4.62402859e-02,  1.09388477e-01, -2.42989120e-02,  1.31046138e-01,\n",
       "       -2.50846357e-01,  1.29573433e-02,  8.67303988e-02, -2.42794186e-02,\n",
       "        1.00013744e-01, -8.75666806e-02, -2.21003939e-02, -2.45262272e-02,\n",
       "       -4.70384918e-02,  4.12750918e-02,  1.36780875e-02, -2.50922446e-02,\n",
       "       -3.63468866e-02, -5.09121377e-02,  1.05087690e-01, -1.37252151e-01,\n",
       "        4.18897975e-02, -4.45127026e-05,  6.87356014e-02,  8.23918641e-02,\n",
       "       -1.08926385e-01,  1.25049970e-02,  1.64536529e-01,  7.85296724e-02,\n",
       "       -5.61473481e-02, -1.13948161e-01,  7.81972559e-02, -9.88868707e-02,\n",
       "       -2.96471963e-02,  3.25660695e-02, -3.33532426e-03,  8.79054981e-02,\n",
       "        1.89361086e-02,  8.51868536e-02,  2.17074176e-02,  1.12572856e-01,\n",
       "       -9.43291676e-02,  6.30893611e-02, -7.71503454e-03,  7.57709227e-02,\n",
       "        1.68909230e-01, -2.17826743e-01, -4.30154890e-02, -2.03496277e-02,\n",
       "        1.75354916e-01, -9.59485510e-02, -4.75883127e-02,  2.30977820e-01,\n",
       "       -9.87864030e-02,  3.71072337e-02,  8.44692045e-03, -5.06236108e-02,\n",
       "        1.60409790e-01,  1.77401348e-01,  1.95365187e-02, -4.49073297e-02,\n",
       "       -4.99406636e-02,  1.58415248e-01,  9.49889756e-02,  6.98752797e-02,\n",
       "        6.01005511e-02, -1.26283691e-01, -6.45935685e-02, -8.21708235e-02,\n",
       "        3.37554553e-02,  3.00956378e-02,  2.96825717e-02, -2.36456915e-03,\n",
       "        7.04778413e-03,  7.17248654e-03,  6.80512078e-02, -2.05903826e-01,\n",
       "        1.03708497e-01,  4.69023744e-02,  7.55671001e-02, -1.68308953e-01,\n",
       "       -1.09535768e-02, -1.26710149e-01,  2.57473844e-01,  1.22751193e-01,\n",
       "        3.37558342e-02,  1.25865181e-01, -1.51161984e-02,  9.98009999e-02,\n",
       "        1.09142432e-01,  7.54877051e-02,  1.01522889e-01, -5.68981308e-02,\n",
       "       -4.55490715e-02, -6.88277616e-02, -8.39434552e-02,  1.25935362e-01,\n",
       "        1.64679105e-01, -5.17205521e-02,  1.27585657e-01, -9.60341976e-02,\n",
       "       -1.34814836e-01,  4.09567152e-02, -6.05293556e-03,  1.88340595e-02,\n",
       "        4.15870946e-02,  1.87923219e-01,  8.37882283e-02,  5.91034834e-02,\n",
       "       -1.97597701e-02, -6.54200968e-02,  1.52102391e-01, -4.11626567e-02,\n",
       "       -1.41276364e-01, -8.86228907e-02,  5.74471453e-02,  2.71888048e-02,\n",
       "        7.02749926e-03,  2.30594683e-02,  4.80719439e-02,  5.58365797e-02,\n",
       "        2.15106977e-01,  7.54874818e-02,  5.41524570e-03, -1.15422954e-01,\n",
       "        8.55031373e-02, -3.73564347e-02,  1.02995487e-02,  5.33873745e-02,\n",
       "       -2.76005375e-02, -6.34272568e-02,  1.09736649e-01, -8.06629433e-02,\n",
       "       -1.25477028e-01, -1.11539821e-01, -1.23672926e-01,  5.08352774e-02,\n",
       "        1.59554254e-02,  1.83888057e-02, -1.61510157e-01,  1.58206282e-02,\n",
       "        1.05056497e-01, -4.96347267e-02,  4.09563419e-02, -2.24263131e-02,\n",
       "       -7.09228441e-02, -2.03998768e-01, -1.84430206e-01,  1.14837165e-01,\n",
       "       -1.09274976e-01,  2.34344450e-01,  2.02258914e-02, -1.86365663e-01,\n",
       "       -5.02150724e-02, -2.45796309e-02, -6.37902318e-02,  6.66674323e-02,\n",
       "       -6.27049892e-02, -1.15162707e-02,  2.02563300e-01, -1.22746173e-01,\n",
       "       -3.78123586e-02, -9.79354760e-02, -2.67211830e-02, -1.08482742e-01,\n",
       "        1.17012495e-01,  1.13530940e-01,  4.05543218e-02, -1.34591766e-01,\n",
       "       -1.26462522e-03,  2.90823536e-02, -1.82932082e-02,  3.18323248e-02,\n",
       "       -3.41364409e-02, -5.57244504e-02, -1.28590054e-01,  1.32165833e-01,\n",
       "       -2.34511292e-01, -9.32444594e-02, -1.03998640e-01, -7.89601452e-02,\n",
       "       -4.65911744e-03, -2.29688042e-02,  5.28845677e-02, -1.65118256e-01,\n",
       "       -1.26808626e-01,  1.25692464e-01,  6.45219380e-02,  4.05059590e-02,\n",
       "       -1.09294509e-02, -7.34538459e-02, -7.04203610e-02,  1.20507726e-01,\n",
       "        4.11555615e-02,  1.67334625e-03,  3.00833261e-01, -5.95014937e-02,\n",
       "       -7.69454555e-02, -1.64798241e-02,  8.74012918e-02,  5.15118094e-02,\n",
       "        5.48779300e-03, -7.48574513e-02, -1.06956997e-03, -9.33653170e-02,\n",
       "       -1.46083935e-01, -5.57858501e-03,  8.91948204e-03, -2.06147843e-01,\n",
       "       -2.00721679e-02,  2.25048649e-02,  3.09313758e-02,  2.59025112e-01,\n",
       "       -1.66003085e-01, -3.08991068e-02, -1.17954354e-01,  3.32051741e-02,\n",
       "       -3.34635929e-02, -2.17871156e-02,  2.28757536e-01,  1.53879490e-01,\n",
       "       -8.40593321e-02, -2.30845560e-02,  1.56099429e-01, -9.43331208e-02,\n",
       "       -7.99680569e-02,  1.31695836e-01,  1.81384023e-01, -4.15935800e-02,\n",
       "        6.04462842e-02,  1.97919935e-01, -2.19354652e-02,  1.70359727e-02,\n",
       "        6.10136554e-02, -2.30866059e-02,  9.49155458e-02,  1.60388800e-01,\n",
       "        2.85490115e-02, -5.20808614e-02, -1.99934671e-01, -3.50298819e-02,\n",
       "        5.65945722e-02, -2.59611195e-02, -2.97528326e-02,  1.57942719e-01,\n",
       "        1.63879368e-01,  1.21291956e-01, -2.43300682e-01,  1.38989525e-01,\n",
       "       -4.27328427e-02, -8.71948330e-02,  1.49941402e-01,  8.97329142e-02,\n",
       "        8.82865718e-02,  3.78065397e-02, -3.70265139e-02,  1.42502093e-02,\n",
       "        4.50573021e-02,  1.60640837e-02,  2.14618693e-01,  1.12881455e-01,\n",
       "       -8.63655808e-02, -8.38535222e-02, -6.31984335e-02,  1.61191942e-02,\n",
       "       -2.54137561e-01, -3.89270341e-02, -4.72308471e-03, -8.80684653e-02,\n",
       "       -1.70679087e-01, -1.15498017e-01,  3.21950363e-02, -5.63671078e-02,\n",
       "        1.49743201e-02,  5.69006381e-02, -1.87180773e-02, -5.04657036e-02,\n",
       "       -4.88000242e-03, -1.06598462e-01, -6.37860045e-02, -5.71484720e-02,\n",
       "        6.24986326e-03, -1.23163607e-01,  5.46751722e-02, -5.65107621e-02,\n",
       "       -1.00401494e-01, -1.15695249e-01,  1.48613966e-01,  5.05329996e-02,\n",
       "        1.33770418e-02,  2.34706146e-02, -1.13547009e-01,  1.22093429e-01,\n",
       "        1.19956099e-01,  2.53113933e-01, -1.46750948e-01, -6.30709212e-02,\n",
       "       -4.28364625e-02, -2.92863030e-02,  1.15807066e-01,  1.41392766e-01,\n",
       "       -6.89417583e-02, -6.88165865e-02, -2.85292149e-02,  4.05596127e-02,\n",
       "        3.94999328e-02,  3.58498321e-02,  1.11929938e-01, -3.16034061e-02,\n",
       "       -2.47720329e-04, -4.30752129e-02,  1.99563441e-01, -7.44923052e-02,\n",
       "        4.48715198e-02,  1.43852933e-01, -1.09270515e-01,  8.73201377e-02,\n",
       "       -1.84805791e-03,  4.29946914e-02,  2.78164661e-02, -3.15611359e-02,\n",
       "       -5.57739234e-02, -4.32030167e-02, -5.92653251e-02,  1.60304994e-01,\n",
       "       -8.39206900e-02, -4.21505621e-02, -7.28986020e-02,  1.19751743e-01,\n",
       "       -2.89597547e-02, -3.05404600e-01,  5.75783456e-02, -7.40236532e-02,\n",
       "       -1.85849228e-02,  2.12929735e-01,  9.72806024e-03, -4.78777843e-02,\n",
       "        8.97457429e-02, -4.85081474e-03,  2.52278609e-02,  1.16434296e-02,\n",
       "       -3.73889215e-02, -1.36869249e-02, -1.98118099e-01,  3.67394568e-02,\n",
       "        1.20224793e-01, -1.38622285e-02,  3.11250598e-02, -7.30700948e-02,\n",
       "       -2.37288159e-01, -1.81968742e-01, -3.63614987e-02, -7.58223146e-02,\n",
       "        9.46539108e-03,  5.23961212e-03,  6.13732131e-02,  8.92056811e-02,\n",
       "        2.09851638e-01,  1.13601161e-01,  1.59910471e-01, -8.64166832e-02,\n",
       "       -6.53183937e-02, -3.29866631e-02, -1.50767771e-01,  3.84217979e-02,\n",
       "       -1.13234963e-01, -1.75827255e-02, -5.01741062e-03,  1.17211148e-01,\n",
       "        2.98251580e-02,  8.68330388e-02, -5.20061646e-02,  2.68733222e-02,\n",
       "        1.12531613e-01,  8.86600691e-02,  3.19146364e-02,  1.09770300e-01,\n",
       "        2.78765221e-02,  8.85821964e-02, -1.66950797e-01, -4.40793703e-02,\n",
       "        2.75486461e-03,  1.93337387e-01, -1.03668541e-01, -1.61657729e-02,\n",
       "        9.69860847e-02,  5.76095422e-02,  5.58168064e-02, -2.87202943e-02,\n",
       "        7.86115809e-02, -1.24036687e-02, -1.30520654e-01,  5.13601771e-02,\n",
       "        6.95209888e-02, -2.98504849e-02, -4.99669640e-02,  1.99441309e-01,\n",
       "        4.33424578e-02, -1.39388173e-01, -3.90604254e-02,  7.06642183e-03,\n",
       "        1.05763651e-01, -2.31993557e-02, -2.40950436e-01, -4.76073308e-02,\n",
       "        1.71775068e-01,  3.11668238e-02,  5.90379762e-03,  9.76499621e-02,\n",
       "       -2.06647378e-02, -8.46523373e-03, -3.84532737e-03,  1.79544956e-01,\n",
       "       -4.74924922e-02,  7.14255844e-02, -2.45850513e-01,  9.15133033e-02,\n",
       "       -1.22815280e-02,  8.42729310e-02, -2.30033306e-02, -1.70843986e-02,\n",
       "        1.06775682e-01,  1.06055376e-01, -1.42466259e-01,  4.61170761e-02,\n",
       "       -1.65251813e-01,  1.11878551e-01, -6.00836684e-02,  6.79330930e-03,\n",
       "        7.02417389e-02, -8.74278644e-02,  3.53214930e-02, -1.89602181e-01,\n",
       "       -1.29526392e-01, -1.19953458e-01, -1.04454650e-01,  1.74504870e-01,\n",
       "       -1.30657222e-01, -1.04747026e-01,  1.55422689e-01,  6.91703983e-02,\n",
       "       -3.66183463e-03, -3.75251958e-02, -3.71433347e-03, -1.12335551e-01,\n",
       "        1.49827877e-01,  2.50441824e-02,  1.70789985e-01, -8.68850461e-02,\n",
       "        1.90470662e-01, -5.43047509e-02, -1.06066308e-01, -4.20792094e-02,\n",
       "       -1.14427548e-01,  5.14623789e-02,  1.95672275e-02, -1.93682976e-02,\n",
       "        2.32108188e-01,  6.28363135e-03, -1.86905752e-02,  6.15301268e-02,\n",
       "       -9.13813500e-02, -5.91353198e-02,  1.84131541e-01,  1.05098641e-01,\n",
       "       -1.18354421e-01, -9.47270868e-02, -1.15155907e-01,  1.86576025e-02,\n",
       "       -1.47409766e-01, -6.63320228e-02, -1.27028626e-03, -8.61612162e-02,\n",
       "       -2.45724387e-02, -1.40607062e-01,  7.93430092e-02,  6.47412918e-02,\n",
       "        1.57590789e-01, -1.57816705e-01, -1.08973796e-01,  7.62857138e-02,\n",
       "       -1.00144790e-02, -5.63949846e-02,  4.15276640e-02, -5.50305588e-02,\n",
       "       -8.72098025e-02, -6.47131726e-02,  1.88273854e-01, -5.81251092e-03,\n",
       "        1.16348581e-01, -1.03811359e-01,  2.48226798e-02,  6.91990365e-02,\n",
       "        5.10156243e-02, -1.82201419e-01, -1.27112767e-01,  2.29986458e-02,\n",
       "       -1.76760898e-01,  5.32850725e-02,  1.66286820e-01,  1.26742423e-01,\n",
       "       -1.18424961e-01,  9.53722263e-02,  1.08542881e-01,  1.17706430e-01,\n",
       "       -4.96499699e-02,  1.45710013e-01, -1.38941306e-01, -4.51096422e-02,\n",
       "        1.88021485e-02, -9.85891991e-02, -3.62099480e-02, -1.36705130e-01,\n",
       "        5.43486370e-02, -1.13017733e-01, -3.59575157e-02, -1.71719182e-01,\n",
       "        1.51064314e-01, -2.03550823e-01,  2.27881333e-02,  2.77477531e-03,\n",
       "       -1.15971248e-01,  3.58570577e-02, -1.54648212e-01,  1.13209534e-01,\n",
       "       -1.71540580e-01, -8.13403616e-02, -1.01121351e-01, -9.72877655e-02,\n",
       "       -3.68499419e-02,  2.81284506e-02,  6.12479651e-02, -1.23396357e-01,\n",
       "        3.91345897e-02,  1.91201372e-01, -7.54838975e-02, -2.26218942e-02,\n",
       "        3.08970496e-02, -6.07238039e-02,  8.72757021e-02,  8.69308760e-04,\n",
       "        3.16703581e-02,  7.97098282e-03, -2.18024857e-01,  6.93265878e-02,\n",
       "       -1.32364869e-01, -1.56523543e-01,  1.67080359e-02, -1.64327821e-02,\n",
       "        2.63916459e-02,  2.73053363e-01,  7.22913406e-02, -1.05037793e-01,\n",
       "       -2.86011921e-02, -2.50978023e-02,  1.51323120e-01,  1.31034557e-01,\n",
       "        6.16322560e-02, -1.36169644e-02, -4.22549012e-02,  7.16650794e-03,\n",
       "        4.13696179e-02,  5.21235188e-02, -1.77094406e-01, -1.73546694e-02,\n",
       "        3.86497008e-02,  3.10153175e-02,  1.16119028e-01, -1.26660508e-01,\n",
       "        3.66421024e-02, -6.04478623e-02,  1.80459033e-01, -1.74629752e-02,\n",
       "       -2.24452689e-01, -6.59968862e-03, -9.74319827e-02,  3.42114358e-02,\n",
       "       -1.07542352e-02, -2.47357203e-02, -1.05392946e-01,  9.88989585e-02,\n",
       "       -8.48866780e-03, -4.13203841e-02,  9.44644155e-02, -4.41660414e-02,\n",
       "       -1.16990168e-01,  5.16345805e-02,  1.67197098e-02, -1.36046230e-01,\n",
       "        4.45930943e-02, -8.44146269e-02,  1.13811188e-01,  1.88380603e-01,\n",
       "        2.36465419e-02, -4.25595923e-02, -6.56893126e-03, -1.50758655e-01,\n",
       "        2.06257113e-01, -1.29838824e-02, -8.06277551e-02,  5.46287371e-02,\n",
       "       -4.75147127e-02,  7.27093558e-02,  1.37138379e-01, -1.76271218e-01,\n",
       "        1.88183396e-01,  1.64136877e-01, -7.12529720e-02,  1.25087712e-01,\n",
       "        3.02951846e-03, -7.48867451e-02, -3.31236286e-02,  6.77996290e-03,\n",
       "       -1.37987144e-01, -1.31866282e-01,  4.25656842e-03, -1.53360772e-01,\n",
       "        9.68761685e-02, -1.78648081e-01, -2.10000056e-02,  3.22817353e-02,\n",
       "       -7.67042247e-03, -1.64896438e-01, -1.68460000e-01, -1.42467693e-01,\n",
       "       -6.52405654e-03,  5.95105913e-02, -2.10289012e-01,  4.99521132e-02,\n",
       "       -1.83884674e-03,  5.60438771e-02, -9.68235942e-02, -1.52847201e-01,\n",
       "       -2.15007300e-02,  9.57462105e-02,  3.65424637e-03, -1.85525257e-01,\n",
       "       -3.52172469e-02,  1.51020757e-01, -3.55967224e-02,  7.02219695e-02,\n",
       "        2.00798316e-02, -6.63234281e-02, -5.51573076e-02,  6.41658830e-02,\n",
       "        2.42564565e-01, -1.82219016e-01, -3.92067547e-02, -1.33181543e-01,\n",
       "        1.95039367e-01, -1.21551085e-01,  1.18680924e-01, -7.58487110e-02,\n",
       "       -1.88897237e-01, -1.11027996e-01,  5.62347835e-02,  3.58521617e-02,\n",
       "       -1.07700875e-01,  9.79493947e-02, -1.76667859e-02, -2.62571177e-01,\n",
       "        1.08312304e-01, -4.37232019e-02,  4.75666735e-02, -2.63057302e-02,\n",
       "       -1.85073467e-02, -9.06594548e-02,  1.98614745e-02,  1.01675546e-01,\n",
       "        6.51293611e-02, -1.30633615e-01, -1.63547212e-01,  9.65172528e-02,\n",
       "        1.22322176e-01,  2.59907552e-02,  1.34649149e-02,  1.72585531e-01,\n",
       "       -6.54795351e-02,  1.32838940e-01, -1.16140118e-01, -8.91345801e-03,\n",
       "       -1.21602649e-01, -1.57212231e-01,  2.63989000e-02,  1.02828307e-01,\n",
       "       -1.07135394e-02,  1.33188089e-01,  1.35032586e-01,  3.72346126e-02,\n",
       "        1.81370185e-01, -4.96401134e-02, -9.07169649e-02,  4.33612072e-02,\n",
       "       -1.37648876e-01,  1.17159466e-01,  7.19760745e-02, -9.71965256e-02,\n",
       "       -5.05488061e-02,  2.77406808e-02,  7.64497149e-02, -4.30855210e-02,\n",
       "        7.73942760e-02,  6.80809604e-02,  5.01092186e-02,  8.39239303e-02,\n",
       "        2.93140239e-01, -1.43551249e-01, -4.99158782e-02,  5.83209233e-02,\n",
       "        5.19845285e-02, -1.02771382e-01, -8.24264916e-02,  7.74110795e-02,\n",
       "        1.46427241e-01, -2.21686295e-01,  1.14548712e-01,  7.48167340e-02,\n",
       "        1.08475211e-01, -7.50751356e-02,  6.78004054e-02,  3.37317036e-02,\n",
       "       -5.19565073e-02, -1.92735470e-02, -5.75161340e-02,  1.48289865e-02,\n",
       "       -3.75626080e-02, -1.68013179e-01, -3.81447579e-02, -5.56526372e-02,\n",
       "        4.60260725e-03,  6.84668931e-02,  6.94415019e-02,  3.20856436e-02,\n",
       "       -7.82020785e-02, -1.74752018e-01,  8.51706367e-02, -1.16654353e-01,\n",
       "        1.14861104e-01,  3.98500505e-02, -5.10205296e-02, -7.57533718e-02,\n",
       "        1.66356477e-03,  3.96862289e-02, -1.53054091e-01, -9.60135003e-02])"
      ]
     },
     "execution_count": 209,
     "metadata": {},
     "output_type": "execute_result"
    }
   ],
   "source": [
    "mu, sigma = 0, 0.1 \n",
    "s = np.random.default_rng().normal(mu, sigma, 1000)\n",
    "s"
   ]
  },
  {
   "cell_type": "code",
   "execution_count": 214,
   "id": "77f7670b",
   "metadata": {},
   "outputs": [
    {
     "data": {
      "image/png": "[encoded data removed]",
      "text/plain": [
       "<Figure size 640x480 with 1 Axes>"
      ]
     },
     "metadata": {},
     "output_type": "display_data"
    }
   ],
   "source": [
    "import matplotlib.pyplot as plt\n",
    "s = [0.07769171821925086,0.07397801215508112,0.06284473992006478,-0.007269864489042457,0.022678765812133544,0.019380083208553445,-0.01067602157384977,0.018770517874956413,0.09028050560956996,0.0221001947355998,0.02574314303335113,0.008362679251030796,0.20314146211210915,0.03564160874573546,0.07402340450351429,-0.10019779045261126,-0.01801134350606872,0.03402186887162342,-0.03490387478986331,0.05736300658315801,-0.05674116565794817,-0.001125113312501269,0.040665499827567196,0.21621958021717794,-0.06838509914437878,0.08052958126670885,-0.11800155336450086,-0.010304175674387779,-0.054025657045352005,0.12255475358545243,0.051464621110808385,0.006311775222954856,0.03571491355619141,0.06115066617615503,-0.028348863577854995,-0.21907114500720112,-0.020902682304032635,0.1200397353677229,-0.04114906466531713,-0.028191324183581213,0.1619362544020996,-0.052326983987518116,0.06802356022597536,0.09615362609544507,0.1453313289929423,0.05171031043394934,-0.03492656940683236,-0.031726818308100875,0.12140030320777469,0.05706448587587362,-0.0686450795779243,-0.17641799102831035,0.010147431963989734,-0.04862824170139252,0.02341008986244928,-0.045919183430614616,0.16178670345396368,-0.03676563324962608,-0.1016232244069043,0.16270328687916957,-0.05366546709545139,0.06654007102439248,-0.12469709573164325,0.033934437809197325,0.04978608611555327,0.1679532014235142,0.10051639406733033,0.12034584474719051,0.08222856653101893,-0.08492170562625638,0.056206172882903555,0.12372815268058651,-0.04072743371601109,0.029711902315674166,-0.08576017063185025,-0.028302679740081882,-0.10300940853933703,-0.007888766021430375,-0.01819898364971202,-0.0199242754314852,-0.018295650233978226,-0.005474513618893846,-0.05404370424534497,0.04629841398939005,0.09797287418857008,-0.08023979531101832,-0.05609889455857528,0.06201844622375098,0.042836502411842885,-0.054797965214371226,-0.11453049348878981,-0.05644618387044584,0.2506351483667237,0.012018271918770765,0.12591520690148642,0.0012587615104611915,0.13817647106687522,-0.03303830836873226,0.21178012738212187,0.016129130824285288,-0.0006061295234102261,-0.1432754742051153,0.13146417651718395,-0.06177413563278407,-0.05800845342979103,0.012743477230142361,-0.03807099666198538,-0.09466166587618191,0.1273867639445578,0.03835881875186876,-0.014820581626611654,-0.2844240101561556,0.034585408268565314,-0.09623944848972112,0.1339402856253172,0.054680158246877344,0.10874906635923659,0.06338525089750686,-0.07528637732655516,-0.08162726506981813,0.09551863729976624,0.0030547105521873245,0.00984986470913291,0.008134780646598805,-0.04107478004842074,0.02741867838764811,-0.11201215849936796,-0.15872997067416172,-0.02968284688482802,0.037306069163309086,0.09556087399005912,-0.17676013259919876,0.09740629905466887,-0.04435239166053978,-0.11675196173546842,0.09360323793720612,0.06862265865932023,0.1296276871374315,-0.04713159288498454,-0.046432852457450914,0.07335730517003486,-0.0016375090684543746,0.13614401035972443,-0.04730515304832129,-0.09596314212575491,-0.05725286900855378,0.005268199623232851,0.08900490069764924,-0.13063713399028448,-0.07178566833560239,-0.035127873220620214,0.14103223007981547,0.16222759297856917,0.09651984779070294,0.08587764041997302,-0.011442865483360792,-0.1139683324349584,0.01224632948085188,-0.09427060078165653,-0.14103763659207616,0.08333780475996802,0.060682105840641265,0.03729494269093842,-0.16640162433066366,-0.014796731872256184,-0.09870660247562427,0.1457318543078541,-0.034833982783325085,0.1681840520418881,-0.019509431355124097,0.008210101164734527,-0.0032262434145969854,-0.1117766866411437,0.03883437781617506,0.045988456519624084,0.1080832478408722,-0.003567158738669854,-0.018998508064942875,0.024088420842990177,0.011813088333056629,0.11486980673061042,-0.07190570830409425,-0.10461991942407385,0.18377409308573556,-0.10908545954194451,-0.005973150675931606,-0.14232586980796846,-0.25509086205604564,0.06796784795971864,-0.01388831646921597,-0.08500297564951403,0.026132812053572124,0.004695662861039333,0.02574689114535547,-0.064091518995915,0.01593753073112009,0.027088998798792382,0.0686808186344741,-0.10797487050507698,0.2674547669884086,0.09157599998417097,-0.005495383174173009,-0.006553869400393162,0.05695920688104718,-0.02415324166007736,-0.029175451632621703,-0.0320578626607361,-0.000564133548679221,-0.24262916068348092,-0.2787310527502253,-0.10604268421939539,0.017252029016568245,0.02177034471772777,-0.08297272740805703,0.14790357845588142,0.011604602041828473,-0.13111047606261222,0.026583266639482957,-0.17737832482577523,0.25311055028634394,-0.03999120963923721,0.03135499112433217,-0.10707881392151947,0.2315500310497794,0.20650334267254103,-0.10120768045742799,-0.0023569036053720945,0.09189740799430085,-0.146994326732916,0.00027300826535216937,-0.05306478365097315,-0.23990760070532058,-0.09945478199952897,0.10785220065495492,0.02973502019929138,0.12638426718162252,-0.05159367995997041,-0.03924716435688646,0.06382279649287075,0.05271910594801556,-0.03668022381317459,-0.07361947890177244,0.02051701763715102,-0.019060910037023298,0.06894486293943251,0.02659129472042844,-0.09014963489183073,0.03853379276468208,-0.11390267841234276,-0.16211033499231947,-0.200452622557535,-0.023119947315565045,-0.003179829869903879,0.10110365341590243,-0.14563468965532808,0.042550186429146895,0.12453487609806593,0.003671101716721074,0.07501180975335561,-0.19127987712961672,0.049220663262698534,0.12147893851943639,0.013018345093087214,-0.12306384189616859,-0.027052677176626135,-0.31223778497051674,-0.015178542757217087,-0.07364004955719221,-0.0038829824797557175,-0.05562489499296985,-0.08399296912084336,0.18374538305467686,0.1426199170292203,0.08867063632680962,-0.012816062962286401,-0.07627002370338376,0.024174760220902106,0.08693763748132863,0.07621006937103715,0.1539607777361066,0.05629688537357872,0.13925504272992886,0.08390649259690033,-0.003507809198442286,0.06279221723732781,-0.06252893191757768,-0.02512822929767712,0.044023396500435845,0.22118686631177056,0.04349320267130465,-0.12962549598126902,-0.13423470367746143,-0.10336314928637172,-0.0019002045599207673,-0.06288971544379367,-0.11663104720933314,0.037821843641919504,0.12821894054897645,-0.09495251813833293,-0.03753752993202142,-0.13809030414206422,-0.05564819254239121,-0.0045189007167557105,-0.05809972682904953,0.026178935066114767,0.09048985907118977,-0.008638495677748537,0.0940451090215814,0.07046862927926059,0.11752107575308657,-0.012148667209878847,0.03345989756106655,0.026073196215859254,0.03606437050780199,0.07726745769024942,-0.14720065983865735,-0.05910938957455503,-0.0013125536146817952,0.1766549280698464,0.030693265960473393,-0.146258595147654,-0.061543693745307604,-0.010430537715067967,-0.053464799046451905,-0.006038776648481499,0.009416283442621631,-0.00023038680920138804,-0.23522179016292083,0.032091726884805126,-0.1481913774303649,0.11221233291101754,0.029295022461034784,-0.013231995550976565,0.11374039556934108,0.17029547072059484,-0.09590584481032695,0.03126014921767155,-0.12961762610860728,0.0027204881307591492,0.15509069605065015,0.010171167733235495,0.040006671434275,-0.02522307698876978,0.03032063345638382,0.13977531690138104,-0.16674012055439114,0.0832331327074648,0.00487221546102589,0.004860224373835518,-0.02401205621597955,-0.08304436976243376,-0.04183471804264083,0.05987604510097725,-0.035799182238518926,-0.14621472217320766,0.096332584968432,0.27386352992991897,0.021883457528707975,-0.04260525072115025,-0.031071195084707244,0.09269433104138605,-0.08568841956884,-0.05584743327951175,-0.15106962066058105,-0.02174099045317728,0.07787492210028138,0.03926179460534283,-0.10640902790635971,0.14090192679152405,-0.12961034238033836,-0.011217798216776419,-0.08636061580117105,-0.19469201167451144,-0.0984658891944298,0.0070458999613151625,-0.026170982242350194,0.11427838010282834,0.020735478671193647,-0.036837548739161195,0.1864285795261357,0.025979509845812224,0.2483621449172315,0.030099542039394606,0.18444297419575584,0.023443744481405304,-0.03575561667039872,-0.20878738364496474,0.06116771146784827,-0.08882791884977544,-0.007994942920924246,-0.0382696191543869,-0.09970226039697318,-0.06879152394898627,-0.06812004627893763,0.016732532449960574,-0.04755995427802679,0.0306414868543202,-0.08416909387369004,0.03859130629644199,0.09458296392057276,-0.0068129040148794855,0.068757371756185,0.0869898033264951,0.06947681084395288,-0.03648573658512437,0.09970243727635503,0.019807793479379977,-0.0870971411408896,-0.01252886698122943,0.2238191111993022,0.015242150821502473,0.01337014385850181,0.004703847116093759,-0.10499264396031521,-0.023503321969553993,0.019765075076819585,0.07456490973135724,-0.019521808062093013,0.12620587141789757,-0.2878630516177782,0.15278059871784422,0.11211480259748817,0.005830915461507025,-0.2749479895900206,-0.043871003515899905,-0.07994488797120984,0.10183679042499448,0.16721383192106193,-0.10714490345795454,0.005666064814168488,-0.19430373609855703,-0.012054342232012238,0.0514797845492335,-0.006737836319025309,-0.18671540578101523,-0.0017400285767087938,0.07143068903044306,-0.008157198392846536,0.003519041801737822,0.051502400184176414,-0.055828225176959526,0.03262776548387115,-0.08867335596896009,0.05379215554463557,-0.0934973532966258,0.027714121761277296,-0.1393500995156148,0.10444808519976259,0.0722292526408036,-0.04018112444029967,-0.01990483245380354,0.18664986462949484,0.06749616159710278,-0.1426945018193906,0.016787449271722835,0.05328418739054491,0.021015644892682706,0.002723355025119828,0.25231079288581365,0.11034240256737325,-0.01765098072449339,-0.04137745309900606,0.023578205004291097,-0.22956783479421922,-0.018704697756144105,0.15671910007476444,0.06326736030178824,0.06193977296660126,0.03653516483596885,0.08115344310907559,0.14078627363556162,-0.09860996767780603,-0.04797513738398911,-0.08903981535846135,-0.05052716091197993,0.13057786595389734,-0.024083271353996634,0.08940385464014586,-0.1011294180336059,0.11581205675591758,-0.1425012021933961,0.011450341476235821,-0.01676519766541689,-0.0525736893397242,0.19034568870801208,0.1322401227978573,-0.05332524069058353,0.0635000558001145,0.055899819931393924,-0.08367427619310076,0.01564981238796961,-0.09699419776274922,0.020716291647582596,0.12926246583858866,-0.16079777389735972,0.02230877813545656,-0.11094501155177557,0.05931141211093475,0.12143127520420599,-0.009919373234526456,0.003769459708534326,0.1868554751311774,0.05278903896532572,-0.04210423404553778,0.02490324311467751,-0.04160824670027639,0.17141598325624177,-0.18046971725635758,-0.03680023607854811,-0.03619498877830839,0.11733898126905418,-0.0817689606855496,-0.13180697172996012,-0.10377353410595257,0.03794804417185876,0.07009383603602766,0.002344248697065077,0.016073369801667542,-0.10476004279873258,0.058980633791631557,-0.030222623219619972,-0.15136649021671253,-0.02602047390928225,-0.16358722376508664,0.07168769108691883,-0.009782259465471656,-0.134848739809871,-0.014327133750904351,0.0590947781116957,0.0017081383995906346,0.04725166958657991,0.08656763398898815,0.08257449384018979,-0.10824517876134501,-0.025946849484855233,-0.0986402617971484,-0.056038641606747236,0.12192157896875747,-0.10821599007748142,0.02540805864128842,-0.0049083941018121585,0.0856107862371866,0.029364853724836656,0.07067798486202267,0.016928734500671675,0.011510558836754165,-0.16384978650258805,-0.0001396144155901989,-0.07941034883015641,-0.15949411946933453,-0.0773390573609079,0.009806703884933404,-0.021663750794159928,-0.3148319493078492,-0.05952657573419018,-0.08108549841346285,-0.06652855413811963,-0.15513437223718188,-0.14853810691454458,0.03129147447280713,-0.11690918237257326,0.12856520161782098,0.05872993116386402,-0.10395390626558179,0.00598803990073945,-0.06231262073524651,-0.012577177801597806,-0.18146226350777256,0.1978529463401424,0.15761734951836642,-0.1161693686990655,-0.057185692500107216,-0.05993898453289651,-0.12080522209705556,0.007800414137267106,0.1831230589852188,0.010775496632756495,0.1795672041232334,-0.0025285577349168182,0.07008319500662351,0.10622339424656786,-0.05368304546537944,0.1349208848166815,-0.02391278848688773,0.016621889831044144,-0.08658396852625871,0.009514405876031556,0.04521312105367367,0.07809077421742971,-0.13227770385931684,-0.01501361064778469,0.12844731573433443,-0.12574281153038946,-0.06037559783885138,0.033627200297347545,-0.03835862325689593,-0.14000847475857156,0.09692487302217975,-0.10938935873279872,-0.18267685591285932,-0.029230976851159732,-0.04490181573376483,0.147651495900184,-0.19221869086887036,0.13404055155961908,-0.02443868314318309,0.16548160691392957,-0.10864494572182451,0.1453923084660936,0.034203098174527075,0.026989598891684202,-0.06609280638460643,-0.02718564611233882,0.052654757143485,0.06951957755079773,-0.06952412328225835,0.0279672929933743,0.04807373292090799,0.03563306653007966,0.16412138018748393,-0.06847755900237892,-0.07566234046695353,-0.04257867824943597,-0.202950232587332,-0.05119551862079093,0.05753173376091545,-0.06909565987347141,-0.039603736436116976,-0.06783900789903786,0.06403730723268594,-0.14486574821760798,0.11022194551088507,0.03320671113024895,0.022384919504333103,0.13736755152607003,0.04555647145122422,0.055991701013934116,-0.0003927053453527476,0.2524920568618371,-0.019898510301066312,0.023563810799738707,-0.01910150380232113,0.06748203296598675,0.005745512010448698,-0.02625100247454369,0.015720026583382254,0.1487989695888818,-0.06174873798927291,0.05836304009378656,-0.1308475712776925,-0.01908287502572627,-0.10507026799729338,0.058668458697325766,0.09399832689002402,0.14080241389991052,-0.02764176835164239,0.0702539829947955,-0.15715395093954287,-0.01823417046787378,0.008580148408669695,-0.1187847784913577,0.03462959008041676,0.035800218345392355,-0.2219669415619535,-0.03915636967770997,-0.10415281622650525,0.0424782061512248,0.09977333761437489,0.10076003231985586,-0.037678721314624325,-0.021302371425410926,-0.11769864871490619,0.05328926218484508,0.006902082181835974,-0.07001230309208313,-0.2615859863307489,0.247161071404902,0.10207961169359654,-0.05191777121673724,-0.02753451095483524,-0.23966840109148083,-0.028916592237503414,-0.10069408045552586,-0.0572739346715867,0.00678825774686625,-0.019105252271181677,-0.06541977308210088,0.06958858187505704,-0.08843516241988658,0.1505245085394607,-0.09900060954418696,0.1611798378212328,0.15942827867499565,0.12661146295170966,0.24083595220017676,-0.03276457003387226,0.03030752589310335,-0.03748361572233695,0.06544215569946908,0.011758759259950484,-0.22990957793474842,0.1303683589463235,0.2107950400512107,-0.12274496974704373,0.16048067062135332,0.09165154143605347,0.007911396469207991,0.12473923644720122,0.030507765860206305,0.15937227179053645,0.10048931057644009,-0.011839056302218936,-0.06064502077295149,0.1562138194637946,0.06604746795300344,0.13679422322136278,-0.2011786352426916,-0.1329477042438784,-0.1262915538750434,0.02500933532417044,-0.08770697137137767,0.11059861670330028,-0.050858721371621465,-0.07759777310172987,0.01758575111294543,0.012192304618417958,-0.08350424319963712,-0.03156315173599361,-0.08546817821059717,0.023281319970495897,0.0945316285704541,-0.0207220687055315,-0.009925245452439366,0.09297189110573323,-0.1458958641965946,-0.19160289186602905,-0.09852427890317275,-0.15153816858689173,0.03670202730007691,0.14973680910513906,0.10367226953001624,-0.05984844868862829,0.04065208614504892,-0.02983331810791742,0.059753822940369496,0.07672518407620396,-0.022825062115453765,-0.06597227214867701,0.0684817069314171,0.09281022895271081,-0.015105866224833378,-0.0805399144846474,-0.07986323735955801,-0.23767849470414212,0.0034065705789033153,0.0295683221307404,0.04314940574624247,0.0016603296129599758,-0.07112406278785954,0.07021952897484035,-0.03912045613639659,0.062312679723074374,0.08539684521823476,-0.09866521445384172,-0.0416799440056198,-0.044471605677984284,-0.09082105782346526,-0.07597955727056273,-0.06303409700931388,0.005204633747677514,0.0806490649739163,0.048973960295539055,0.060490138882918834,-0.10446201508965042,0.10247560255002196,-0.010668779443502736,-0.020542674755464636,-0.2273783127795507,-0.0028644694422968633,0.10181919772500883,-0.051720106166551455,0.043878794453946046,-0.04715676549719049,-0.06644084765937161,-0.09378506230069711,-0.07736430867190831,-0.03011861504303888,-0.06154972731116074,-0.1042986098595073,-0.031082764752714515,-0.16145542026291926,0.04717784527652783,-0.02794481659849889,-0.11878030890167982,-0.18782374351543282,0.06459919422091213,0.08927468991424543,-0.10223109720055056,-0.08686743600574512,0.005708836151473236,0.13200931808075617,0.019123115428223023,-0.011513161330432696,-0.008573813759095264,0.026732988616279315,0.02420729125204318,0.15281843756153546,-0.07395156021518194,-0.03851147005830259,0.14487742734841694,-0.0667026380975189,0.09373386032201296,-0.004759783762375489,0.1782421864664723,0.0003810442359683143,0.14884637593915107,-0.04005501792359918,0.002312757067354554,-0.013597131436513553,-0.15748094190873152,-0.07222820108608372,-0.09533287825090438,0.06749770605191434,-0.01789979933725864,0.10245901565520216,-0.0709962775109253,-0.009942984795690685,0.04465829736847454,0.16877367708634974,0.013162671340953015,-0.14681686520988496,-0.029260273464319937,-0.26067416521001113,-0.09956928105814875,-0.20322624958419366,-0.05165319410256637,0.12557416336979266,0.07293350875238372,-0.24212601442217974,0.12155383063643128,0.0675575418166661,-0.0025986688411440313,0.08337124775327742,0.03735918368267992,0.030411309497977185,-0.08483599301837447,-0.21323327545556797,0.0005711607145189311,0.09064872712107139,0.06559122545847458,-0.07109454436519447,-0.02734979816044347,0.01899859441083894,0.076797346880869,-0.11856157872973241,0.2068680057953003,0.04065984146898802,-0.037334899596131337,-0.20162065112493066,-0.22896009512818286,-0.11255546559971329,0.0465073471336438,-0.09868494501223198,0.008921282309632359,-0.10625553213135606,-0.1196053861206627,-0.10504022074243276,-0.1055766622002915,0.15653411648561316,0.037754356107179504,-0.0650991437503019,0.042934272041156435,0.08674287986057232,-0.14274694714889025,-0.16590703938818296,0.11735705330773466,0.08324494279350225,0.001570187415998061,-0.14175161551903465,0.16151674967225116,0.020924967200158462,0.04554365950611649,-0.020411641795517896,0.09051918751778526,0.2701803883853319,-0.025595170148134522,0.041386935788512304,-0.038627404220854346,-0.021582156074006115,-0.13005887698511784,0.0248816227658375,0.030514024478854512,-0.09517802128101599,-0.09389191692740771,0.05924973346193586,0.13022696266744127,0.020660091959588987,0.07371642745748154,0.03609273012094004,0.0044414309689783235,-0.07466797833863564,0.09804579283104398,-0.06984060639738442,0.13120704433290548,-0.02806607521216375,0.1719173026394538,-0.022568642290840015,-0.219018195849347,0.03510790485191403,0.02677082974152542,-0.1009108944056119,-0.06867987867391538,-0.011917046967170882,0.01067142554987928,0.06831609684920774,-0.03201094566372776,0.13715945475343574,0.17652077072777006,-0.03872016755031827,0.005896872078466124,-0.1886725410130144,0.007957207927169575,0.008413237010607177,-0.1315478661508104,0.06132943075735773,0.005152133507299079,0.03678920680715037,0.23700896923431247,-0.029800233407008415,0.019078471708349826,-0.010786394584864033,-0.1287699104299608,-0.006431162777785883,-0.06795830775438169,-0.15754177689435217,0.23181018576547585,-0.17669101797761533,0.025326248733145963,-0.11599458052315528,0.08314479137923111,0.162305524385169,0.09472944841800778,-0.08040554503276559,-0.03840248597411851,0.024750857333352402,-0.03010363428256818,0.12452531626206945,0.018453583438024317,0.12554069907237825,-0.26754599971965226,-0.03391928957757747,0.11661051875205597,-0.10081287902195937,0.20511958793802273,0.25403265363717964,0.05800233903792315,-0.12917860581500507,0.15769651850576383,0.004723511677970098,-0.132299497108144,-0.17229334430679621,-0.025709953916550995,-0.05660234054689589,0.03457409353395055,-0.023995600712328438,0.09655576154882892,-0.10059368211128328,0.07056712993214019,0.15734936568117763,0.002668128974210605,0.10537752059526453,0.06522781404071355,-0.11299253685822981,-0.07173751485245104,0.19076935424807295,0.14626615487419,-0.023627570731344694,-0.09104980171232009,-0.10272896138960473,-0.14007490018597638,0.0030925913773760323,-0.036660405346389875,0.10109171038103351,0.04633327378794362,0.12941930178500222,0.044594996833042425,0.005502334707866571,-0.061563113064140286,-0.0006599750082846809,-0.09290178132102966,-0.15091239650660196,0.18226602128983926,-0.2119468882295696,-0.12312191664366189,-0.2839356459832438,-0.06725603690523715,0.10095227165295746,0.07968260499016898,0.14035616482198474,0.0887118320753143]\n",
    "count, bins, ignored = plt.hist(s, 30, density=True)\n",
    "plt.plot(bins, 1/(sigma * np.sqrt(2 * np.pi)) *\n",
    "               np.exp( - (bins - mu)**2 / (2 * sigma**2) ),\n",
    "         linewidth=2, color='r')\n",
    "plt.show()"
   ]
  },
  {
   "cell_type": "code",
   "execution_count": 216,
   "id": "7a6188a0",
   "metadata": {},
   "outputs": [
    {
     "name": "stdout",
     "output_type": "stream",
     "text": [
      "Help on IndexExpression in module numpy.lib.index_tricks object:\n",
      "\n",
      "class IndexExpression(builtins.object)\n",
      " |  IndexExpression(maketuple)\n",
      " |  \n",
      " |  A nicer way to build up index tuples for arrays.\n",
      " |  \n",
      " |  .. note::\n",
      " |     Use one of the two predefined instances `index_exp` or `s_`\n",
      " |     rather than directly using `IndexExpression`.\n",
      " |  \n",
      " |  For any index combination, including slicing and axis insertion,\n",
      " |  ``a[indices]`` is the same as ``a[np.index_exp[indices]]`` for any\n",
      " |  array `a`. However, ``np.index_exp[indices]`` can be used anywhere\n",
      " |  in Python code and returns a tuple of slice objects that can be\n",
      " |  used in the construction of complex index expressions.\n",
      " |  \n",
      " |  Parameters\n",
      " |  ----------\n",
      " |  maketuple : bool\n",
      " |      If True, always returns a tuple.\n",
      " |  \n",
      " |  See Also\n",
      " |  --------\n",
      " |  index_exp : Predefined instance that always returns a tuple:\n",
      " |     `index_exp = IndexExpression(maketuple=True)`.\n",
      " |  s_ : Predefined instance without tuple conversion:\n",
      " |     `s_ = IndexExpression(maketuple=False)`.\n",
      " |  \n",
      " |  Notes\n",
      " |  -----\n",
      " |  You can do all this with `slice()` plus a few special objects,\n",
      " |  but there's a lot to remember and this version is simpler because\n",
      " |  it uses the standard array indexing syntax.\n",
      " |  \n",
      " |  Examples\n",
      " |  --------\n",
      " |  >>> np.s_[2::2]\n",
      " |  slice(2, None, 2)\n",
      " |  >>> np.index_exp[2::2]\n",
      " |  (slice(2, None, 2),)\n",
      " |  \n",
      " |  >>> np.array([0, 1, 2, 3, 4])[np.s_[2::2]]\n",
      " |  array([2, 4])\n",
      " |  \n",
      " |  Methods defined here:\n",
      " |  \n",
      " |  __getitem__(self, item)\n",
      " |  \n",
      " |  __init__(self, maketuple)\n",
      " |      Initialize self.  See help(type(self)) for accurate signature.\n",
      " |  \n",
      " |  ----------------------------------------------------------------------\n",
      " |  Data descriptors defined here:\n",
      " |  \n",
      " |  __dict__\n",
      " |      dictionary for instance variables (if defined)\n",
      " |  \n",
      " |  __weakref__\n",
      " |      list of weak references to the object (if defined)\n",
      "\n"
     ]
    }
   ],
   "source": [
    "help(np.index_exp)"
   ]
  },
  {
   "cell_type": "code",
   "execution_count": 218,
   "id": "ac409450",
   "metadata": {},
   "outputs": [
    {
     "data": {
      "text/plain": [
       "(slice(2, None, 2), [1, 2])"
      ]
     },
     "execution_count": 218,
     "metadata": {},
     "output_type": "execute_result"
    }
   ],
   "source": [
    "np.index_exp[2::2, [1, 2]]"
   ]
  },
  {
   "cell_type": "code",
   "execution_count": 219,
   "id": "2667392d",
   "metadata": {},
   "outputs": [
    {
     "data": {
      "text/plain": [
       "(array([[0],\n",
       "        [1]], dtype=int64),\n",
       " array([[2, 4]]))"
      ]
     },
     "execution_count": 219,
     "metadata": {},
     "output_type": "execute_result"
    }
   ],
   "source": [
    "np.ix_([True, True], [2, 4])"
   ]
  },
  {
   "cell_type": "code",
   "execution_count": 221,
   "id": "b4985fa7",
   "metadata": {},
   "outputs": [
    {
     "data": {
      "text/plain": [
       "(array([[0],\n",
       "        [1]], dtype=int64),\n",
       " array([[2, 4]], dtype=int64))"
      ]
     },
     "execution_count": 221,
     "metadata": {},
     "output_type": "execute_result"
    }
   ],
   "source": [
    "np.ix_([True, True], [False, False, True, False, True])"
   ]
  },
  {
   "cell_type": "code",
   "execution_count": 300,
   "id": "5aad1dec",
   "metadata": {},
   "outputs": [
    {
     "data": {
      "text/plain": [
       "array([[ 0.1549469 ,  0.24082583, -0.13603185,  0.4394865 , -0.09783219,\n",
       "        -0.23577841, -0.26627374]])"
      ]
     },
     "execution_count": 300,
     "metadata": {},
     "output_type": "execute_result"
    }
   ],
   "source": [
    "import numpy as np\n",
    "\n",
    "\n",
    "def mDA(curr_pop=None, his_pop=None, his_bestSolution=None):\n",
    "    # curr_pop and his_pop denote the current population and\n",
    "    # population from another domain. Both in the form of n*d matrix. #n is the number of individual, and d is the variable dimension.\n",
    "    # They do not have to be with the same d. We assume they have the ##same n (same population size)\n",
    "\n",
    "    # his_bestSolution is the best solutions from one domain.\n",
    "\n",
    "    # output is the transformed solution.\n",
    "\n",
    "    curr_len = curr_pop.shape[1]\n",
    "    tmp_len = his_pop.shape[1]\n",
    "#     print(curr_len, tmp_len)\n",
    "\n",
    "    if curr_len < tmp_len:\n",
    "        curr_pop = np.concatenate([curr_pop, np.zeros((curr_pop.shape[0], tmp_len - curr_len))], axis=-1)\n",
    "    elif curr_len > tmp_len:\n",
    "        his_pop = np.concatenate([his_pop, np.zeros((his_pop.shape[0], curr_len - tmp_len))], axis=-1)\n",
    "#     print(curr_pop.shape, his_pop.shape)\n",
    "\n",
    "    xx = np.transpose(curr_pop)\n",
    "    noise = np.transpose(his_pop)\n",
    "    \n",
    "    d, n = xx.shape\n",
    "#     print(d, n)\n",
    "    xxb = np.concatenate([xx, np.ones((1, n))], axis=0)\n",
    "    noise_xb = np.concatenate([noise, np.ones((1, n))], axis=0)\n",
    "    \n",
    "#     print(xxb.shape, noise_xb.shape)\n",
    "    Q = noise_xb @ np.transpose(noise_xb)\n",
    "    P = xxb @ np.transpose(noise_xb)\n",
    "    \n",
    "#     print(Q)\n",
    "    \n",
    "    lambda_ = 1e-05\n",
    "    reg = lambda_ * np.eye(d + 1)\n",
    "    \n",
    "    \n",
    "    reg[-1, -1] = 0\n",
    "    W = P @ np.linalg.inv(Q + reg)\n",
    "    \n",
    "#     print(W)\n",
    "    \n",
    "    W = W[:-1, :-1]\n",
    "    \n",
    "#     print(W.shape)\n",
    "    if curr_len <= tmp_len:\n",
    "        tmp_solution = np.transpose(W @ np.transpose(his_bestSolution))\n",
    "        inj_solution = tmp_solution[:, :curr_len]\n",
    "    elif curr_len > tmp_len:\n",
    "#         his_bestSolution[:, np.arange[tmp_len + 1, curr_len + 1]] = 0\n",
    "        print(his_bestSolution.shape)\n",
    "        his_bestSolution = np.concatenate([his_bestSolution[:, :tmp_len] , np.zeros((his_bestSolution.shape[0], curr_len - tmp_len))], axis=-1)\n",
    "#         print(his_bestSolution.shape)\n",
    "        inj_solution = np.transpose(W @ np.transpose(his_bestSolution))\n",
    "\n",
    "    return inj_solution\n",
    "\n",
    "curr_pop = np.random.random((100, 7))\n",
    "his_pop = np.random.random((100, 13))\n",
    "his_bestSolution = his_pop[0:1, :]\n",
    "\n",
    "mDA(curr_pop, his_pop, his_bestSolution)"
   ]
  },
  {
   "cell_type": "code",
   "execution_count": 304,
   "id": "9950b8ff",
   "metadata": {},
   "outputs": [
    {
     "data": {
      "text/plain": [
       "array([[0.42936029, 0.48736476, 0.35923152, 0.72445616, 0.65475528,\n",
       "        0.72988471, 0.30362164, 0.23686723, 0.81547065, 0.32392247,\n",
       "        0.53097402, 0.62554621, 0.95712998]])"
      ]
     },
     "execution_count": 304,
     "metadata": {},
     "output_type": "execute_result"
    }
   ],
   "source": [
    "his_bestSolution"
   ]
  },
  {
   "cell_type": "code",
   "execution_count": 305,
   "id": "8492ffc2",
   "metadata": {},
   "outputs": [
    {
     "data": {
      "text/plain": [
       "array([[0.42935959, 0.48736448, 0.3592306 , 0.72445538, 0.65475465,\n",
       "        0.72988388, 0.3036214 , 0.23686634, 0.81546998, 0.32392178,\n",
       "        0.53097362, 0.62554523, 0.95712864]])"
      ]
     },
     "execution_count": 305,
     "metadata": {},
     "output_type": "execute_result"
    }
   ],
   "source": [
    "mDA(his_pop, his_pop, his_bestSolution)"
   ]
  },
  {
   "cell_type": "code",
   "execution_count": null,
   "id": "82aaefd2",
   "metadata": {},
   "outputs": [],
   "source": []
  }
 ],
 "metadata": {
  "kernelspec": {
   "display_name": "Python 3 (ipykernel)",
   "language": "python",
   "name": "python3"
  },
  "language_info": {
   "codemirror_mode": {
    "name": "ipython",
    "version": 3
   },
   "file_extension": ".py",
   "mimetype": "text/x-python",
   "name": "python",
   "nbconvert_exporter": "python",
   "pygments_lexer": "ipython3",
   "version": "3.9.12"
  }
 },
 "nbformat": 4,
 "nbformat_minor": 5
}
