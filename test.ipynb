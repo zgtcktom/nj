{
 "cells": [
  {
   "cell_type": "code",
   "execution_count": 2,
   "id": "359ae06e",
   "metadata": {},
   "outputs": [],
   "source": [
    "import numpy as np"
   ]
  },
  {
   "cell_type": "code",
   "execution_count": 3,
   "id": "5317eff3",
   "metadata": {},
   "outputs": [
    {
     "data": {
      "text/plain": [
       "array([[ 0,  1,  2,  3,  4,  5,  6],\n",
       "       [ 7,  8,  9, 10, 11, 12, 13],\n",
       "       [14, 15, 16, 17, 18, 19, 20],\n",
       "       [21, 22, 23, 24, 25, 26, 27],\n",
       "       [28, 29, 30, 31, 32, 33, 34]])"
      ]
     },
     "execution_count": 3,
     "metadata": {},
     "output_type": "execute_result"
    }
   ],
   "source": [
    "y = np.arange(35).reshape(5, 7)\n",
    "y"
   ]
  },
  {
   "cell_type": "code",
   "execution_count": 4,
   "id": "f3071c81",
   "metadata": {},
   "outputs": [
    {
     "data": {
      "text/plain": [
       "array([ 0, 15, 30])"
      ]
     },
     "execution_count": 4,
     "metadata": {},
     "output_type": "execute_result"
    }
   ],
   "source": [
    "y[np.array([0, 2, 4]), np.array([0, 1, 2])]"
   ]
  },
  {
   "cell_type": "code",
   "execution_count": 13,
   "id": "d629ce01",
   "metadata": {},
   "outputs": [
    {
     "data": {
      "text/plain": [
       "array([[[[ 0,  1,  2,  3,  4,  5,  6],\n",
       "         [ 7,  8,  9, 10, 11, 12, 13]],\n",
       "\n",
       "        [[14, 15, 16, 17, 18, 19, 20],\n",
       "         [ 7,  8,  9, 10, 11, 12, 13]],\n",
       "\n",
       "        [[28, 29, 30, 31, 32, 33, 34],\n",
       "         [ 7,  8,  9, 10, 11, 12, 13]]]])"
      ]
     },
     "execution_count": 13,
     "metadata": {},
     "output_type": "execute_result"
    }
   ],
   "source": [
    "y[np.array([[[0, 1], [2, 1], [4, 1]]])]"
   ]
  },
  {
   "cell_type": "code",
   "execution_count": 12,
   "id": "7e7cd6b9",
   "metadata": {},
   "outputs": [
    {
     "data": {
      "text/plain": [
       "array([[[ 0,  8],\n",
       "        [14,  8],\n",
       "        [28,  8]]])"
      ]
     },
     "execution_count": 12,
     "metadata": {},
     "output_type": "execute_result"
    }
   ],
   "source": [
    "y[np.array([[[0, 1], [2, 1], [4, 1]]]), np.array([0, 1])]"
   ]
  },
  {
   "cell_type": "code",
   "execution_count": 18,
   "id": "9b28c7a3",
   "metadata": {},
   "outputs": [
    {
     "data": {
      "text/plain": [
       "(array([[0],\n",
       "        [2],\n",
       "        [4]]),\n",
       " array([[0, 1, 2]]))"
      ]
     },
     "execution_count": 18,
     "metadata": {},
     "output_type": "execute_result"
    }
   ],
   "source": [
    "np.ix_(np.array([0, 2, 4]), np.array([0, 1, 2]))"
   ]
  },
  {
   "cell_type": "code",
   "execution_count": 80,
   "id": "ba311334",
   "metadata": {},
   "outputs": [
    {
     "data": {
      "text/plain": [
       "((5, 7), (1, 3, 2, 7), (1, 3, 2))"
      ]
     },
     "execution_count": 80,
     "metadata": {},
     "output_type": "execute_result"
    }
   ],
   "source": [
    "x = np.array([[[0, 1], [2, 1], [4, 1]]])\n",
    "y.shape, y[x].shape, x.shape"
   ]
  },
  {
   "cell_type": "code",
   "execution_count": 81,
   "id": "4ba1538d",
   "metadata": {},
   "outputs": [
    {
     "data": {
      "text/plain": [
       "(3,)"
      ]
     },
     "execution_count": 81,
     "metadata": {},
     "output_type": "execute_result"
    }
   ],
   "source": [
    "y[np.array([0, 2, 4]), np.array([0, 1, 2])].shape"
   ]
  },
  {
   "cell_type": "code",
   "execution_count": 82,
   "id": "84c1d970",
   "metadata": {},
   "outputs": [
    {
     "data": {
      "text/plain": [
       "array([[ 0,  1,  2],\n",
       "       [14, 15, 16],\n",
       "       [28, 29, 30]])"
      ]
     },
     "execution_count": 82,
     "metadata": {},
     "output_type": "execute_result"
    }
   ],
   "source": [
    "y[np.array([[0], [2], [4]]), np.array([0, 1, 2])]"
   ]
  },
  {
   "cell_type": "code",
   "execution_count": 83,
   "id": "32d5c8c8",
   "metadata": {},
   "outputs": [
    {
     "data": {
      "text/plain": [
       "((3, 1), (3,))"
      ]
     },
     "execution_count": 83,
     "metadata": {},
     "output_type": "execute_result"
    }
   ],
   "source": [
    "np.array([[0], [2], [4]]).shape, np.array([0, 1, 2]).shape"
   ]
  },
  {
   "cell_type": "code",
   "execution_count": 135,
   "id": "8e7aa1d2",
   "metadata": {},
   "outputs": [
    {
     "data": {
      "text/plain": [
       "((3, 6, 1),\n",
       " array([[[ 0],\n",
       "         [ 5],\n",
       "         [10],\n",
       "         [15],\n",
       "         [20],\n",
       "         [25]],\n",
       " \n",
       "        [[62],\n",
       "         [67],\n",
       "         [72],\n",
       "         [77],\n",
       "         [82],\n",
       "         [87]],\n",
       " \n",
       "        [[34],\n",
       "         [39],\n",
       "         [44],\n",
       "         [49],\n",
       "         [54],\n",
       "         [59]]]),\n",
       " (3, 6, 1))"
      ]
     },
     "execution_count": 135,
     "metadata": {},
     "output_type": "execute_result"
    }
   ],
   "source": [
    "x = np.arange(120).reshape(4, 6, 5, 1)\n",
    "a = x[np.array([0, 2, 1]), :, np.array([0, 2, 4]), :]\n",
    "a.shape, a, np.array([x[0, :, 0, :],x[2, :,2, :],x[1, :, 4, :]]).shape"
   ]
  },
  {
   "cell_type": "code",
   "execution_count": 136,
   "id": "fc813e2b",
   "metadata": {},
   "outputs": [
    {
     "data": {
      "text/plain": [
       "((3, 5, 1),\n",
       " array([[[ 0],\n",
       "         [ 1],\n",
       "         [ 2],\n",
       "         [ 3],\n",
       "         [ 4]],\n",
       " \n",
       "        [[70],\n",
       "         [71],\n",
       "         [72],\n",
       "         [73],\n",
       "         [74]],\n",
       " \n",
       "        [[35],\n",
       "         [36],\n",
       "         [37],\n",
       "         [38],\n",
       "         [39]]]))"
      ]
     },
     "execution_count": 136,
     "metadata": {},
     "output_type": "execute_result"
    }
   ],
   "source": [
    "a = x[np.array([0, 2, 1]), np.array([0, 2, 1]), :, :]\n",
    "a.shape, a"
   ]
  },
  {
   "cell_type": "code",
   "execution_count": 137,
   "id": "8b59f5ec",
   "metadata": {},
   "outputs": [
    {
     "data": {
      "text/plain": [
       "((4, 3, 1),\n",
       " array([[[  0],\n",
       "         [ 12],\n",
       "         [  9]],\n",
       " \n",
       "        [[ 30],\n",
       "         [ 42],\n",
       "         [ 39]],\n",
       " \n",
       "        [[ 60],\n",
       "         [ 72],\n",
       "         [ 69]],\n",
       " \n",
       "        [[ 90],\n",
       "         [102],\n",
       "         [ 99]]]))"
      ]
     },
     "execution_count": 137,
     "metadata": {},
     "output_type": "execute_result"
    }
   ],
   "source": [
    "a = x[:, np.array([0, 2, 1]), np.array([0, 2, 4]), :]\n",
    "a.shape, a"
   ]
  },
  {
   "cell_type": "code",
   "execution_count": 155,
   "id": "7f0c061e",
   "metadata": {},
   "outputs": [
    {
     "data": {
      "text/plain": [
       "array([[[  0],\n",
       "        [ 30],\n",
       "        [ 60],\n",
       "        [ 90]],\n",
       "\n",
       "       [[ 12],\n",
       "        [ 42],\n",
       "        [ 72],\n",
       "        [102]],\n",
       "\n",
       "       [[  9],\n",
       "        [ 39],\n",
       "        [ 69],\n",
       "        [ 99]]])"
      ]
     },
     "execution_count": 155,
     "metadata": {},
     "output_type": "execute_result"
    }
   ],
   "source": [
    "np.array([x[:, 0, 0, :], x[:, 2, 2, :], x[:, 1, 4, :]])"
   ]
  },
  {
   "cell_type": "code",
   "execution_count": 149,
   "id": "c2d9d2d4",
   "metadata": {},
   "outputs": [
    {
     "data": {
      "text/plain": [
       "array([[  0,  12,   9],\n",
       "       [ 30,  42,  39],\n",
       "       [ 60,  72,  69],\n",
       "       [ 90, 102,  99]])"
      ]
     },
     "execution_count": 149,
     "metadata": {},
     "output_type": "execute_result"
    }
   ],
   "source": [
    "np.concatenate([x[:, 0, 0, :], x[:, 2, 2, :], x[:, 1, 4, :]], axis=1)"
   ]
  },
  {
   "cell_type": "code",
   "execution_count": 156,
   "id": "621a4ee3",
   "metadata": {},
   "outputs": [
    {
     "data": {
      "text/plain": [
       "((3, 4, 5),\n",
       " array([[[  0,   1,   2,   3,   4],\n",
       "         [ 30,  31,  32,  33,  34],\n",
       "         [ 60,  61,  62,  63,  64],\n",
       "         [ 90,  91,  92,  93,  94]],\n",
       " \n",
       "        [[ 10,  11,  12,  13,  14],\n",
       "         [ 40,  41,  42,  43,  44],\n",
       "         [ 70,  71,  72,  73,  74],\n",
       "         [100, 101, 102, 103, 104]],\n",
       " \n",
       "        [[  5,   6,   7,   8,   9],\n",
       "         [ 35,  36,  37,  38,  39],\n",
       "         [ 65,  66,  67,  68,  69],\n",
       "         [ 95,  96,  97,  98,  99]]]))"
      ]
     },
     "execution_count": 156,
     "metadata": {},
     "output_type": "execute_result"
    }
   ],
   "source": [
    "a = x[:, np.array([0, 2, 1]), :, np.array([0, 0, 0])]\n",
    "a.shape, a"
   ]
  },
  {
   "cell_type": "code",
   "execution_count": 157,
   "id": "06a7e887",
   "metadata": {},
   "outputs": [
    {
     "data": {
      "text/plain": [
       "((4, 6, 3),\n",
       " array([[[  0,   2,   1],\n",
       "         [  5,   7,   6],\n",
       "         [ 10,  12,  11],\n",
       "         [ 15,  17,  16],\n",
       "         [ 20,  22,  21],\n",
       "         [ 25,  27,  26]],\n",
       " \n",
       "        [[ 30,  32,  31],\n",
       "         [ 35,  37,  36],\n",
       "         [ 40,  42,  41],\n",
       "         [ 45,  47,  46],\n",
       "         [ 50,  52,  51],\n",
       "         [ 55,  57,  56]],\n",
       " \n",
       "        [[ 60,  62,  61],\n",
       "         [ 65,  67,  66],\n",
       "         [ 70,  72,  71],\n",
       "         [ 75,  77,  76],\n",
       "         [ 80,  82,  81],\n",
       "         [ 85,  87,  86]],\n",
       " \n",
       "        [[ 90,  92,  91],\n",
       "         [ 95,  97,  96],\n",
       "         [100, 102, 101],\n",
       "         [105, 107, 106],\n",
       "         [110, 112, 111],\n",
       "         [115, 117, 116]]]))"
      ]
     },
     "execution_count": 157,
     "metadata": {},
     "output_type": "execute_result"
    }
   ],
   "source": [
    "a = x[:, :, np.array([0, 2, 1]), np.array([0, 0, 0])]\n",
    "a.shape, a"
   ]
  },
  {
   "cell_type": "code",
   "execution_count": 140,
   "id": "a8d80b0b",
   "metadata": {},
   "outputs": [
    {
     "data": {
      "text/plain": [
       "((3, 6, 5),\n",
       " array([[[ 0,  1,  2,  3,  4],\n",
       "         [ 5,  6,  7,  8,  9],\n",
       "         [10, 11, 12, 13, 14],\n",
       "         [15, 16, 17, 18, 19],\n",
       "         [20, 21, 22, 23, 24],\n",
       "         [25, 26, 27, 28, 29]],\n",
       " \n",
       "        [[60, 61, 62, 63, 64],\n",
       "         [65, 66, 67, 68, 69],\n",
       "         [70, 71, 72, 73, 74],\n",
       "         [75, 76, 77, 78, 79],\n",
       "         [80, 81, 82, 83, 84],\n",
       "         [85, 86, 87, 88, 89]],\n",
       " \n",
       "        [[30, 31, 32, 33, 34],\n",
       "         [35, 36, 37, 38, 39],\n",
       "         [40, 41, 42, 43, 44],\n",
       "         [45, 46, 47, 48, 49],\n",
       "         [50, 51, 52, 53, 54],\n",
       "         [55, 56, 57, 58, 59]]]))"
      ]
     },
     "execution_count": 140,
     "metadata": {},
     "output_type": "execute_result"
    }
   ],
   "source": [
    "a = x[np.array([0, 2, 1]), :, :, np.array([0, 0, 0])]\n",
    "a.shape, a"
   ]
  },
  {
   "cell_type": "code",
   "execution_count": 174,
   "id": "8d7d199d",
   "metadata": {},
   "outputs": [
    {
     "data": {
      "text/plain": [
       "((3, 5),\n",
       " array([[ 0,  1,  2,  3,  4],\n",
       "        [70, 71, 72, 73, 74],\n",
       "        [35, 36, 37, 38, 39]]))"
      ]
     },
     "execution_count": 174,
     "metadata": {},
     "output_type": "execute_result"
    }
   ],
   "source": [
    "a = x[np.array([0, 2, 1]), np.array([0, 2, 1]), :, 0]\n",
    "a.shape, a"
   ]
  },
  {
   "cell_type": "code",
   "execution_count": 132,
   "id": "7f4a8ac8",
   "metadata": {},
   "outputs": [
    {
     "data": {
      "text/plain": [
       "((3, 6, 5),\n",
       " array([[[ 0,  1,  2,  3,  4],\n",
       "         [ 5,  6,  7,  8,  9],\n",
       "         [10, 11, 12, 13, 14],\n",
       "         [15, 16, 17, 18, 19],\n",
       "         [20, 21, 22, 23, 24],\n",
       "         [25, 26, 27, 28, 29]],\n",
       " \n",
       "        [[60, 61, 62, 63, 64],\n",
       "         [65, 66, 67, 68, 69],\n",
       "         [70, 71, 72, 73, 74],\n",
       "         [75, 76, 77, 78, 79],\n",
       "         [80, 81, 82, 83, 84],\n",
       "         [85, 86, 87, 88, 89]],\n",
       " \n",
       "        [[30, 31, 32, 33, 34],\n",
       "         [35, 36, 37, 38, 39],\n",
       "         [40, 41, 42, 43, 44],\n",
       "         [45, 46, 47, 48, 49],\n",
       "         [50, 51, 52, 53, 54],\n",
       "         [55, 56, 57, 58, 59]]]))"
      ]
     },
     "execution_count": 132,
     "metadata": {},
     "output_type": "execute_result"
    }
   ],
   "source": [
    "a = x[np.array([0, 2, 1]), :, :, 0]\n",
    "a.shape, a"
   ]
  },
  {
   "cell_type": "code",
   "execution_count": 133,
   "id": "e3f77618",
   "metadata": {},
   "outputs": [
    {
     "data": {
      "text/plain": [
       "(6, 5)"
      ]
     },
     "execution_count": 133,
     "metadata": {},
     "output_type": "execute_result"
    }
   ],
   "source": [
    "x[0, :, :, 0].shape"
   ]
  },
  {
   "cell_type": "code",
   "execution_count": 134,
   "id": "c3543603",
   "metadata": {},
   "outputs": [
    {
     "data": {
      "text/plain": [
       "array([[[ 0,  1,  2,  3,  4],\n",
       "        [ 5,  6,  7,  8,  9],\n",
       "        [10, 11, 12, 13, 14],\n",
       "        [15, 16, 17, 18, 19],\n",
       "        [20, 21, 22, 23, 24],\n",
       "        [25, 26, 27, 28, 29]],\n",
       "\n",
       "       [[60, 61, 62, 63, 64],\n",
       "        [65, 66, 67, 68, 69],\n",
       "        [70, 71, 72, 73, 74],\n",
       "        [75, 76, 77, 78, 79],\n",
       "        [80, 81, 82, 83, 84],\n",
       "        [85, 86, 87, 88, 89]],\n",
       "\n",
       "       [[30, 31, 32, 33, 34],\n",
       "        [35, 36, 37, 38, 39],\n",
       "        [40, 41, 42, 43, 44],\n",
       "        [45, 46, 47, 48, 49],\n",
       "        [50, 51, 52, 53, 54],\n",
       "        [55, 56, 57, 58, 59]]])"
      ]
     },
     "execution_count": 134,
     "metadata": {},
     "output_type": "execute_result"
    }
   ],
   "source": [
    "np.concatenate([x[None, 0, :, :, 0], x[None, 2, :, :, 0], x[None, 1, :, :, 0]])"
   ]
  },
  {
   "cell_type": "code",
   "execution_count": 178,
   "id": "13141114",
   "metadata": {},
   "outputs": [
    {
     "data": {
      "text/plain": [
       "array([21, 22, 23, 24, 25, 26, 27, 28, 29, 30, 31, 32, 33, 34])"
      ]
     },
     "execution_count": 178,
     "metadata": {},
     "output_type": "execute_result"
    }
   ],
   "source": [
    "a = np.arange(35).reshape(5, 7, 1)\n",
    "b = a > 20\n",
    "a[np.where(b)]"
   ]
  },
  {
   "cell_type": "code",
   "execution_count": 180,
   "id": "14483d7b",
   "metadata": {},
   "outputs": [
    {
     "data": {
      "text/plain": [
       "array([[[ 0,  1,  2,  3,  4,  5,  6],\n",
       "        [28, 29, 30, 31, 32, 33, 34]]])"
      ]
     },
     "execution_count": 180,
     "metadata": {},
     "output_type": "execute_result"
    }
   ],
   "source": [
    "a[np.where([True, False, False, False, True]), :, 0]"
   ]
  },
  {
   "cell_type": "code",
   "execution_count": 181,
   "id": "d0c4e49c",
   "metadata": {},
   "outputs": [
    {
     "data": {
      "text/plain": [
       "array([[ 0,  1,  2,  3,  4,  5,  6],\n",
       "       [28, 29, 30, 31, 32, 33, 34]])"
      ]
     },
     "execution_count": 181,
     "metadata": {},
     "output_type": "execute_result"
    }
   ],
   "source": [
    "a[[0, 4], :, 0]"
   ]
  },
  {
   "cell_type": "code",
   "execution_count": 182,
   "id": "512a1e03",
   "metadata": {},
   "outputs": [
    {
     "data": {
      "text/plain": [
       "(array([0, 4], dtype=int64),)"
      ]
     },
     "execution_count": 182,
     "metadata": {},
     "output_type": "execute_result"
    }
   ],
   "source": [
    "np.where([True, False, False, False, True])"
   ]
  },
  {
   "cell_type": "code",
   "execution_count": 196,
   "id": "f2d77c63",
   "metadata": {},
   "outputs": [
    {
     "data": {
      "text/plain": [
       "3.0"
      ]
     },
     "execution_count": 196,
     "metadata": {},
     "output_type": "execute_result"
    }
   ],
   "source": [
    "xp = [6, 4, 5]\n",
    "fp = [3, 2, 0]\n",
    "np.interp(4.5, xp, fp)"
   ]
  },
  {
   "cell_type": "code",
   "execution_count": 198,
   "id": "80d42ec5",
   "metadata": {},
   "outputs": [
    {
     "data": {
      "text/plain": [
       "array([3. , 3. , 2.5, 1. , 0. ])"
      ]
     },
     "execution_count": 198,
     "metadata": {},
     "output_type": "execute_result"
    }
   ],
   "source": [
    "xp = [1, 2, 3]\n",
    "fp = [3, 2, 0]\n",
    "np.interp([0, 1, 1.5, 2.5, 3.14], xp, fp)"
   ]
  },
  {
   "cell_type": "code",
   "execution_count": 202,
   "id": "c76487a6",
   "metadata": {},
   "outputs": [
    {
     "data": {
      "text/plain": [
       "array([[0.87522063, 0.67210925],\n",
       "       [0.47083469, 0.58052226],\n",
       "       [0.68566372, 0.16496162]])"
      ]
     },
     "execution_count": 202,
     "metadata": {},
     "output_type": "execute_result"
    }
   ],
   "source": [
    "np.random.rand(3, 2)"
   ]
  },
  {
   "cell_type": "code",
   "execution_count": 206,
   "id": "efba17c5",
   "metadata": {},
   "outputs": [
    {
     "data": {
      "text/plain": [
       "array(0.86415155)"
      ]
     },
     "execution_count": 206,
     "metadata": {},
     "output_type": "execute_result"
    }
   ],
   "source": [
    "np.random.random_sample(tuple())"
   ]
  },
  {
   "cell_type": "code",
   "execution_count": 209,
   "id": "ea5bf4be",
   "metadata": {},
   "outputs": [
    {
     "data": {
      "text/plain": [
       "array([0.6389156, 0.2539714])"
      ]
     },
     "execution_count": 209,
     "metadata": {},
     "output_type": "execute_result"
    }
   ],
   "source": [
    "np.random.random_sample(2)"
   ]
  },
  {
   "cell_type": "code",
   "execution_count": 212,
   "id": "bd1dff13",
   "metadata": {},
   "outputs": [
    {
     "ename": "ValueError",
     "evalue": "Cannot take a larger sample than population when 'replace=False'",
     "output_type": "error",
     "traceback": [
      "\u001b[1;31m---------------------------------------------------------------------------\u001b[0m",
      "\u001b[1;31mValueError\u001b[0m                                Traceback (most recent call last)",
      "Cell \u001b[1;32mIn [212], line 1\u001b[0m\n\u001b[1;32m----> 1\u001b[0m \u001b[43mnp\u001b[49m\u001b[38;5;241;43m.\u001b[39;49m\u001b[43mrandom\u001b[49m\u001b[38;5;241;43m.\u001b[39;49m\u001b[43mchoice\u001b[49m\u001b[43m(\u001b[49m\u001b[38;5;241;43m2\u001b[39;49m\u001b[43m,\u001b[49m\u001b[43m \u001b[49m\u001b[38;5;241;43m3\u001b[39;49m\u001b[43m,\u001b[49m\u001b[43m \u001b[49m\u001b[43mreplace\u001b[49m\u001b[38;5;241;43m=\u001b[39;49m\u001b[38;5;28;43;01mFalse\u001b[39;49;00m\u001b[43m)\u001b[49m\n",
      "File \u001b[1;32mmtrand.pyx:965\u001b[0m, in \u001b[0;36mnumpy.random.mtrand.RandomState.choice\u001b[1;34m()\u001b[0m\n",
      "\u001b[1;31mValueError\u001b[0m: Cannot take a larger sample than population when 'replace=False'"
     ]
    }
   ],
   "source": [
    "np.random.choice(2, 3, replace=False)"
   ]
  },
  {
   "cell_type": "code",
   "execution_count": 214,
   "id": "5b571ec3",
   "metadata": {},
   "outputs": [
    {
     "ename": "ValueError",
     "evalue": "a must be 1-dimensional",
     "output_type": "error",
     "traceback": [
      "\u001b[1;31m---------------------------------------------------------------------------\u001b[0m",
      "\u001b[1;31mValueError\u001b[0m                                Traceback (most recent call last)",
      "Cell \u001b[1;32mIn [214], line 1\u001b[0m\n\u001b[1;32m----> 1\u001b[0m \u001b[43mnp\u001b[49m\u001b[38;5;241;43m.\u001b[39;49m\u001b[43mrandom\u001b[49m\u001b[38;5;241;43m.\u001b[39;49m\u001b[43mchoice\u001b[49m\u001b[43m(\u001b[49m\u001b[43m[\u001b[49m\u001b[43m[\u001b[49m\u001b[38;5;241;43m5\u001b[39;49m\u001b[43m]\u001b[49m\u001b[43m,\u001b[49m\u001b[43m \u001b[49m\u001b[43m[\u001b[49m\u001b[38;5;241;43m2\u001b[39;49m\u001b[43m]\u001b[49m\u001b[43m]\u001b[49m\u001b[43m,\u001b[49m\u001b[43m \u001b[49m\u001b[38;5;241;43m3\u001b[39;49m\u001b[43m)\u001b[49m\n",
      "File \u001b[1;32mmtrand.pyx:911\u001b[0m, in \u001b[0;36mnumpy.random.mtrand.RandomState.choice\u001b[1;34m()\u001b[0m\n",
      "\u001b[1;31mValueError\u001b[0m: a must be 1-dimensional"
     ]
    }
   ],
   "source": [
    "np.random.choice([[5], [2]], 3)"
   ]
  },
  {
   "cell_type": "code",
   "execution_count": 219,
   "id": "218b534f",
   "metadata": {},
   "outputs": [
    {
     "ename": "ValueError",
     "evalue": "'a' cannot be empty unless no samples are taken",
     "output_type": "error",
     "traceback": [
      "\u001b[1;31m---------------------------------------------------------------------------\u001b[0m",
      "\u001b[1;31mValueError\u001b[0m                                Traceback (most recent call last)",
      "Cell \u001b[1;32mIn [219], line 1\u001b[0m\n\u001b[1;32m----> 1\u001b[0m \u001b[43mnp\u001b[49m\u001b[38;5;241;43m.\u001b[39;49m\u001b[43mrandom\u001b[49m\u001b[38;5;241;43m.\u001b[39;49m\u001b[43mchoice\u001b[49m\u001b[43m(\u001b[49m\u001b[43m[\u001b[49m\u001b[43m]\u001b[49m\u001b[43m,\u001b[49m\u001b[43m \u001b[49m\u001b[38;5;241;43m3\u001b[39;49m\u001b[43m)\u001b[49m\n",
      "File \u001b[1;32mmtrand.pyx:915\u001b[0m, in \u001b[0;36mnumpy.random.mtrand.RandomState.choice\u001b[1;34m()\u001b[0m\n",
      "\u001b[1;31mValueError\u001b[0m: 'a' cannot be empty unless no samples are taken"
     ]
    }
   ],
   "source": [
    "np.random.choice([], 3)"
   ]
  },
  {
   "cell_type": "code",
   "execution_count": 220,
   "id": "409584c5",
   "metadata": {},
   "outputs": [
    {
     "ename": "ValueError",
     "evalue": "'a' and 'p' must have same size",
     "output_type": "error",
     "traceback": [
      "\u001b[1;31m---------------------------------------------------------------------------\u001b[0m",
      "\u001b[1;31mValueError\u001b[0m                                Traceback (most recent call last)",
      "Cell \u001b[1;32mIn [220], line 1\u001b[0m\n\u001b[1;32m----> 1\u001b[0m \u001b[43mnp\u001b[49m\u001b[38;5;241;43m.\u001b[39;49m\u001b[43mrandom\u001b[49m\u001b[38;5;241;43m.\u001b[39;49m\u001b[43mchoice\u001b[49m\u001b[43m(\u001b[49m\u001b[38;5;241;43m6\u001b[39;49m\u001b[43m,\u001b[49m\u001b[43m \u001b[49m\u001b[38;5;241;43m3\u001b[39;49m\u001b[43m,\u001b[49m\u001b[43m \u001b[49m\u001b[43mp\u001b[49m\u001b[38;5;241;43m=\u001b[39;49m\u001b[43m[\u001b[49m\u001b[38;5;241;43m0.1\u001b[39;49m\u001b[43m,\u001b[49m\u001b[43m \u001b[49m\u001b[38;5;241;43m0\u001b[39;49m\u001b[43m,\u001b[49m\u001b[43m \u001b[49m\u001b[38;5;241;43m0.3\u001b[39;49m\u001b[43m,\u001b[49m\u001b[43m \u001b[49m\u001b[38;5;241;43m0.6\u001b[39;49m\u001b[43m,\u001b[49m\u001b[43m \u001b[49m\u001b[38;5;241;43m0\u001b[39;49m\u001b[43m]\u001b[49m\u001b[43m)\u001b[49m\n",
      "File \u001b[1;32mmtrand.pyx:932\u001b[0m, in \u001b[0;36mnumpy.random.mtrand.RandomState.choice\u001b[1;34m()\u001b[0m\n",
      "\u001b[1;31mValueError\u001b[0m: 'a' and 'p' must have same size"
     ]
    }
   ],
   "source": [
    "np.random.choice(6, 3, p=[0.1, 0, 0.3, 0.6, 0])"
   ]
  },
  {
   "cell_type": "code",
   "execution_count": 223,
   "id": "957c1da2",
   "metadata": {},
   "outputs": [
    {
     "ename": "ValueError",
     "evalue": "'p' must be 1-dimensional",
     "output_type": "error",
     "traceback": [
      "\u001b[1;31m---------------------------------------------------------------------------\u001b[0m",
      "\u001b[1;31mValueError\u001b[0m                                Traceback (most recent call last)",
      "Cell \u001b[1;32mIn [223], line 1\u001b[0m\n\u001b[1;32m----> 1\u001b[0m \u001b[43mnp\u001b[49m\u001b[38;5;241;43m.\u001b[39;49m\u001b[43mrandom\u001b[49m\u001b[38;5;241;43m.\u001b[39;49m\u001b[43mchoice\u001b[49m\u001b[43m(\u001b[49m\u001b[38;5;241;43m6\u001b[39;49m\u001b[43m,\u001b[49m\u001b[43m \u001b[49m\u001b[38;5;241;43m3\u001b[39;49m\u001b[43m,\u001b[49m\u001b[43m \u001b[49m\u001b[43mp\u001b[49m\u001b[38;5;241;43m=\u001b[39;49m\u001b[43m[\u001b[49m\u001b[43m[\u001b[49m\u001b[38;5;241;43m0.1\u001b[39;49m\u001b[43m,\u001b[49m\u001b[43m \u001b[49m\u001b[38;5;241;43m0\u001b[39;49m\u001b[43m,\u001b[49m\u001b[43m \u001b[49m\u001b[38;5;241;43m0.3\u001b[39;49m\u001b[43m,\u001b[49m\u001b[43m \u001b[49m\u001b[38;5;241;43m0.6\u001b[39;49m\u001b[43m,\u001b[49m\u001b[43m \u001b[49m\u001b[38;5;241;43m0\u001b[39;49m\u001b[43m]\u001b[49m\u001b[43m]\u001b[49m\u001b[43m)\u001b[49m\n",
      "File \u001b[1;32mmtrand.pyx:930\u001b[0m, in \u001b[0;36mnumpy.random.mtrand.RandomState.choice\u001b[1;34m()\u001b[0m\n",
      "\u001b[1;31mValueError\u001b[0m: 'p' must be 1-dimensional"
     ]
    }
   ],
   "source": [
    "np.random.choice(6, 3, p=[[0.1, 0, 0.3, 0.6, 0]])"
   ]
  },
  {
   "cell_type": "code",
   "execution_count": 226,
   "id": "eafb5091",
   "metadata": {},
   "outputs": [
    {
     "ename": "ValueError",
     "evalue": "Fewer non-zero entries in p than size",
     "output_type": "error",
     "traceback": [
      "\u001b[1;31m---------------------------------------------------------------------------\u001b[0m",
      "\u001b[1;31mValueError\u001b[0m                                Traceback (most recent call last)",
      "Cell \u001b[1;32mIn [226], line 1\u001b[0m\n\u001b[1;32m----> 1\u001b[0m \u001b[43mnp\u001b[49m\u001b[38;5;241;43m.\u001b[39;49m\u001b[43mrandom\u001b[49m\u001b[38;5;241;43m.\u001b[39;49m\u001b[43mchoice\u001b[49m\u001b[43m(\u001b[49m\u001b[38;5;241;43m5\u001b[39;49m\u001b[43m,\u001b[49m\u001b[43m \u001b[49m\u001b[38;5;241;43m5\u001b[39;49m\u001b[43m,\u001b[49m\u001b[43m \u001b[49m\u001b[43mreplace\u001b[49m\u001b[38;5;241;43m=\u001b[39;49m\u001b[38;5;28;43;01mFalse\u001b[39;49;00m\u001b[43m,\u001b[49m\u001b[43m \u001b[49m\u001b[43mp\u001b[49m\u001b[38;5;241;43m=\u001b[39;49m\u001b[43m[\u001b[49m\u001b[38;5;241;43m0.2\u001b[39;49m\u001b[43m,\u001b[49m\u001b[43m \u001b[49m\u001b[38;5;241;43m0.1\u001b[39;49m\u001b[43m,\u001b[49m\u001b[43m \u001b[49m\u001b[38;5;241;43m0.2\u001b[39;49m\u001b[43m,\u001b[49m\u001b[43m \u001b[49m\u001b[38;5;241;43m0\u001b[39;49m\u001b[43m,\u001b[49m\u001b[43m \u001b[49m\u001b[38;5;241;43m0.5\u001b[39;49m\u001b[43m]\u001b[49m\u001b[43m)\u001b[49m\n",
      "File \u001b[1;32mmtrand.pyx:972\u001b[0m, in \u001b[0;36mnumpy.random.mtrand.RandomState.choice\u001b[1;34m()\u001b[0m\n",
      "\u001b[1;31mValueError\u001b[0m: Fewer non-zero entries in p than size"
     ]
    }
   ],
   "source": [
    "np.random.choice(5, 5, replace=False, p=[0.2, 0.1, 0.2, 0, 0.5])"
   ]
  },
  {
   "cell_type": "code",
   "execution_count": 230,
   "id": "3715371b",
   "metadata": {},
   "outputs": [
    {
     "ename": "ValueError",
     "evalue": "Fewer non-zero entries in p than size",
     "output_type": "error",
     "traceback": [
      "\u001b[1;31m---------------------------------------------------------------------------\u001b[0m",
      "\u001b[1;31mValueError\u001b[0m                                Traceback (most recent call last)",
      "Cell \u001b[1;32mIn [230], line 1\u001b[0m\n\u001b[1;32m----> 1\u001b[0m \u001b[43mnp\u001b[49m\u001b[38;5;241;43m.\u001b[39;49m\u001b[43mrandom\u001b[49m\u001b[38;5;241;43m.\u001b[39;49m\u001b[43mchoice\u001b[49m\u001b[43m(\u001b[49m\u001b[38;5;241;43m5\u001b[39;49m\u001b[43m,\u001b[49m\u001b[43m \u001b[49m\u001b[38;5;241;43m5\u001b[39;49m\u001b[43m,\u001b[49m\u001b[43m \u001b[49m\u001b[43mreplace\u001b[49m\u001b[38;5;241;43m=\u001b[39;49m\u001b[38;5;28;43;01mFalse\u001b[39;49;00m\u001b[43m,\u001b[49m\u001b[43m \u001b[49m\u001b[43mp\u001b[49m\u001b[38;5;241;43m=\u001b[39;49m\u001b[43m[\u001b[49m\u001b[38;5;241;43m1.0\u001b[39;49m\u001b[43m,\u001b[49m\u001b[43m \u001b[49m\u001b[38;5;241;43m0.0\u001b[39;49m\u001b[43m,\u001b[49m\u001b[43m \u001b[49m\u001b[38;5;241;43m0.0\u001b[39;49m\u001b[43m,\u001b[49m\u001b[43m \u001b[49m\u001b[38;5;241;43m0\u001b[39;49m\u001b[43m,\u001b[49m\u001b[43m \u001b[49m\u001b[38;5;241;43m0.0\u001b[39;49m\u001b[43m]\u001b[49m\u001b[43m)\u001b[49m\n",
      "File \u001b[1;32mmtrand.pyx:972\u001b[0m, in \u001b[0;36mnumpy.random.mtrand.RandomState.choice\u001b[1;34m()\u001b[0m\n",
      "\u001b[1;31mValueError\u001b[0m: Fewer non-zero entries in p than size"
     ]
    }
   ],
   "source": [
    "np.random.choice(5, 5, replace=False, p=[1.0, 0.0, 0.0, 0, 0.0])"
   ]
  },
  {
   "cell_type": "code",
   "execution_count": 235,
   "id": "73fd4d1f",
   "metadata": {},
   "outputs": [
    {
     "data": {
      "text/plain": [
       "array([ 0,  1,  2,  3,  4, 50, 60, 70, 80, 90])"
      ]
     },
     "execution_count": 235,
     "metadata": {},
     "output_type": "execute_result"
    }
   ],
   "source": [
    "a = np.arange(10)\n",
    "np.where(a < 5, a, 10*a)"
   ]
  },
  {
   "cell_type": "code",
   "execution_count": 275,
   "id": "144f512e",
   "metadata": {},
   "outputs": [
    {
     "data": {
      "text/plain": [
       "[array([[0],\n",
       "        [1],\n",
       "        [2],\n",
       "        [3],\n",
       "        [4]]),\n",
       " array([[0, 1, 2, 3, 4]])]"
      ]
     },
     "execution_count": 275,
     "metadata": {},
     "output_type": "execute_result"
    }
   ],
   "source": [
    "np.ogrid[0:5,0:5]"
   ]
  },
  {
   "cell_type": "code",
   "execution_count": 284,
   "id": "0ac6c18b",
   "metadata": {},
   "outputs": [
    {
     "data": {
      "text/plain": [
       "[array([[[3]],\n",
       " \n",
       "        [[4]]]),\n",
       " array([], shape=(1, 0, 1), dtype=int32),\n",
       " array([[[0]]])]"
      ]
     },
     "execution_count": 284,
     "metadata": {},
     "output_type": "execute_result"
    }
   ],
   "source": [
    "np.ogrid[3:5, 0:-5, 0:1]"
   ]
  },
  {
   "cell_type": "code",
   "execution_count": 285,
   "id": "a7a13060",
   "metadata": {},
   "outputs": [
    {
     "data": {
      "text/plain": [
       "[array([[[0]],\n",
       " \n",
       "        [[1]],\n",
       " \n",
       "        [[2]],\n",
       " \n",
       "        [[3]],\n",
       " \n",
       "        [[4]]]),\n",
       " array([[[0],\n",
       "         [1],\n",
       "         [2],\n",
       "         [3]]]),\n",
       " array([[[2, 3]]])]"
      ]
     },
     "execution_count": 285,
     "metadata": {},
     "output_type": "execute_result"
    }
   ],
   "source": [
    "np.ogrid[0:5, 0:4, 2:4]"
   ]
  },
  {
   "cell_type": "code",
   "execution_count": 286,
   "id": "3fd793e5",
   "metadata": {},
   "outputs": [
    {
     "data": {
      "text/plain": [
       "array([1, 2, 3, 0, 0, 4, 5, 6])"
      ]
     },
     "execution_count": 286,
     "metadata": {},
     "output_type": "execute_result"
    }
   ],
   "source": [
    "np.r_[np.array([1,2,3]), 0, 0, np.array([4,5,6])]"
   ]
  },
  {
   "cell_type": "code",
   "execution_count": 1,
   "id": "fc293b9f",
   "metadata": {},
   "outputs": [
    {
     "ename": "NameError",
     "evalue": "name 'np' is not defined",
     "output_type": "error",
     "traceback": [
      "\u001b[1;31m---------------------------------------------------------------------------\u001b[0m",
      "\u001b[1;31mNameError\u001b[0m                                 Traceback (most recent call last)",
      "Cell \u001b[1;32mIn [1], line 1\u001b[0m\n\u001b[1;32m----> 1\u001b[0m \u001b[43mnp\u001b[49m\u001b[38;5;241m.\u001b[39mconcatenate([np\u001b[38;5;241m.\u001b[39marray([\u001b[38;5;241m1\u001b[39m,\u001b[38;5;241m2\u001b[39m,\u001b[38;5;241m3\u001b[39m]), [\u001b[38;5;241m0\u001b[39m], [\u001b[38;5;241m0\u001b[39m], np\u001b[38;5;241m.\u001b[39marray([\u001b[38;5;241m4\u001b[39m,\u001b[38;5;241m5\u001b[39m,\u001b[38;5;241m6\u001b[39m])], axis\u001b[38;5;241m=\u001b[39m\u001b[38;5;241m0\u001b[39m)\n",
      "\u001b[1;31mNameError\u001b[0m: name 'np' is not defined"
     ]
    }
   ],
   "source": [
    "np.concatenate([np.array([1,2,3]), [0], [0], np.array([4,5,6])], axis=0)"
   ]
  },
  {
   "cell_type": "code",
   "execution_count": 3,
   "id": "1c14edd2",
   "metadata": {},
   "outputs": [
    {
     "data": {
      "text/plain": [
       "1"
      ]
     },
     "execution_count": 3,
     "metadata": {},
     "output_type": "execute_result"
    }
   ],
   "source": [
    "8**0"
   ]
  },
  {
   "cell_type": "code",
   "execution_count": 9,
   "id": "50e45cf8",
   "metadata": {},
   "outputs": [
    {
     "data": {
      "text/plain": [
       "array([0, 0])"
      ]
     },
     "execution_count": 9,
     "metadata": {},
     "output_type": "execute_result"
    }
   ],
   "source": [
    "np.random.choice(1, 2, p=[1.0])\n"
   ]
  },
  {
   "cell_type": "code",
   "execution_count": 12,
   "id": "b3147201",
   "metadata": {},
   "outputs": [],
   "source": [
    "import seaborn as sns"
   ]
  },
  {
   "cell_type": "code",
   "execution_count": 15,
   "id": "89ecb286",
   "metadata": {},
   "outputs": [
    {
     "data": {
      "text/plain": [
       "<AxesSubplot: ylabel='Count'>"
      ]
     },
     "execution_count": 15,
     "metadata": {},
     "output_type": "execute_result"
    },
    {
     "data": {
      "image/png": "[encoded data removed]",
      "text/plain": [
       "<Figure size 640x480 with 1 Axes>"
      ]
     },
     "metadata": {},
     "output_type": "display_data"
    }
   ],
   "source": [
    "sns.histplot(data=[\n",
    "5,0,0,0,5,1,5,1,3,0,5,3,0,1,0,5,3,4,0,5,0,3,0,5,3,0,5,0,0,4,0,0,1,5,1,3,0,3,1,0,3,1,5,4,5,0,0,3,4,0,0,0,0,3,0,3,1,3,1,3,0,5,5,3,0,5,3,5,5,0,4,3,5,3,5,0,5,5,3,5,4,5,1,0,0,3,5,5,5,4,5,3,0,5,5,0,0,1,3,0,1,4,3,0,3,3,0,5,3,1,0,4,5,4,5,5,5,3,4,0,4,1,4,3,0,0,0,0,5,4,3,0,5,0,4,0,0,3,0,0,4,0,5,5,0,5,1,5,5,5,4,0,0,0,5,4,5,4,5,0,0,5,3,5,5,5,3,5,3,5,3,0,3,5,3,0,0,1,0,1,3,3,3,4,1,5,5,0,0,3,0,0,4,3,5,3,5,0,0,5,3,5,0,0,0,0,5,5,3,5,4,0,0,1,3,0,3,3,0,5,5,5,0,0,5,5,5,0,5,3,4,3,5,0,1,1,1,0,3,0,0,3,3,5,5,5,5,4,0,1,4,5,0,1,0,5,3,0,4,5,0,5,0,0,3,0,5,5,0,1,4,1,5,1,0,4,0,1,5,3,3,0,1,0,0,3,0,0,4,4,3,4,0,3,3,4,5,0,0,3,4,5,3,4,5,0,3,5,5,5,4,4,4,0,0,1,0,0,3,5,3,5,0,1,5,0,5,0,5,4,5,0,5,4,3,5,0,3,0,3,5,3,5,0,5,4,0,0,4,3,3,0,3,4,0,3,3,1,5,5,3,4,4,5,5,5,5,4,3,4,0,5,3,3,5,5,5,3,3,3,0,1,5,0,3,5,0,0,0,5,5,0,4,0,4,5,3,4,3,0,5,3,3,5,5,4,0,5,0,4,4,5,4,3,4,5,0,0,1,0,0,3,0,5,0,5,0,4,0,1,4,3,1,1,4,5,0,0,0,4,5,0,3,5,0,0,5,5,4,3,4,0,3,3,4,0,3,5,1,0,3,3,3,1,1,4,4,5,0,5,1,4,5,4,0,3,5,0,3,5,3,0,3,3,3,4,0,0,0,3,0,4,5,0,5,4,3,0,0,1,1,4,0,0,4,4,1,4,3,1,4,0,3,4,4,0,5,4,0,5,5,5,4,3,5,4,0,3,0,3,0,4,5,0,3,4,5,5,0,0,5,5,0,5,3,0,5,5,3,4,0,5,0,4,0,0,5,3,5,4,0,0,5,3,4,5,3,1,0,0,5,1,5,0,0,5,3,3,5,0,1,5,4,4,0,5,0,5,3,5,4,0,4,1,0,5,4,5,4,1,0,0,4,5,0,0,5,5,5,3,5,5,5,3,5,5,5,3,4,4,0,3,0,3,3,3,0,0,5,3,3,5,5,3,0,5,3,5,5,4,3,1,4,5,3,3,4,4,3,0,3,0,5,0,3,0,0,5,5,0,5,3,0,4,0,5,4,4,5,0,5,0,0,0,5,0,0,0,5,5,3,4,0,5,3,0,4,4,3,3,3,0,5,0,0,3,3,3,0,0,0,4,0,3,3,0,3,3,0,5,3,3,3,1,4,3,4,1,5,4,5,3,0,5,0,4,3,0,4,3,0,1,4,4,0,4,3,5,5,4,5,1,0,5,3,5,5,0,5,0,3,0,0,4,5,0,3,0,5,3,1,5,0,0,1,5,0,4,0,4,0,0,3,5,0,3,0,4,0,3,3,0,5,5,0,0,5,5,3,3,0,5,0,4,0,3,3,4,5,3,3,0,4,0,1,3,3,1,3,3,0,3,0,0,4,0,0,0,0,5,5,3,5,5,0,5,5,5,3,3,5,3,5,3,5,0,5,5,5,1,0,3,1,5,4,3,5,5,5,3,4,1,0,4,0,4,0,5,0,5,5,0,0,5,1,0,0,5,5,5,4,5,0,3,0,3,0,5,4,0,0,5,0,5,0,5,0,0,4,5,3,0,0,3,0,5,3,5,5,3,4,5,5,0,0,5,5,5,5,5,5,0,5,3,0,0,5,3,5,0,5,4,4,0,0,0,3,0,5,0,5,5,3,0,4,5,0,5,4,0,4,4,3,5,0,5,5,5,3,5,4,5,1,3,3,0,0,0,3,1,0,1,0,4,4,5,0,4,5,0,5,4,5,5,3,4,3,1,0,0,0,0,0,5,5,4,4,0,0,0,5,5,5,0,0,0,3,5,0,5,5,0,5,0,5,5,3,4,0,0,4,3,0,0,3,1,3,3,1,5,5,3,4,3,5,5,0,0,3,5,3,0,3,0,5,4,3,5,1,5,4,0,3,0,4,3,3,4,5,5,0,5,0,4,0,4,5,1,3,0,5,3,5,5,0,0,5,5,0,4,4,5,5,5,5,0,5,3,5,4,3,5,3,0,3,0,0,3,0,3,0,1,0,3,5,0,5,5,1,3,0,4,3,0,0,4,5,4,4,4,5,3,0,4,5,0,5,1,5,5,0,4,0,4,0,4,5,1,0,5,3,4,3,5,4,0,3,3,4,4,0,3,3,1,5,1,4,5,0,0,5,0,3,1,1,4,5,0,1,4,3,3,0,4,3,0,4,5,5,0,4,0,0,3,5,5,3,3,5,0,0,3,5,0,0,4,4,0,5,0,0,5,5,0,3,0,3,4,5,4,0,1,5,0,0,5,5,4,0,4,3,4,4,0,0,0,3,4,5,0,0,0,4,0,0,3,3,5,0,0,5,5,5,0,0,5,3,4,5,5,3,1,3,5,0,1,5,0,5,3,4,4,0,0,3,5,4,5,5,3,0,0,0,5,5,5,4,5,3,5,1,1,0,3,0,0,3,3,5,4,0,3,4,3,0,0,1,0,5,0,1,4,0,3,0,4,5,4,4,0,5,1,5,0,5,5,5,5,0,4,5,0,0,3,1,5,0,0,5,1,3,5,3,5,5,0,5,5,0,0,1,0,4,4,1,3,5,3,5,0,0,5,5,5,4,5,0,3,3,1,1,0,5,3,5,3,5,5,0,3,5,3,5,5,1,5,5,5,5,5,0,0,0,5,4,0,0,5,3,0,5,0,3,3,5,5,3,5,0,0,0,5,3,0,4,5,4,4,0,0,0,0,0,5,4,0,5,5,5,4,5,0,5,0,0,5,3,5,3,3,3,3,0,5,3,0,4,0,5,0,0,0,1,0,5,0,0,5,5,3,0,0,3,5,0,0,0,0,0,5,0,3,3,3,3,3,0,4,0,5,4,0,0,3,3,4,4,0,0,5,3,3,0,4,3,4,5,4,5,3,0,5,5,5,5,0,5,4,4,0,5,0,0,5,4,0,0,3,0,4,5,0,5,5,0,3,0,0,0,3,0,5,0,1,5,4,0,5,3,0,3,0,4,0,3,5,3,4,4,0,4,0,0,4,0,3,4,0,5,1,3,4,3,3,0,0,5,3,3,5,0,3,5,3,3,0,5,0,0,3,3,3,0,3,4,0,3,0,3,3,5,4,4,5,0,5,0,0,5,3,0,3,3,5,3,5,0,0,0,3,3,3,1,5,3,3,0,0,1,0,3,0,3,4,1,4,0,1,3,5,5,4,4,0,3,0,0,0,5,5,5,0,0,0,1,5,3,3,3,5,5,3,3,3,0,0,5,0,5,0,0,5,0,0,0,0,5,4,5,5,0,5,0,1,3,0,1,0,3,0,4,0,0,5,0,0,0,5,3,0,0,4,5,1,0,3,0,0,3,3,0,5,0,1,5,0,3,4,3,0,5,5,5,0,0,3,0,5,0,1,0,5,4,0,5,4,0,5,0,4,0,4,0,4,0,0,0,5,4,0,5,0,0,4,4,5,3,4,5,5,1,5,5,3,4,1,4,0,5,5,3,4,4,0,3,5,3,0,0,4,0,5,0,5,0,3,4,5,4,5,3,0,3,4,1,0,0,3,1,1,4,5,5,5,0,0,5,3,0,5,4,0,0,3,0,0,3,0,3,0,0,0,1,4,4,3,1,0,0,4,1,4,3,0,0,1,0,3,3,0,4,3,0,3,0,3,0,4,3,5,3,4,5,3,4,3,5,0,3,5,0,5,5,3,0,5,3,1,0,0,0,1,0,3,4,0,5,5,0,5,5,3,0,1,4,0,5,3,3,5,5,1,0,3,0,1,0,1,3,4,3,5,5,0,4,0,4,4,5,3,4,0,3,0,0,3,5,0,3,3,3,0,3,3,0,4,3,4,5,3,0,0,5,5,0,0,0,0,0,3,3,3,5,5,0,3,0,0,3,0,0,0,5,1,0,5,0,0,3,4,1,4,1,5,3,0,4,1,5,0,3,4,3,5,0,5,0,0,3,4,0,0,3,0,4,0,3,0,3,5,4,3,5,0,3,5,3,0,4,5,3,0,0,5,0,4,0,0,5,5,0,3,5,5,0,5,3,5,0,0,5,0,5,5,0,5,3,3,5,3,4,0,0,3,5,4,4,5,0,4,0,5,3,0,0,3,3,5,0,0,0,0,0,3,5,5,5,4,0,1,0,1,4,0,3,5,0,0,3,0,5,0,5,5,0,4,5,4,0,5,3,5,0,0,0,3,3,3,4,4,1,4,5,3,5,4,3,5,3,3,4,3,5,4,4,3,1,3,3,1,3,0,4,0,5,1,4,5,0,5,4,0,0,0,0,1,4,5,0,0,3,3,5,5,0,5,0,5,0,0,4,5,1,1,0,4,0,5,5,5,5,0,0,4,0,1,3,0,0,3,3,5,0,5,5,3,1,3,0,0,3,3,0,0,5,0,0,5,3,0,0,4,5,0,5,5,5,5,0,1,3,5,0,4,4,3,3,0,0,0,5,5,0,4,3,0,5,0,1,0,4,3,0,5,3,5,4,5,5,3,0,5,3,3,1,0,0,3,3,3,5,3,5,3,3,0,5,5,1,3,5,4,4,0,5,4,0,0,0,4,0,0,5,3,3,1,5,0,3,5,1,5,0,5,5,0,1,3,5,0,0,3,3,5,0,5,3,5,0,0,0,5,3,0,5,5,0,5,4,0,5,0,5,4,5,3,3,3,3,5,1,5,4,3,0,1,3,0,4,3,5,5,5,5,4,0,5,0,3,5,3,0,3,5,5,0,0,3,3,0,3,0,0,3,5,3,0,3,0,3,4,0,3,3,5,5,3,0,3,0,3,3,5,0,3,0,5,3,3,5,0,3,0,5,0,5,5,3,1,5,5,0,1,5,5,0,0,3,0,0,5,5,5,3,0,4,5,5,0,3,5,0,0,5,5,0,5,0,4,5,5,0,1,4,5,3,0,4,4,0,5,0,1,0,5,4,0,5,0,3,0,0,0,0,5,5,5,4,3,5,0,5,5,5,4,0,3,5,5,0,0,0,3,0,5,0,3,5,3,3,3,5,3,3,4,4,3,5,3,0,1,0,3,4,5,3,5,5,0,3,5,5,5,0,5,5,5,5,1,0,3,3,3,5,4,3,1,4,3,5,4,5,0,0,5,5,5,0,3,0,0,4,5,0,0,4,3,0,3,5,5,0,4,5,5,0,0,5,0,0,0,5,5,1,4,4,4,4,0,0,0,0,3,5,5,1,1,0,0,5,3,3,0,1,5,0,0,1,0,0,0,0,0,4,0,5,5,3,5,4,0,0,5,0,0,0,1,1,5,0,0,0,3,5,5,3,0,3,0,3,5,0,4,1,5,0,0,3,4,1,4,0,5,4,4,0,0,5,3,3,5,5,4,0,1,5,0,0,0,5,0,0,0,3,3,1,0,0,0,4,4,5,5,5,3,3,0,0,1,4,3,0,5,0,0,5,3,5,0,5,0,3,5,5,0,0,5,5,0,5,5,3,5,0,5,0,5,4,5,0,0,5,3,0,1,0,1,5,0,5,4,0,3,3,5,4,5,0,5,5,4,3,4,5,3,0,5,0,3,3,4,3,3,1,1,0,0,5,5,0,5,5,0,0,5,0,0,5,5,3,5,5,0,3,5,0,5,1,0,1,4,1,5,0,0,3,0,5,1,3,3,4,0,5,5,5,4,4,1,0,5,0,5,5,5,3,3,5,3,5,0,3,0,4,1,0,5,3,4,0,5,0,5,5,3,5,5,0,0,0,1,0,1,5,4,3,0,4,0,0,5,0,0,0,0,0,3,5,5,0,0,0,3,5,1,4,3,0,0,3,5,3,5,3,1,0,3,5,3,0,0,0,3,5,3,3,3,5,3,3,0,5,3,0,4,5,0,5,5,0,5,0,3,0,0,1,0,5,0,5,5,5,0,0,3,0,0,5,5,5,3,5,3,3,3,0,5,5,4,0,0,5,5,0,0,5,3,3,0,3,4,5,3,0,0,3,3,3,0,5,0,4,0,0,4,3,5,4,3,0,3,5,0,5,4,4,3,3,0,5,0,5,3,5,5,4,5,0,5,1,0,5,5,0,5,3,4,5,5,0,1,1,5,0,3,1,1,4,3,3,3,5,4,3,5,0,0,0,0,0,0,4,0,0,0,0,5,3,1,1,5,3,5,0,1,3,3,5,0,4,0,5,0,1,5,0,5,3,5,3,3,5,5,5,0,3,5,4,0,0,0,0,3,3,5,4,1,3,5,0,0,0,5,0,3,3,5,5,3,5,0,0,0,0,5,4,5,5,1,0,3,5,5,5,0,0,5,1,5,3,4,0,1,0,3,0,5,1,5,3,5,0,0,1,0,5,0,0,1,0,0,5,0,0,3,0,0,1,0,0,4,3,0,3,5,1,1,4,4,3,0,0,0,5,0,3,0,5,4,0,4,3,0,4,3,3,0,4,5,5,1,4,4,4,3,3,3,3,0,5,1,5,3,0,0,0,4,5,5,3,0,0,0,0,1,4,0,3,5,3,3,4,5,4,5,4,0,3,3,0,5,1,0,5,5,5,4,4,0,3,5,3,0,5,0,5,0,3,0,5,0,0,3,0,3,0,3,0,0,3,4,5,5,0,0,3,0,3,0,1,0,0,0,5,1,3,5,5,5,3,0,1,5,4,4,4,5,5,0,5,3,1,4,5,3,5,3,5,0,1,5,5,0,3,3,0,0,3,5,3,5,1,1,3,0,5,5,0,5,0,0,0,3,5,3,0,0,0,5,0,0,3,0,5,0,4,4,0,5,3,0,4,0,0,0,5,3,0,5,4,5,0,0,5,0,5,0,5,0,0,5,1,5,4,5,5,4,0,0,0,0,3,5,4,4,3,3,5,5,0,5,0,0,0,3,4,3,0,0,0,1,5,0,0,0,4,1,0,0,5,0,0,0,1,4,5,5,4,3,5,5,5,5,1,0,5,5,1,0,0,0,5,5,5,0,0,0,3,5,5,5,5,3,5,4,3,4,3,5,0,4,5,5,3,3,1,3,5,0,0,4,0,0,4,3,0,3,4,1,0,0,3,0,0,0,3,5,0,0,5,0,0,5,0,0,0,0,4,0,4,1,4,0,0,1,5,0,4,3,0,1,3,5,3,5,5,4,4,4,3,5,4,0,5,4,1,4,3,0,4,0,5,0,0,3,0,0,0,0,4,0,3,0,0,0,0,0,0,0,0,1,5,5,0,5,5,3,5,5,3,0,0,5,3,0,5,5,4,4,4,0,0,4,3,5,0,0,4,5,0,0,5,5,0,5,5,0,0,0,5,0,4,0,0,0,1,0,0,1,3,0,5,3,1,0,3,5,1,4,0,1,5,1,0,3,5,3,3,5,3,4,0,5,0,0,3,3,3,4,5,5,3,0,5,5,4,3,4,5,0,5,0,4,3,4,4,0,5,3,5,0,5,0,0,5,5,5,0,4,3,0,1,5,3,5,5,5,5,0,5,0,5,0,5,5,5,5,0,4,5,5,3,3,5,4,0,3,3,4,4,0,0,1,4,5,0,3,5,4,5,3,0,0,0,5,3,0,0,0,0,5,5,0,0,3,4,0,4,1,4,0,5,3,0,0,4,0,3,1,3,0,4,0,0,5,4,0,5,5,3,0,3,1,0,0,5,4,0,4,1,3,5,1,4,0,5,5,4,4,5,3,5,0,0,0,0,5,0,0,1,4,5,0,5,4,0,3,5,1,0,0,0,3,4,5,3,5,3,0,0,0,5,0,0,0,0,0,0,3,5,3,4,0,0,5,3,3,5,3,3,0,4,5,5,0,5,3,0,0,5,5,5,5,5,0,3,0,5,3,5,4,5,0,4,0,3,3,5,4,4,4,1,0,0,0,0,3,0,5,5,3,4,5,4,0,0,5,3,0,0,0,0,0,1,0,5,5,0,4,5,0,5,4,0,3,0,4,5,3,0,0,0,5,0,0,5,0,5,0,0,0,4,0,3,5,5,3,4,1,0,3,0,5,5,4,3,5,5,5,1,1,5,3,1,5,0,4,3,0,0,3,5,3,5,4,1,5,5,0,1,3,0,5,3,5,4,5,3,0,0,0,1,5,5,3,3,5,3,0,3,3,4,0,5,3,0,0,4,0,3,0,5,5,0,3,3,3,3,3,1,3,5,3,0,4,5,3,5,1,5,3,5,4,0,0,4,0,4,4,5,0,0,0,0,0,3,0,3,4,3,3,0,4,4,4,0,0,5,4,5,5,5,5,5,5,5,5,5,4,0,0,3,0,0,5,5,0,4,5,3,5,5,0,5,3,0,5,4,5,3,0,4,5,5,5,3,1,3,0,0,0,5,4,3,0,0,5,0,1,3,0,3,0,0,5,1,3,4,1,5,0,1,1,4,3,4,5,1,4,5,5,3,5,4,5,3,0,4,5,1,0,3,1,3,3,5,3,5,1,0,3,0,4,3,1,5,5,5,5,4,5,0,0,0,0,1,3,0,4,5,0,0,5,0,0,5,5,5,4,5,0,3,5,3,5,5,5,5,3,0,5,4,5,4,0,5,3,0,5,0,4,5,5,0,3,3,0,5,5,3,1,0,5,3,0,0,5,0,0,0,4,5,1,0,5,5,0,5,3,3,0,3,5,0,3,0,4,5,5,3,0,5,3,5,0,0,0,3,3,4,3,3,4,0,3,4,0,0,0,0,3,5,3,5,0,5,5,5,0,0,5,0,1,0,3,5,0,4,0,0,3,5,0,0,4,4,5,3,0,0,5,0,0,0,4,1,0,0,5,1,4,4,0,3,3,3,3,4,5,1,0,1,5,5,5,0,3,5,5,3,3,3,0,4,1,5,0,3,0,0,3,3,5,0,3,0,1,3,1,3,5,4,3,0,0,0,3,3,5,5,5,5,3,3,5,0,0,4,5,0,5,0,5,0,3,5,0,4,5,5,0,0,4,3,5,0,5,0,5,3,5,3,5,3,0,1,0,0,4,5,5,3,0,0,4,3,0,3,3,3,5,5,5,0,3,5,4,0,5,4,5,1,4,0,0,3,5,0,4,5,4,3,1,5,4,0,4,3,0,4,4,0,4,4,4,0,0,4,3,3,3,0,5,0,0,5,4,0,0,1,3,0,5,5,0,3,0,4,4,5,5,0,3,5,0,5,3,5,0,3,3,5,5,4,0,4,0,3,0,5,3,0,3,5,0,5,5,3,0,5,5,0,0,1,3,5,3,0,1,3,5,3,3,1,0,0,3,0,0,5,0,0,5,0,5,5,0,5,0,5,4,0,4,1,0,0,4,5,3,0,5,0,4,5,0,0,3,3,4,4,1,5,0,4,3,5,4,5,0,0,0,5,5,3,5,5,0,5,0,0,3,5,5,4,1,3,0,5,0,5,5,3,0,3,4,0,5,1,5,5,5,0,0,3,5,0,5,0,4,0,4,3,4,4,0,4,0,0,5,5,5,5,4,4,5,0,5,0,0,3,5,0,0,0,5,3,5,4,5,0,0,0,4,0,5,5,4,5,0,4,1,3,0,5,0,0,0,0,0,5,4,4,3,0,0,5,0,3,3,5,0,3,3,5,0,5,3,0,0,0,0,3,0,5,0,4,5,0,5,3,0,0,3,5,5,0,0,4,3,5,5,5,5,4,3,0,3,0,0,0,3,5,4,0,0,4,5,0,0,4,3,0,3,3,0,3,4,4,4,5,5,1,0,3,0,4,4,1,4,5,0,0,0,0,4,3,0,3,0,0,5,0,0,5,0,0,3,4,0,1,4,0,0,0,3,0,0,3,3,0,4,3,0,3,5,3,5,5,5,3,5,0,4,0,4,3,5,0,0,0,3,4,1,5,4,0,4,0,1,0,0,3,0,0,5,5,0,4,5,0,5,0,0,1,0,4,5,3,0,0,5,0,1,3,0,0,5,4,5,5,3,1,4,3,5,0,5,0,0,5,0,0,0,4,4,5,0,1,5,0,5,4,4,3,5,3,3,3,3,0,4,5,1,0,4,3,0,4,0,0,3,0,5,3,4,4,4,4,3,0,1,3,3,0,4,5,5,3,0,0,4,4,0,4,0,0,3,4,0,3,3,5,4,5,3,5,0,4,5,5,0,0,4,3,4,3,3,0,0,0,3,3,5,5,5,3,0,1,4,0,0,5,4,3,5,3,5,0,4,5,0,3,0,4,5,5,3,0,4,5,0,5,1,0,3,0,3,4,5,5,3,0,0,0,0,3,1,4,3,5,0,3,5,3,4,5,1,0,3,0,0,4,3,5,0,3,0,5,5,5,5,0,0,0,0,0,5,4,4,0,5,0,0,0,5,0,4,0,4,5,5,0,3,0,0,1,0,5,3,4,5,0,5,5,5,4,5,5,1,0,3,0,0,3,5,0,5,5,4,0,5,4,3,0,3,1,0,0,4,5,1,5,0,4,3,5,5,4,0,0,5,0,1,3,0,0,4,0,3,5,3,5,0,5,4,0,0,0,5,0,1,5,5,0,5,3,4,3,0,0,0,5,3,5,0,0,5,0,0,4,3,3,5,0,0,5,3,0,0,0,5,3,3,5,5,4,0,5,3,0,3,0,4,3,3,4,0,0,5,0,1,1,0,1,1,0,4,3,4,0,0,3,5,4,3,5,1,3,1,0,0,0,5,0,0,0,3,5,5,0,3,0,0,0,0,0,3,3,0,4,5,1,5,4,5,0,0,5,1,3,3,5,1,0,3,0,0,0,5,3,5,0,3,3,0,0,5,5,0,3,3,4,4,5,0,5,0,0,5,5,5,1,4,0,0,3,1,5,0,0,0,3,0,0,5,5,0,1,4,3,5,3,0,3,5,3,5,4,3,5,1,5,3,3,5,3,0,5,3,3,0,5,5,0,5,4,0,4,3,0,5,0,4,5,4,0,4,5,3,0,3,5,0,0,0,1,4,5,5,0,4,3,3,3,3,0,3,0,3,3,3,5,3,0,5,4,3,1,1,3,0,5,0,3,4,5,0,0,3,1,5,0,0,5,5,0,0,1,0,1,4,3,5,3,3,4,0,3,0,0,0,5,5,0,5,5,0,0,3,3,3,5,3,5,0,5,5,5,3,1,4,5,4,5,3,4,3,0,5,0,4,1,0,3,3,3,5,5,4,0,4,3,1,0,5,0,0,0,5,0,0,0,0,0,4,0,3,5,0,3,0,3,5,3,0,0,3,0,0,5,3,5,4,5,4,0,5,0,4,3,3,0,0,0,0,1,4,0,1,0,4,1,5,5,0,3,5,3,5,0,0,0,3,0,0,5,0,0,4,0,1,0,5,0,3,0,0,0,0,3,5,4,4,5,3,5,0,3,5,0,0,0,4,4,0,4,5,5,0,5,5,0,3,3,0,3,0,0,5,5,5,0,4,1,3,1,1,3,4,0,3,3,5,5,3,1,1,5,1,0,3,3,0,5,3,5,0,0,5,5,5,4,5,3,1,5,5,0,3,3,5,3,5,4,4,0,5,0,1,3,0,4,4,0,3,5,3,3,5,5,5,4,3,4,1,0,5,4,3,0,4,0,0,5,0,0,4,1,5,0,0,0,3,1,4,5,5,3,5,5,1,4,5,5,1,3,3,5,5,0,3,1,4,0,4,0,5,5,0,0,0,5,0,4,5,3,0,5,0,3,5,0,3,4,3,0,5,0,5,3,0,5,0,4,4,0,0,1,4,3,3,5,0,0,5,4,1,5,0,0,5,0,4,0,1,4,4,0,1,0,1,4,5,5,4,3,4,0,0,0,3,5,3,3,5,0,0,4,5,3,0,0,3,3,0,5,0,5,1,0,5,0,1,0,4,3,5,0,5,4,0,5,5,1,5,3,5,0,0,0,3,0,3,0,3,0,5,5,4,0,3,0,3,0,0,0,0,4,4,5,3,4,3,0,3,3,5,5,0,0,4,4,4,1,5,0,0,1,3,4,0,0,5,3,4,5,1,3,0,4,3,3,5,0,4,4,0,3,4,5,3,0,4,0,4,3,0,0,5,5,3,4,4,0,3,5,5,5,5,0,5,4,0,3,5,4,5,4,0,0,5,3,0,4,0,3,4,0,5,1,3,4,5,0,5,5,5,5,3,3,4,0,0,0,0,0,5,4,0,5,0,5,5,0,5,0,0,5,0,3,0,0,0,0,0,4,3,5,4,5,1,3,3,4,3,5,3,3,5,5,0,3,4,0,4,0,5,1,3,5,5,5,5,5,3,1,5,0,0,0,3,5,3,0,0,3,5,5,3,5,3,0,5,4,0,0,4,0,0,4,1,0,5,0,0,0,3,0,5,3,5,0,1,0,5,5,4,5,4,5,4,5,5,1,0,3,4,5,5,4,1,4,5,1,4,5,0,3,3,3,3,0,0,3,4,4,0,3,5,5,3,5,0,0,3,1,5,0,4,5,5,3,4,3,0,3,3,0,4,3,4,0,0,0,1,3,0,4,0,5,5,5,5,0,0,0,4,0,3,5,0,0,0,0,3,5,5,5,4,4,4,0,4,0,3,3,5,5,5,0,4,0,0,5,4,0,3,5,5,4,3,5,5,4,3,0,5,3,3,0,0,5,3,0,3,1,5,1,0,0,5,3,0,4,3,3,3,0,0,0,5,3,5,5,4,4,0,3,3,5,5,0,0,0,3,0,3,4,0,5,5,5,4,3,5,5,0,1,5,3,5,5,5,3,0,5,0,5,3,0,0,3,5,4,0,5,5,0,4,5,0,3,1,5,5,0,5,5,0,3,1,5,5,3,5,0,0,5,0,4,5,0,4,5,3,4,5,0,5,3,0,5,1,3,3,3,3,5,5,3,5,0,0,0,3,3,3,0,4,3,5,1,4,3,5,5,5,3,5,0,5,0,0,0,4,0,0,3,1,4,5,5,0,5,3,3,5,0,0,3,0,1,5,5,3,0,5,1,3,0,3,4,0,5,5,0,0,4,3,5,3,0,0,0,5,0,3,0,3,1,5,0,5,0,0,0,5,3,5,4,5,4,4,5,0,3,5,3,0,0,0,0,5,0,5,1,5,0,3,0,1,0,0,0,0,0,3,0,0,5,5,0,0,0,0,0,0,3,4,5,0,3,3,3,0,0,0,3,4,5,4,1,3,5,5,5,0,1,0,5,0,3,3,3,5,5,0,4,0,1,4,5,4,4,5,0,0,0,0,0,0,0,0,1,1,3,3,5,3,3,1,5,1,0,0,5,5,0,0,0,0,5,4,5,5,3,0,0,0,0,0,0,0,0,0,5,0,3,3,0,4,4,5,1,4,0,3,0,0,0,0,5,0,5,3,5,5,3,5,0,5,3,5,1,0,1,0,0,0,3,0,0,0,1,0,5,3,3,1,5,0,0,4,4,0,3,5,3,5,0,3,3,5,0,0,3,0,3,3,5,1,5,5,0,3,5,4,3,4,0,5,0,3,0,3,0,3,4,5,5,0,0,3,0,0,5,0,1,0,3,5,5,5,5,0,0,0,0,5,3,0,0,5,5,0,0,5,0,5,3,5,0,4,5,3,5,1,4,5,3,3,3,0,3,1,0,4,1,3,3,0,3,0,1,3,3,0,4,5,1,3,5,3,0,3,0,0,4,4,4,5,3,1,0,5,1,0,4,0,3,3,4,5,0,3,0,5,0,3,0,5,4,3,5,3,5,0,4,0,3,5,0,5,0,0,4,5,3,0,0,0,3,0,3,0,4,3,5,5,0,0,0,3,5,3,0,3,0,1,0,5,0,0,5,1,0,3,4,3,3,3,5,5,5,3,5,0,5,3,0,3,5,3,0,0,5,3,0,0,0,3,5,0,3,0,5,4,0,5,5,3,0,5,5,3,3,5,1,5,0,3,0,5,5,5,0,5,0,3,3,1,5,0,3,3,0,5,0,0,0,4,0,5,3,0,5,0,3,4,5,4,0,0,5,4,0,0,1,3,0,4,1,3,5,5,3,0,0,5,0,3,0,3,5,0,0,3,5,3,4,0,3,3,4,3,1,0,4,3,4,0,5,3,3,0,1,3,4,0,3,3,5,1,5,5,0,3,3,3,5,5,5,5,4,0,0,4,0,0,4,0,0,0,3,5,4,4,4,5,4,0,3,5,5,1,3,4,4,4,0,3,4,5,4,5,0,5,3,0,4,5,3,0,1,0,3,0,3,3,3,0,0,3,3,1,5,3,3,0,5,5,5,0,3,4,0,0,0,3,0,3,0,5,5,5,3,0,3,5,5,0,5,3,0,5,4,0,0,0,1,0,1,0,1,0,1,0,4,5,3,0,0,4,3,0,4,3,3,5,5,4,5,0,5,5,5,0,4,5,0,0,5,5,5,0,0,5,0,4,3,5,0,4,3,5,0,3,5,3,5,0,0,3,5,0,3,3,0,0,0,0,5,4,5,5,4,0,1,5,5,0,0,1,0,3,0,0,5,3,5,3,0,3,0,0,3,3,0,0,1,3,4,5,0,5,4,5,0,5,3,1,3,0,1,0,0,0,5,3,5,0,5,4,4,5,3,0,5,5,0,0,5,0,3,0,3,0,3,4,0,0,5,3,3,0,3,0,3,3,5,3,3,0,5,4,5,0,0,5,0,5,5,4,4,0,5,0,5,0,0,4,5,3,0,4,0,0,5,1,0,3,5,0,3,3,1,1,5,0,5,5,0,0,3,5,0,5,5,0,5,4,0,0,3,1,5,0,0,0,0,0,0,3,5,0,0,4,0,5,3,4,4,4,5,0,3,0,1,0,5,4,3,0,5,0,5,0,0,5,5,5,3,4,4,5,5,3,4,0,0,5,3,5,3,1,5,0,0,5,5,5,1,0,3,4,5,3,4,3,0,5,3,4,4,5,0,5,0,3,0,3,0,5,3,0,4,5,3,4,5,5,5,0,3,3,0,5,0,1,1,0,0,0,3,5,5,0,5,0,1,0,5,4,5,5,0,0,5,4,0,3,5,4,4,0,3,3,0,3,0,5,4,5,5,0,1,3,0,0,4,0,0,0,3,0,5,0,4,5,4,3,0,0,3,5,5,5,4,5,1,4,4,3,0,3,3,0,1,0,5,4,0,5,4,0,0,5,5,3,4,5,0,5,5,0,3,3,5,0,0,0,5,4,3,5,3,1,0,4,4,4,3,5,1,4,0,4,3,5,4,0,4,1,5,3,0,0,4,1,5,3,4,0,3,0,0,0,0,5,0,0,0,3,0,0,3,5,0,0,4,4,3,0,3,5,0,0,0,5,1,0,1,0,0,5,5,5,0,5,3,3,3,5,0,5,5,4,0,0,5,1,0,3,4,0,5,3,0,0,0,3,0,0,1,0,0,0,5,0,4,0,5,0,0,1,0,3,0,3,5,3,0,4,0,4,0,5,0,5,0,0,4,5,5,5,0,0,5,5,0,0,5,0,5,5,0,4,0,3,3,4,5,3,3,0,3,5,0,3,5,0,0,3,3,3,5,5,5,0,0,5,5,0,4,5,4,0,4,4,3,0,3,0,0,4,3,5,4,5,4,0,5,0,0,5,0,5,5,1,1,3,5,0,0,0,0,4,0,0,5,3,0,0,0,0,0,3,0,1,5,3,5,5,5,0,0,3,5,1,0,5,3,5,5,5,0,0,5,5,4,0,5,0,1,0,4,0,3,0,0,0,0,1,5,0,5,3,3,5,4,0,4,4,0,0,5,0,0,4,1,0,4,5,3,3,5,0,4,0,1,5,0,3,0,0,0,5,3,3,3,5,4,4,0,5,0,5,5,3,0,3,4,4,0,5,1,5,3,0,5,1,1,0,5,0,3,3,1,0,0,5,4,4,4,5,0,5,5,3,0,1,4,4,4,5,3,3,5,3,0,3,5,5,0,0,0,0,5,5,4,0,5,0,0,3,5,0,5,0,5,0,0,5,1,5,0,3,3,4,5,3,4,0,0,0,5,0,5,5,3,0,0,3,5,3,5,5,0,5,4,1,4,5,0,0,3,3,4,3,3,4,0,4,3,5,0,0,5,5,5,0,3,4,0,0,1,5,0,5,3,5,0,4,5,5,5,0,0,5,5,3,4,4,5,0,1,3,1,5,3,5,0,0,3,0,1,5,0,1,5,3,1,3,0,0,5,3,3,5,5,0,5,5,1,0,0,4,0,0,0,3,5,5,5,3,1,0,5,0,0,0,0,0,5,0,5,4,0,5,4,3,4,0,0,1,0,4,3,0,4,4,1,3,4,3,5,5,5,0,0,0,3,4,0,0,3,0,0,0,4,3,0,5,0,0,3,0,0,1,4,3,3,0,5,5,0,0,4,3,5,0,0,5,0,0,5,3,3,5,0,5,1,5,5,3,5,3,3,0,0,5,3,3,3,0,0,4,0,3,4,1,5,5,4,0,5,4,0,5,0,3,5,4,5,0,0,4,3,0,4,3,0,0,0,0,5,0,4,0,0,5,3,1,5,5,0,3,5,0,1,5,0,4,4,5,5,1,0,4,3,5,3,4,4,4,5,3,0,3,1,0,1,3,0,0,5,4,1,3,4,3,5,3,4,5,4,4,0,3,0,3,5,4,5,1,5,1,4,4,5,5,0,0,0,4,0,1,3,0,0,0,1,0,3,5,0,0,0,4,3,4,0,3,1,5,0,5,0,3,3,3,0,5,0,5,4,3,0,5,5,5,0,0,5,5,4,0,0,0,0,3,0,1,5,3,5,0,0,4,0,0,1,5,0,5,4,3,5,5,3,5,0,3,5,3,4,4,0,0,3,5,4,3,0,5,5,0,3,0,5,3,4,3,3,5,0,5,5,3,5,5,5,0,0,5,4,5,1,5,3,0,1,0,5,0,5,5,0,3,4,5,0,0,5,0,3,0,1,0,3,0,3,3,5,1,5,5,5,0,0,3,0,0,3,3,5,0,3,5,4,5,0,0,0,4,0,0,5,5,4,0,3,5,5,3,0,0,5,3,1,3,5,5,3,0,1,5,1,5,1,0,0,0,0,0,0,1,4,0,0,5,3,3,5,5,5,0,3,3,0,5,3,5,5,3,1,3,5,5,4,3,0,5,4,3,3,5,4,0,5,3,0,1,4,0,4,4,5,3,3,5,5,0,5,5,5,0,0,1,0,0,1,3,4,4,0,0,0,1,5,5,0,5,4,5,4,4,0,5,5,5,3,1,3,5,3,4,3,5,3,5,0,0,0,0,5,3,0,4,1,0,5,0,5,0,5,5,0,0,3,4,0,4,0,3,0,1,0,5,0,4,0,4,5,5,5,0,5,5,3,5,0,1,0,1,0,3,5,5,5,1,5,5,0,3,3,0,5,0,3,3,5,0,4,4,0,0,0,0,5,5,3,5,4,5,4,0,4,3,5,5,0,3,5,5,5,5,0,0,0,0,0,0,3,3,5,3,5,5,5,5,5,4,4,5,3,3,0,5,3,5,0,3,0,3,4,0,0,5,3,5,5,4,0,0,3,0,4,0,4,1,0,4,3,0,4,5,3,0,5,5,5,0,4,5,5,3,5,0,3,0,5,5,0,4,3,5,0,3,5,0,4,0,3,5,3,0,0,4,5,5,4,5,5,0,5,3,5,5,0,0,0,5,4,0,3,1,5,5,5,0,1,4,0,5,0,0,0,0,5,3,0,5,3,3,1,0,5,4,0,0,4,5,1,5,0,0,3,0,0,5,1,0,5,5,0,0,3,5,3,1,1,5,0,0,4,0,5,0,5,3,3,4,5,1,5,5,0,0,0,0,3,3,5,3,3,5,5,5,0,0,0,5,5,3,0,4,3,0,3,1,4,5,1,3,0,4,5,0,0,0,3,0,5,5,3,4,0,3,3,3,5,0,3,0,5,4,1,5,0,3,5,4,5,5,0,1,3,0,4,0,0,4,5,3,3,0,0,4,0,1,5,3,5,1,0,3,4,0,0,5,0,4,5,5,4,5,0,3,3,5,4,0,1,5,0,4,0,5,3,0,0,0,1,0,3,0,4,3,4,0,3,5,0,0,5,0,5,4,0,5,5,0,1,5,5,1,0,1,5,0,1,4,5,3,3,5,0,5,3,0,5,5,5,4,3,3,4,0,5,0,0,0,4,3,1,0,0,4,3,0,0,3,0,0,3,0,5,0,0,0,5,4,5,4,4,5,5,1,0,0,0,5,0,3,0,4,5,1,1,5,4,5,3,3,1,0,0,0,0,1,0,1,0,0,0,4,4,3,3,5,4,3,0,3,5,0,1,0,0,3,0,1,3,0,5,0,5,0,3,5,4,0,5,0,0,3,5,4,4,0,0,5,0,3,0,0,0,3,5,0,3,5,0,1,1,0,5,3,3,1,5,0,0,5,0,5,0,1,5,5,0,4,3,5,5,0,5,3,4,0,0,5,3,5,3,1,0,1,1,3,0,3,3,0,4,3,0,0,3,4,3,0,4,0,0,5,3,5,3,0,3,4,0,5,5,0,3,0,3,0,5,5,1,3,3,5,4,0,0,3,0,1,3,5,5,0,0,5,0,0,0,3,3,0,4,3,4,4,0,3,5,3,3,4,1,0,3,3,5,0,5,4,3,3,5,1,4,5,0,4,0,5,0,0,0,4,3,0,0,5,3,4,5,0,5,3,0,4,5,4,0,0,5,0,5,0,3,0,5,3,4,5,5,4,0,4,0,0,5,5,0,3,0,1,5,3,0,0,3,0,0,0,3,0,3,5,0,4,0,5,3,0,1,3,4,0,0,0,0,5,0,3,3,3,0,1,0,5,0,3,3,0,1,4,0,4,0,3,3,5,0,4,3,3,5,5,3,0,3,4,1,0,4,0,5,5,0,0,0,4,5,4,4,4,3,4,3,0,0,5,4,4,5,0,0,3,3,0,5,4,0,0,0,0,0,1,3,0,5,5,0,5,0,3,0,5,4,1,5,0,1,0,0,5,0,4,0,5,3,3,5,0,5,0,1,3,3,3,5,4,3,4,4,0,0,3,5,3,3,3,3,3,3,0,5,0,4,0,3,5,5,0,4,0,0,0,5,0,3,0,4,3,3,3,1,5,4,4,1,5,4,5,0,5,0,3,0,1,0,0,4,0,3,5,4,5,5,4,0,4,0,3,5,5,0,1,0,3,0,3,5,5,0,0,0,0,5,0,3,0,4,0,0,0,4,5,3,0,0,0,5,5,5,3,0,1,0,4,0,3,5,0,4,0,5,4,4,5,0,5,5,5,5,5,0,0,3,3,0,5,5,0,5,5,0,0,1,0,0,4,0,3,5,0,0,3,3,0,3,0,3,0,1,5,4,1,0,0,5,1,4,1,0,5,1,3,0,5,5,0,0,5,5,5,0,4,3,0,3,0,5,5,0,0,1,1,0,3,0,0,0,4,3,5,5,4,0,0,0,0,0,0,4,5,5,3,0,3,5,5,5,5,0,5,0,1,3,3,4,1,5,0,1,4,4,0,5,1,4,4,0,1,5,3,0,4,5,0,5,3,1,0,0,0,5,0,3,5,1,3,1,3,0,5,3,5,5,5,0,5,3,0,0,0,3,5,0,5,4,5,3,5,1,5,0,3,0,4,1,3,0,0,5,5,3,3,3,1,0,1,0,5,3,5,5,1,5,4,0,1,3,0,3,5,0,0,1,0,4,3,0,5,1,0,3,5,0,5,3,0,0,0,5,0,0,5,5,0,0,0,0,0,3,4,4,3,0,0,0,0,1,3,1,5,3,3,5,0,5,5,0,0,0,0,4,5,0,5,0,5,5,0,0,0,5,5,0,0,0,0,3,5,0,5,0,0,4,4,0,5,0,5,3,5,3,5,3,3,5,0,5,3,5,0,4,4,0,0,1,0,0,4,1,0,5,5,3,3,4,5,0,5,3,0,0,1,0,5,5,3,0,4,3,0,0,0,5,1,0,0,1,5,3,4,0,0,4,0,5,0,0,3,3,5,5,3,1,0,4,4,4,0,0,5,3,5,3,5,4,5,3,5,3,5,3,0,5,5,0,3,1,0,0,0,1,0,5,3,1,5,4,0,4,5,4,3,5,4,3,0,0,3,1,5,1,5,3,3,0,4,5,5,0,5,4,0,0,3,0,3,0,0,1,5,4,0,1,3,3,5,0,3,3,4,3,4,3,0,4,0,5,0,4,3,5,0,4,0,0,0,3,3,5,4,5,5,5,0,3,5,0,5,3,1,0,0,1,3,0,3,0,0,3,5,1,0,4,5,0,0,4,3,0,0,5,0,4,0,3,5,0,5,0,5,5,0,3,5,0,4,0,5,3,3,4,3,4,3,5,3,0,1,3,3,0,3,4,5,4,3,0,5,3,0,3,1,5,4,3,5,3,3,0,1,5,0,3,0,3,5,0,0,4,5,3,3,3,5,0,5,5,0,5,3,4,3,3,5,3,0,4,1,0,3,0,3,5,0,1,5,5,5,4,3,0,1,5,5,0,0,5,0,3,3,3,4,0,0,3,4,4,3,3,3,0,4,1,5,5,0,3,5,4,1,0,5,3,3,5,0,5,5,0,0,0,3,5,5,5,3,0,0,3,1,3,4,0,1,1,0,5,0,3,4,5,4,3,0,1,0,0,0,0,1,0,3,3,1,4,0,3,4,5,5,0,3,3,1,4,4,1,5,5,5,5,4,3,5,3,5,4,5,0,0,4,5,0,1,5,4,4,0,0,3,1,3,5,4,5,5,0,0,0,0,4,4,0,0,5,0,5,3,5,0,0,3,5,0,4,5,4,3,5,0,5,5,0,1,3,0,0,0,3,0,5,3,3,5,4,5,4,0,0,5,0,0,0,5,5,5,3,5,4,0,4,0,5,3,1,5,4,3,5,5,4,4,5,4,0,3,1,4,0,0,0,0,3,0,0,4,0,0,0,3,5,0,0,5,5,3,0,0,3,0,0,5,5,1,5,4,5,0,4,0,5,5,0,5,0,0,0,3,4,5,5,0,3,5,1,4,4,4,4,5,3,5,1,0,3,0,4,5,1,5,4,0,5,0,0,1,5,5,4,4,0,0,5,0,0,1,0,4,4,4,4,0,3,0,3,0,5,0,3,0,3,0,5,3,5,5,0,5,3,4,0,0,3,5,0,0,0,0,3,5,0,5,3,4,0,3,4,0,0,3,0,3,0,5,3,0,5,5,5,3,5,5,5,3,3,3,5,5,0,3,3,0,0,4,0,0,5,3,0,4,3,4,4,5,0,1,0,0,0,5,4,1,0,5,3,4,5,0,3,0,0,3,0,3,3,4,1,3,5,3,0,0,0,3,5,0,5,0,5,0,0,5,5,0,3,5,3,5,5,5,3,0,4,5,0,4,5,0,3,4,0,4,5,5,0,5,3,0,0,3,4,3,5,4,5,0,0,0,5,0,5,1,1,0,0,0,0,5,0,0,3,1,5,1,0,5,4,5,5,5,1,5,0,0,4,1,0,3,3,5,5,5,0,0,4,3,3,0,5,3,3,5,5,1,5,0,5,3,5,0,0,5,0,5,4,5,0,5,1,5,0,0,0,3,0,3,4,5,5,5,0,3,0,0,5,0,0,0,0,0,5,4,0,5,5,0,5,4,5,0,0,0,0,5,3,5,3,0,3,1,4,0,0,0,0,5,0,4,5,0,5,5,0,3,0,0,0,0,1,0,5,0,5,5,3,3,0,3,3,5,5,1,4,0,5,0,0,5,0,5,0,5,1,3,0,5,5,0,0,0,4,0,5,1,3,4,5,0,5,4,3,5,0,3,3,0,0,0,0,0,5,0,1,5,5,4,0,1,0,3,1,4,4,3,3,3,4,5,3,4,5,5,4,4,4,5,5,3,5,5,5,3,3,4,0,5,0,3,0,4,3,0,0,5,3,0,5,0,5,0,0,1,3,5,5,0,4,0,4,5,5,0,0,5,0,0,0,3,5,3,5,5,3,0,3,3,3,3,3,5,4,1,4,4,5,5,4,5,3,5,1,1,5,3,3,5,3,5,3,5,5,3,4,0,4,0,3,5,3,5,3,4,4,5,0,4,0,5,4,1,1,3,3,0,3,5,0,0,4,0,1,5,1,4,4 \n",
    "])"
   ]
  },
  {
   "cell_type": "code",
   "execution_count": 30,
   "id": "c6a6454e",
   "metadata": {},
   "outputs": [
    {
     "data": {
      "text/plain": [
       "(11000, 7045.910384561779)"
      ]
     },
     "execution_count": 30,
     "metadata": {},
     "output_type": "execute_result"
    }
   ],
   "source": [
    "n=1000\n",
    "size=10\n",
    "n+size*n, n*np.log(n) + size * 2*np.log(n)"
   ]
  },
  {
   "cell_type": "code",
   "execution_count": null,
   "id": "b3425124",
   "metadata": {},
   "outputs": [],
   "source": [
    "n*"
   ]
  }
 ],
 "metadata": {
  "kernelspec": {
   "display_name": "Python 3 (ipykernel)",
   "language": "python",
   "name": "python3"
  },
  "language_info": {
   "codemirror_mode": {
    "name": "ipython",
    "version": 3
   },
   "file_extension": ".py",
   "mimetype": "text/x-python",
   "name": "python",
   "nbconvert_exporter": "python",
   "pygments_lexer": "ipython3",
   "version": "3.9.12"
  }
 },
 "nbformat": 4,
 "nbformat_minor": 5
}
